{
 "cells": [
  {
   "cell_type": "markdown",
   "metadata": {
    "collapsed": true,
    "pycharm": {
     "name": "#%% md\n"
    }
   },
   "source": [
    "# Which Countries Love America the Most?\n",
    "\n",
    "\n",
    "## Convert DATA"
   ]
  },
  {
   "cell_type": "code",
   "execution_count": 1,
   "outputs": [],
   "source": [
    "from tld import get_tld\n",
    "\n",
    "def get_domain(url):\n",
    "    res = get_tld(url, as_object=True)\n",
    "    return res.tld"
   ],
   "metadata": {
    "collapsed": false,
    "pycharm": {
     "name": "#%%\n"
    }
   }
  },
  {
   "cell_type": "code",
   "execution_count": 5,
   "outputs": [
    {
     "name": "stdout",
     "output_type": "stream",
     "text": [
      "The output file already exists.\n"
     ]
    }
   ],
   "source": [
    "import bz2\n",
    "import json\n",
    "import os.path\n",
    "\n",
    "path_to_file = './input/quotes-2019-nytimes.json.bz2'\n",
    "path_to_out = './input/quotes-2019-nytimes-domains.json.bz2'\n",
    "\n",
    "if os.path.isfile(path_to_out):\n",
    "    print(\"The output file already exists.\")\n",
    "else:\n",
    "    with bz2.open(path_to_file, 'rb') as s_file:\n",
    "        with bz2.open(path_to_out, 'wb') as d_file:\n",
    "            for instance in s_file:\n",
    "                instance = json.loads(instance) # loading a sample\n",
    "                urls = instance['urls'] # extracting list of links\n",
    "                domains = []\n",
    "                for url in urls:\n",
    "                    tld = get_domain(url)\n",
    "                    domains.append(tld)\n",
    "                instance['domains'] = domains # updating the sample with domain name\n",
    "                d_file.write((json.dumps(instance)+'\\n').encode('utf-8')) # writing in the new file"
   ],
   "metadata": {
    "collapsed": false,
    "pycharm": {
     "name": "#%%\n"
    }
   }
  },
  {
   "cell_type": "markdown",
   "source": [
    "## Load DATA"
   ],
   "metadata": {
    "collapsed": false,
    "pycharm": {
     "name": "#%% md\n"
    }
   }
  },
  {
   "cell_type": "code",
   "execution_count": 14,
   "outputs": [
    {
     "data": {
      "text/plain": "             quoteID                                          quotation  \\\n0  2019-04-17-024782                It is not a low-income immigration,   \n1  2019-04-02-001128  a champion figure skater switching to roller s...   \n2  2019-05-09-055187  It makes it much more difficult for him to mak...   \n3  2019-10-31-056366                       It puts me in a predicament,   \n4  2019-01-04-001792                                  A Pile of Leaves.   \n\n          speaker                                               qids  \\\n0    James Fisher  [Q16213953, Q20707104, Q43143598, Q58886302, Q...   \n1     John Updike                                          [Q105756]   \n2            None                                                 []   \n3  Xavier Becerra                                         [Q1855840]   \n4            None                                                 []   \n\n                  date  numOccurrences  \\\n0  2019-04-17 13:31:18               1   \n1  2019-04-02 14:58:33               2   \n2  2019-05-09 18:11:29               1   \n3  2019-10-31 16:45:15               3   \n4  2019-01-04 10:00:07               1   \n\n                                              probas  \\\n0           [[James Fisher, 0.7475], [None, 0.2525]]   \n1            [[John Updike, 0.5856], [None, 0.4144]]   \n2  [[None, 0.6493], [President Bill Clinton, 0.27...   \n3  [[Xavier Becerra, 0.9065], [None, 0.0909], [St...   \n4          [[None, 0.8737], [Jason Fulford, 0.1263]]   \n\n                                                urls phase          domains  \n0  [https://www.nytimes.com/2019/04/17/realestate...     E            [com]  \n1  [https://www.nytimes.com/2019/04/02/opinion/vl...     E       [com, com]  \n2  [http://mobile.nytimes.com/2019/05/09/world/as...     E            [com]  \n3  [http://www.nytimes.com/2019/10/31/technology/...     E  [com, com, com]  \n4  [https://www.nytimes.com/2019/01/04/books/revi...     E            [com]  ",
      "text/html": "<div>\n<style scoped>\n    .dataframe tbody tr th:only-of-type {\n        vertical-align: middle;\n    }\n\n    .dataframe tbody tr th {\n        vertical-align: top;\n    }\n\n    .dataframe thead th {\n        text-align: right;\n    }\n</style>\n<table border=\"1\" class=\"dataframe\">\n  <thead>\n    <tr style=\"text-align: right;\">\n      <th></th>\n      <th>quoteID</th>\n      <th>quotation</th>\n      <th>speaker</th>\n      <th>qids</th>\n      <th>date</th>\n      <th>numOccurrences</th>\n      <th>probas</th>\n      <th>urls</th>\n      <th>phase</th>\n      <th>domains</th>\n    </tr>\n  </thead>\n  <tbody>\n    <tr>\n      <th>0</th>\n      <td>2019-04-17-024782</td>\n      <td>It is not a low-income immigration,</td>\n      <td>James Fisher</td>\n      <td>[Q16213953, Q20707104, Q43143598, Q58886302, Q...</td>\n      <td>2019-04-17 13:31:18</td>\n      <td>1</td>\n      <td>[[James Fisher, 0.7475], [None, 0.2525]]</td>\n      <td>[https://www.nytimes.com/2019/04/17/realestate...</td>\n      <td>E</td>\n      <td>[com]</td>\n    </tr>\n    <tr>\n      <th>1</th>\n      <td>2019-04-02-001128</td>\n      <td>a champion figure skater switching to roller s...</td>\n      <td>John Updike</td>\n      <td>[Q105756]</td>\n      <td>2019-04-02 14:58:33</td>\n      <td>2</td>\n      <td>[[John Updike, 0.5856], [None, 0.4144]]</td>\n      <td>[https://www.nytimes.com/2019/04/02/opinion/vl...</td>\n      <td>E</td>\n      <td>[com, com]</td>\n    </tr>\n    <tr>\n      <th>2</th>\n      <td>2019-05-09-055187</td>\n      <td>It makes it much more difficult for him to mak...</td>\n      <td>None</td>\n      <td>[]</td>\n      <td>2019-05-09 18:11:29</td>\n      <td>1</td>\n      <td>[[None, 0.6493], [President Bill Clinton, 0.27...</td>\n      <td>[http://mobile.nytimes.com/2019/05/09/world/as...</td>\n      <td>E</td>\n      <td>[com]</td>\n    </tr>\n    <tr>\n      <th>3</th>\n      <td>2019-10-31-056366</td>\n      <td>It puts me in a predicament,</td>\n      <td>Xavier Becerra</td>\n      <td>[Q1855840]</td>\n      <td>2019-10-31 16:45:15</td>\n      <td>3</td>\n      <td>[[Xavier Becerra, 0.9065], [None, 0.0909], [St...</td>\n      <td>[http://www.nytimes.com/2019/10/31/technology/...</td>\n      <td>E</td>\n      <td>[com, com, com]</td>\n    </tr>\n    <tr>\n      <th>4</th>\n      <td>2019-01-04-001792</td>\n      <td>A Pile of Leaves.</td>\n      <td>None</td>\n      <td>[]</td>\n      <td>2019-01-04 10:00:07</td>\n      <td>1</td>\n      <td>[[None, 0.8737], [Jason Fulford, 0.1263]]</td>\n      <td>[https://www.nytimes.com/2019/01/04/books/revi...</td>\n      <td>E</td>\n      <td>[com]</td>\n    </tr>\n  </tbody>\n</table>\n</div>"
     },
     "execution_count": 14,
     "metadata": {},
     "output_type": "execute_result"
    }
   ],
   "source": [
    "from ast import literal_eval\n",
    "import pandas as pd\n",
    "\n",
    "with open('input/data') as f:\n",
    "    data = f.readlines()\n",
    "    data = [literal_eval(x.strip()) for x in data]\n",
    "\n",
    "\n",
    "data = pd.DataFrame(data)\n",
    "data.head()"
   ],
   "metadata": {
    "collapsed": false,
    "pycharm": {
     "name": "#%%\n"
    }
   }
  },
  {
   "cell_type": "code",
   "execution_count": 27,
   "outputs": [
    {
     "name": "stdout",
     "output_type": "stream",
     "text": [
      "Number of filtered quotes 3263 out of 207527\n"
     ]
    },
    {
     "data": {
      "text/plain": "                                             quotation                 speaker\n166  If there was any merit to Macron's interview, ...         Emmanuel Macron\n203  Don't think the U.S. is going to protect you f...           Barnett Rubin\n337  This report's central conclusion is that the U...                    None\n385  Alfred E. Neuman cannot become president of th...  President Donald Trump\n510  A strong U.S.-Philippines alliance deters aggr...                    None",
      "text/html": "<div>\n<style scoped>\n    .dataframe tbody tr th:only-of-type {\n        vertical-align: middle;\n    }\n\n    .dataframe tbody tr th {\n        vertical-align: top;\n    }\n\n    .dataframe thead th {\n        text-align: right;\n    }\n</style>\n<table border=\"1\" class=\"dataframe\">\n  <thead>\n    <tr style=\"text-align: right;\">\n      <th></th>\n      <th>quotation</th>\n      <th>speaker</th>\n    </tr>\n  </thead>\n  <tbody>\n    <tr>\n      <th>166</th>\n      <td>If there was any merit to Macron's interview, ...</td>\n      <td>Emmanuel Macron</td>\n    </tr>\n    <tr>\n      <th>203</th>\n      <td>Don't think the U.S. is going to protect you f...</td>\n      <td>Barnett Rubin</td>\n    </tr>\n    <tr>\n      <th>337</th>\n      <td>This report's central conclusion is that the U...</td>\n      <td>None</td>\n    </tr>\n    <tr>\n      <th>385</th>\n      <td>Alfred E. Neuman cannot become president of th...</td>\n      <td>President Donald Trump</td>\n    </tr>\n    <tr>\n      <th>510</th>\n      <td>A strong U.S.-Philippines alliance deters aggr...</td>\n      <td>None</td>\n    </tr>\n  </tbody>\n</table>\n</div>"
     },
     "execution_count": 27,
     "metadata": {},
     "output_type": "execute_result"
    }
   ],
   "source": [
    "keywords = [\"US\", \"U.S\", \"USA\", \"United States\"]\n",
    "mask = data.quotation.apply(lambda x: any(word in x for word in keywords))\n",
    "US_data = data[mask]\n",
    "\n",
    "print(\"Number of filtered quotes {} out of {}\".format(len(US_data), len(data)))\n",
    "US_data[['quotation', 'speaker']].head()"
   ],
   "metadata": {
    "collapsed": false,
    "pycharm": {
     "name": "#%%\n"
    }
   }
  },
  {
   "cell_type": "markdown",
   "source": [
    "## Load Speakers\n"
   ],
   "metadata": {
    "collapsed": false,
    "pycharm": {
     "name": "#%% md\n"
    }
   }
  },
  {
   "cell_type": "code",
   "execution_count": 31,
   "outputs": [
    {
     "data": {
      "text/plain": "                                             aliases            date_of_birth  \\\n0  [Washington, President Washington, G. Washingt...  [+1732-02-22T00:00:00Z]   \n1  [Douglas Noel Adams, Douglas Noël Adams, Dougl...  [+1952-03-11T00:00:00Z]   \n2      [Paul Marie Ghislain Otlet, Paul Marie Otlet]  [+1868-08-23T00:00:00Z]   \n3  [George Walker Bush, Bush Jr., Dubya, GWB, Bus...  [+1946-07-06T00:00:00Z]   \n4  [Velázquez, Diego Rodríguez de Silva y Velázqu...  [+1599-06-06T00:00:00Z]   \n\n      nationality      gender   lastrevid ethnic_group US_congress_bio_ID  \\\n0  [Q161885, Q30]  [Q6581097]  1395141751         None            W000178   \n1          [Q145]  [Q6581097]  1395737157   [Q7994501]               None   \n2           [Q31]  [Q6581097]  1380367296         None               None   \n3           [Q30]  [Q6581097]  1395142029         None               None   \n4           [Q29]  [Q6581097]  1391704596         None               None   \n\n                                          occupation      party  \\\n0  [Q82955, Q189290, Q131512, Q1734662, Q294126, ...  [Q327591]   \n1  [Q214917, Q28389, Q6625963, Q4853732, Q1884422...       None   \n2  [Q36180, Q40348, Q182436, Q1265807, Q205375, Q...       None   \n3  [Q82955, Q15982858, Q18814623, Q1028181, Q1408...   [Q29468]   \n4                                         [Q1028181]       None   \n\n  academic_degree     id              label  \\\n0            None    Q23  George Washington   \n1            None    Q42      Douglas Adams   \n2            None  Q1868         Paul Otlet   \n3            None   Q207     George W. Bush   \n4            None   Q297    Diego Velázquez   \n\n                                candidacy  type                    religion  \n0                      [Q698073, Q697949]  item                   [Q682443]  \n1                                    None  item                        None  \n2                                    None  item                        None  \n3  [Q327959, Q464075, Q3586276, Q4450587]  item  [Q329646, Q682443, Q33203]  \n4                                    None  item                        None  ",
      "text/html": "<div>\n<style scoped>\n    .dataframe tbody tr th:only-of-type {\n        vertical-align: middle;\n    }\n\n    .dataframe tbody tr th {\n        vertical-align: top;\n    }\n\n    .dataframe thead th {\n        text-align: right;\n    }\n</style>\n<table border=\"1\" class=\"dataframe\">\n  <thead>\n    <tr style=\"text-align: right;\">\n      <th></th>\n      <th>aliases</th>\n      <th>date_of_birth</th>\n      <th>nationality</th>\n      <th>gender</th>\n      <th>lastrevid</th>\n      <th>ethnic_group</th>\n      <th>US_congress_bio_ID</th>\n      <th>occupation</th>\n      <th>party</th>\n      <th>academic_degree</th>\n      <th>id</th>\n      <th>label</th>\n      <th>candidacy</th>\n      <th>type</th>\n      <th>religion</th>\n    </tr>\n  </thead>\n  <tbody>\n    <tr>\n      <th>0</th>\n      <td>[Washington, President Washington, G. Washingt...</td>\n      <td>[+1732-02-22T00:00:00Z]</td>\n      <td>[Q161885, Q30]</td>\n      <td>[Q6581097]</td>\n      <td>1395141751</td>\n      <td>None</td>\n      <td>W000178</td>\n      <td>[Q82955, Q189290, Q131512, Q1734662, Q294126, ...</td>\n      <td>[Q327591]</td>\n      <td>None</td>\n      <td>Q23</td>\n      <td>George Washington</td>\n      <td>[Q698073, Q697949]</td>\n      <td>item</td>\n      <td>[Q682443]</td>\n    </tr>\n    <tr>\n      <th>1</th>\n      <td>[Douglas Noel Adams, Douglas Noël Adams, Dougl...</td>\n      <td>[+1952-03-11T00:00:00Z]</td>\n      <td>[Q145]</td>\n      <td>[Q6581097]</td>\n      <td>1395737157</td>\n      <td>[Q7994501]</td>\n      <td>None</td>\n      <td>[Q214917, Q28389, Q6625963, Q4853732, Q1884422...</td>\n      <td>None</td>\n      <td>None</td>\n      <td>Q42</td>\n      <td>Douglas Adams</td>\n      <td>None</td>\n      <td>item</td>\n      <td>None</td>\n    </tr>\n    <tr>\n      <th>2</th>\n      <td>[Paul Marie Ghislain Otlet, Paul Marie Otlet]</td>\n      <td>[+1868-08-23T00:00:00Z]</td>\n      <td>[Q31]</td>\n      <td>[Q6581097]</td>\n      <td>1380367296</td>\n      <td>None</td>\n      <td>None</td>\n      <td>[Q36180, Q40348, Q182436, Q1265807, Q205375, Q...</td>\n      <td>None</td>\n      <td>None</td>\n      <td>Q1868</td>\n      <td>Paul Otlet</td>\n      <td>None</td>\n      <td>item</td>\n      <td>None</td>\n    </tr>\n    <tr>\n      <th>3</th>\n      <td>[George Walker Bush, Bush Jr., Dubya, GWB, Bus...</td>\n      <td>[+1946-07-06T00:00:00Z]</td>\n      <td>[Q30]</td>\n      <td>[Q6581097]</td>\n      <td>1395142029</td>\n      <td>None</td>\n      <td>None</td>\n      <td>[Q82955, Q15982858, Q18814623, Q1028181, Q1408...</td>\n      <td>[Q29468]</td>\n      <td>None</td>\n      <td>Q207</td>\n      <td>George W. Bush</td>\n      <td>[Q327959, Q464075, Q3586276, Q4450587]</td>\n      <td>item</td>\n      <td>[Q329646, Q682443, Q33203]</td>\n    </tr>\n    <tr>\n      <th>4</th>\n      <td>[Velázquez, Diego Rodríguez de Silva y Velázqu...</td>\n      <td>[+1599-06-06T00:00:00Z]</td>\n      <td>[Q29]</td>\n      <td>[Q6581097]</td>\n      <td>1391704596</td>\n      <td>None</td>\n      <td>None</td>\n      <td>[Q1028181]</td>\n      <td>None</td>\n      <td>None</td>\n      <td>Q297</td>\n      <td>Diego Velázquez</td>\n      <td>None</td>\n      <td>item</td>\n      <td>None</td>\n    </tr>\n  </tbody>\n</table>\n</div>"
     },
     "execution_count": 31,
     "metadata": {},
     "output_type": "execute_result"
    }
   ],
   "source": [
    "speaker_df = pd.read_parquet(\"input/speaker_attributes.parquet\")\n",
    "speaker_df.head()"
   ],
   "metadata": {
    "collapsed": false,
    "pycharm": {
     "name": "#%%\n"
    }
   }
  },
  {
   "cell_type": "markdown",
   "source": [
    "### Drop Quotes with None speakers\n"
   ],
   "metadata": {
    "collapsed": false,
    "pycharm": {
     "name": "#%% md\n"
    }
   }
  },
  {
   "cell_type": "code",
   "execution_count": 52,
   "outputs": [
    {
     "name": "stdout",
     "output_type": "stream",
     "text": [
      "1295 quotes are removed\n"
     ]
    }
   ],
   "source": [
    "drop_mask = US_data[US_data.speaker == \"None\"].index\n",
    "US_data = US_data.drop(drop_mask)\n",
    "print(\"{} quotes are removed\".format(len(drop_mask)))\n"
   ],
   "metadata": {
    "collapsed": false,
    "pycharm": {
     "name": "#%%\n"
    }
   }
  },
  {
   "cell_type": "markdown",
   "source": [
    "### Add nationality to the main df"
   ],
   "metadata": {
    "collapsed": false
   }
  },
  {
   "cell_type": "code",
   "execution_count": 58,
   "outputs": [
    {
     "name": "stdout",
     "output_type": "stream",
     "text": [
      "Before : 1968, After : 1952\n"
     ]
    },
    {
     "data": {
      "text/plain": "             quoteID                                          quotation  \\\n0  2019-12-02-036754  If there was any merit to Macron's interview, ...   \n1  2019-10-24-005377  And I found out via a tweet that the U.S. had ...   \n2  2019-10-24-040910  I understood that we were together in NATO, th...   \n3  2019-08-23-030461   I know the points of disagreement with the U.S.,   \n4  2019-11-07-121863  We should reassess the reality of what Nato is...   \n\n           speaker        qids                 date  numOccurrences  \\\n0  Emmanuel Macron  [Q3052772]  2019-12-02 07:55:07               1   \n1  Emmanuel Macron  [Q3052772]  2019-10-24 07:00:12               1   \n2  Emmanuel Macron  [Q3052772]  2019-10-24 07:00:12               1   \n3  Emmanuel Macron  [Q3052772]  2019-08-23 15:45:54               8   \n4  Emmanuel Macron  [Q3052772]  2019-11-07 10:58:08              11   \n\n                                              probas  \\\n0  [[Emmanuel Macron, 0.6888], [None, 0.1613], [I...   \n1  [[Emmanuel Macron, 0.8426], [None, 0.1444], [M...   \n2  [[Emmanuel Macron, 0.8401], [None, 0.129], [Ma...   \n3  [[Emmanuel Macron, 0.7694], [None, 0.189], [Do...   \n4  [[Emmanuel Macron, 0.6947], [None, 0.1943], [P...   \n\n                                                urls phase  \\\n0  [http://www.nytimes.com/2019/12/02/world/europ...     E   \n1  [https://www.nytimes.com/2019/10/24/world/euro...     E   \n2  [https://www.nytimes.com/2019/10/24/world/euro...     E   \n3  [http://nytimes.com/2019/08/23/us/politics/g7-...     E   \n4  [http://www.breitbart.com/news/nato-allies-cla...     E   \n\n                                             domains speaker_id        id  \\\n0                                              [com]   Q3052772  Q3052772   \n1                                              [com]   Q3052772  Q3052772   \n2                                              [com]   Q3052772  Q3052772   \n3                     [com, com, com, com, com, com]   Q3052772  Q3052772   \n4  [com, com, com, com, com, com, co.za, com, com...   Q3052772  Q3052772   \n\n  nationality  \n0      [Q142]  \n1      [Q142]  \n2      [Q142]  \n3      [Q142]  \n4      [Q142]  ",
      "text/html": "<div>\n<style scoped>\n    .dataframe tbody tr th:only-of-type {\n        vertical-align: middle;\n    }\n\n    .dataframe tbody tr th {\n        vertical-align: top;\n    }\n\n    .dataframe thead th {\n        text-align: right;\n    }\n</style>\n<table border=\"1\" class=\"dataframe\">\n  <thead>\n    <tr style=\"text-align: right;\">\n      <th></th>\n      <th>quoteID</th>\n      <th>quotation</th>\n      <th>speaker</th>\n      <th>qids</th>\n      <th>date</th>\n      <th>numOccurrences</th>\n      <th>probas</th>\n      <th>urls</th>\n      <th>phase</th>\n      <th>domains</th>\n      <th>speaker_id</th>\n      <th>id</th>\n      <th>nationality</th>\n    </tr>\n  </thead>\n  <tbody>\n    <tr>\n      <th>0</th>\n      <td>2019-12-02-036754</td>\n      <td>If there was any merit to Macron's interview, ...</td>\n      <td>Emmanuel Macron</td>\n      <td>[Q3052772]</td>\n      <td>2019-12-02 07:55:07</td>\n      <td>1</td>\n      <td>[[Emmanuel Macron, 0.6888], [None, 0.1613], [I...</td>\n      <td>[http://www.nytimes.com/2019/12/02/world/europ...</td>\n      <td>E</td>\n      <td>[com]</td>\n      <td>Q3052772</td>\n      <td>Q3052772</td>\n      <td>[Q142]</td>\n    </tr>\n    <tr>\n      <th>1</th>\n      <td>2019-10-24-005377</td>\n      <td>And I found out via a tweet that the U.S. had ...</td>\n      <td>Emmanuel Macron</td>\n      <td>[Q3052772]</td>\n      <td>2019-10-24 07:00:12</td>\n      <td>1</td>\n      <td>[[Emmanuel Macron, 0.8426], [None, 0.1444], [M...</td>\n      <td>[https://www.nytimes.com/2019/10/24/world/euro...</td>\n      <td>E</td>\n      <td>[com]</td>\n      <td>Q3052772</td>\n      <td>Q3052772</td>\n      <td>[Q142]</td>\n    </tr>\n    <tr>\n      <th>2</th>\n      <td>2019-10-24-040910</td>\n      <td>I understood that we were together in NATO, th...</td>\n      <td>Emmanuel Macron</td>\n      <td>[Q3052772]</td>\n      <td>2019-10-24 07:00:12</td>\n      <td>1</td>\n      <td>[[Emmanuel Macron, 0.8401], [None, 0.129], [Ma...</td>\n      <td>[https://www.nytimes.com/2019/10/24/world/euro...</td>\n      <td>E</td>\n      <td>[com]</td>\n      <td>Q3052772</td>\n      <td>Q3052772</td>\n      <td>[Q142]</td>\n    </tr>\n    <tr>\n      <th>3</th>\n      <td>2019-08-23-030461</td>\n      <td>I know the points of disagreement with the U.S.,</td>\n      <td>Emmanuel Macron</td>\n      <td>[Q3052772]</td>\n      <td>2019-08-23 15:45:54</td>\n      <td>8</td>\n      <td>[[Emmanuel Macron, 0.7694], [None, 0.189], [Do...</td>\n      <td>[http://nytimes.com/2019/08/23/us/politics/g7-...</td>\n      <td>E</td>\n      <td>[com, com, com, com, com, com]</td>\n      <td>Q3052772</td>\n      <td>Q3052772</td>\n      <td>[Q142]</td>\n    </tr>\n    <tr>\n      <th>4</th>\n      <td>2019-11-07-121863</td>\n      <td>We should reassess the reality of what Nato is...</td>\n      <td>Emmanuel Macron</td>\n      <td>[Q3052772]</td>\n      <td>2019-11-07 10:58:08</td>\n      <td>11</td>\n      <td>[[Emmanuel Macron, 0.6947], [None, 0.1943], [P...</td>\n      <td>[http://www.breitbart.com/news/nato-allies-cla...</td>\n      <td>E</td>\n      <td>[com, com, com, com, com, com, co.za, com, com...</td>\n      <td>Q3052772</td>\n      <td>Q3052772</td>\n      <td>[Q142]</td>\n    </tr>\n  </tbody>\n</table>\n</div>"
     },
     "execution_count": 58,
     "metadata": {},
     "output_type": "execute_result"
    }
   ],
   "source": [
    "US_data[\"speaker_id\"] = US_data.qids.map(lambda x: x[0])\n",
    "US_data.head()\n",
    "\n",
    "speaker_df = speaker_df[['id', 'nationality']]\n",
    "\n",
    "US_merged = pd.merge(US_data, speaker_df, left_on=['speaker_id'], right_on=['id'], how='inner')\n",
    "print(\"Before : {}, After : {}\".format(len(US_data), len(US_merged)))\n",
    "US_merged.head()\n"
   ],
   "metadata": {
    "collapsed": false,
    "pycharm": {
     "name": "#%%\n"
    }
   }
  },
  {
   "cell_type": "markdown",
   "source": [
    "## Get Sentiments"
   ],
   "metadata": {
    "collapsed": false
   }
  },
  {
   "cell_type": "code",
   "execution_count": 59,
   "outputs": [
    {
     "name": "stderr",
     "output_type": "stream",
     "text": [
      "[nltk_data] Downloading package vader_lexicon to\n",
      "[nltk_data]     /home/alireza/nltk_data...\n",
      "[nltk_data]   Package vader_lexicon is already up-to-date!\n"
     ]
    },
    {
     "data": {
      "text/plain": "True"
     },
     "execution_count": 59,
     "metadata": {},
     "output_type": "execute_result"
    }
   ],
   "source": [
    "import nltk\n",
    "from nltk.sentiment import SentimentIntensityAnalyzer\n",
    "nltk.download('vader_lexicon')\n"
   ],
   "metadata": {
    "collapsed": false,
    "pycharm": {
     "name": "#%%\n"
    }
   }
  },
  {
   "cell_type": "code",
   "execution_count": 71,
   "outputs": [
    {
     "data": {
      "text/plain": "             quoteID                                          quotation  \\\n0  2019-12-02-036754  If there was any merit to Macron's interview, ...   \n1  2019-10-24-005377  And I found out via a tweet that the U.S. had ...   \n2  2019-10-24-040910  I understood that we were together in NATO, th...   \n3  2019-08-23-030461   I know the points of disagreement with the U.S.,   \n4  2019-11-07-121863  We should reassess the reality of what Nato is...   \n\n           speaker        qids                 date  numOccurrences  \\\n0  Emmanuel Macron  [Q3052772]  2019-12-02 07:55:07               1   \n1  Emmanuel Macron  [Q3052772]  2019-10-24 07:00:12               1   \n2  Emmanuel Macron  [Q3052772]  2019-10-24 07:00:12               1   \n3  Emmanuel Macron  [Q3052772]  2019-08-23 15:45:54               8   \n4  Emmanuel Macron  [Q3052772]  2019-11-07 10:58:08              11   \n\n                                              probas  \\\n0  [[Emmanuel Macron, 0.6888], [None, 0.1613], [I...   \n1  [[Emmanuel Macron, 0.8426], [None, 0.1444], [M...   \n2  [[Emmanuel Macron, 0.8401], [None, 0.129], [Ma...   \n3  [[Emmanuel Macron, 0.7694], [None, 0.189], [Do...   \n4  [[Emmanuel Macron, 0.6947], [None, 0.1943], [P...   \n\n                                                urls phase  \\\n0  [http://www.nytimes.com/2019/12/02/world/europ...     E   \n1  [https://www.nytimes.com/2019/10/24/world/euro...     E   \n2  [https://www.nytimes.com/2019/10/24/world/euro...     E   \n3  [http://nytimes.com/2019/08/23/us/politics/g7-...     E   \n4  [http://www.breitbart.com/news/nato-allies-cla...     E   \n\n                                             domains speaker_id        id  \\\n0                                              [com]   Q3052772  Q3052772   \n1                                              [com]   Q3052772  Q3052772   \n2                                              [com]   Q3052772  Q3052772   \n3                     [com, com, com, com, com, com]   Q3052772  Q3052772   \n4  [com, com, com, com, com, com, co.za, com, com...   Q3052772  Q3052772   \n\n  nationality  sentiment  \n0      [Q142]     0.6249  \n1      [Q142]     0.0000  \n2      [Q142]     0.0000  \n3      [Q142]    -0.3612  \n4      [Q142]     0.6597  ",
      "text/html": "<div>\n<style scoped>\n    .dataframe tbody tr th:only-of-type {\n        vertical-align: middle;\n    }\n\n    .dataframe tbody tr th {\n        vertical-align: top;\n    }\n\n    .dataframe thead th {\n        text-align: right;\n    }\n</style>\n<table border=\"1\" class=\"dataframe\">\n  <thead>\n    <tr style=\"text-align: right;\">\n      <th></th>\n      <th>quoteID</th>\n      <th>quotation</th>\n      <th>speaker</th>\n      <th>qids</th>\n      <th>date</th>\n      <th>numOccurrences</th>\n      <th>probas</th>\n      <th>urls</th>\n      <th>phase</th>\n      <th>domains</th>\n      <th>speaker_id</th>\n      <th>id</th>\n      <th>nationality</th>\n      <th>sentiment</th>\n    </tr>\n  </thead>\n  <tbody>\n    <tr>\n      <th>0</th>\n      <td>2019-12-02-036754</td>\n      <td>If there was any merit to Macron's interview, ...</td>\n      <td>Emmanuel Macron</td>\n      <td>[Q3052772]</td>\n      <td>2019-12-02 07:55:07</td>\n      <td>1</td>\n      <td>[[Emmanuel Macron, 0.6888], [None, 0.1613], [I...</td>\n      <td>[http://www.nytimes.com/2019/12/02/world/europ...</td>\n      <td>E</td>\n      <td>[com]</td>\n      <td>Q3052772</td>\n      <td>Q3052772</td>\n      <td>[Q142]</td>\n      <td>0.6249</td>\n    </tr>\n    <tr>\n      <th>1</th>\n      <td>2019-10-24-005377</td>\n      <td>And I found out via a tweet that the U.S. had ...</td>\n      <td>Emmanuel Macron</td>\n      <td>[Q3052772]</td>\n      <td>2019-10-24 07:00:12</td>\n      <td>1</td>\n      <td>[[Emmanuel Macron, 0.8426], [None, 0.1444], [M...</td>\n      <td>[https://www.nytimes.com/2019/10/24/world/euro...</td>\n      <td>E</td>\n      <td>[com]</td>\n      <td>Q3052772</td>\n      <td>Q3052772</td>\n      <td>[Q142]</td>\n      <td>0.0000</td>\n    </tr>\n    <tr>\n      <th>2</th>\n      <td>2019-10-24-040910</td>\n      <td>I understood that we were together in NATO, th...</td>\n      <td>Emmanuel Macron</td>\n      <td>[Q3052772]</td>\n      <td>2019-10-24 07:00:12</td>\n      <td>1</td>\n      <td>[[Emmanuel Macron, 0.8401], [None, 0.129], [Ma...</td>\n      <td>[https://www.nytimes.com/2019/10/24/world/euro...</td>\n      <td>E</td>\n      <td>[com]</td>\n      <td>Q3052772</td>\n      <td>Q3052772</td>\n      <td>[Q142]</td>\n      <td>0.0000</td>\n    </tr>\n    <tr>\n      <th>3</th>\n      <td>2019-08-23-030461</td>\n      <td>I know the points of disagreement with the U.S.,</td>\n      <td>Emmanuel Macron</td>\n      <td>[Q3052772]</td>\n      <td>2019-08-23 15:45:54</td>\n      <td>8</td>\n      <td>[[Emmanuel Macron, 0.7694], [None, 0.189], [Do...</td>\n      <td>[http://nytimes.com/2019/08/23/us/politics/g7-...</td>\n      <td>E</td>\n      <td>[com, com, com, com, com, com]</td>\n      <td>Q3052772</td>\n      <td>Q3052772</td>\n      <td>[Q142]</td>\n      <td>-0.3612</td>\n    </tr>\n    <tr>\n      <th>4</th>\n      <td>2019-11-07-121863</td>\n      <td>We should reassess the reality of what Nato is...</td>\n      <td>Emmanuel Macron</td>\n      <td>[Q3052772]</td>\n      <td>2019-11-07 10:58:08</td>\n      <td>11</td>\n      <td>[[Emmanuel Macron, 0.6947], [None, 0.1943], [P...</td>\n      <td>[http://www.breitbart.com/news/nato-allies-cla...</td>\n      <td>E</td>\n      <td>[com, com, com, com, com, com, co.za, com, com...</td>\n      <td>Q3052772</td>\n      <td>Q3052772</td>\n      <td>[Q142]</td>\n      <td>0.6597</td>\n    </tr>\n  </tbody>\n</table>\n</div>"
     },
     "execution_count": 71,
     "metadata": {},
     "output_type": "execute_result"
    }
   ],
   "source": [
    "sia = SentimentIntensityAnalyzer()\n",
    "US_merged[\"sentiment\"] = US_merged.quotation.apply(lambda x: sia.polarity_scores(x)[\"compound\"])\n",
    "US_merged.head()\n"
   ],
   "metadata": {
    "collapsed": false,
    "pycharm": {
     "name": "#%%\n"
    }
   }
  }
 ],
 "metadata": {
  "kernelspec": {
   "display_name": "Python 3",
   "language": "python",
   "name": "python3"
  },
  "language_info": {
   "codemirror_mode": {
    "name": "ipython",
    "version": 2
   },
   "file_extension": ".py",
   "mimetype": "text/x-python",
   "name": "python",
   "nbconvert_exporter": "python",
   "pygments_lexer": "ipython2",
   "version": "2.7.6"
  }
 },
 "nbformat": 4,
 "nbformat_minor": 0
}