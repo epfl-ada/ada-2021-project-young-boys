{
 "cells": [
  {
   "cell_type": "markdown",
   "metadata": {
    "collapsed": true,
    "pycharm": {
     "name": "#%% md\n"
    }
   },
   "source": [
    "# Which Countries Love America the Most?\n",
    "\n",
    "\n",
    "## Convert DATA"
   ]
  },
  {
   "cell_type": "code",
   "execution_count": 1,
   "outputs": [],
   "source": [
    "from tld import get_tld\n",
    "\n",
    "def get_domain(url):\n",
    "    res = get_tld(url, as_object=True)\n",
    "    return res.tld"
   ],
   "metadata": {
    "collapsed": false,
    "pycharm": {
     "name": "#%%\n"
    }
   }
  },
  {
   "cell_type": "code",
   "execution_count": 5,
   "outputs": [
    {
     "name": "stdout",
     "output_type": "stream",
     "text": [
      "The output file already exists.\n"
     ]
    }
   ],
   "source": [
    "import bz2\n",
    "import json\n",
    "import os.path\n",
    "\n",
    "path_to_file = './input/quotes-2019-nytimes.json.bz2'\n",
    "path_to_out = './input/quotes-2019-nytimes-domains.json.bz2'\n",
    "\n",
    "if os.path.isfile(path_to_out):\n",
    "    print(\"The output file already exists.\")\n",
    "else:\n",
    "    with bz2.open(path_to_file, 'rb') as s_file:\n",
    "        with bz2.open(path_to_out, 'wb') as d_file:\n",
    "            for instance in s_file:\n",
    "                instance = json.loads(instance) # loading a sample\n",
    "                urls = instance['urls'] # extracting list of links\n",
    "                domains = []\n",
    "                for url in urls:\n",
    "                    tld = get_domain(url)\n",
    "                    domains.append(tld)\n",
    "                instance['domains'] = domains # updating the sample with domain name\n",
    "                d_file.write((json.dumps(instance)+'\\n').encode('utf-8')) # writing in the new file"
   ],
   "metadata": {
    "collapsed": false,
    "pycharm": {
     "name": "#%%\n"
    }
   }
  },
  {
   "cell_type": "markdown",
   "source": [
    "## Load DATA"
   ],
   "metadata": {
    "collapsed": false,
    "pycharm": {
     "name": "#%% md\n"
    }
   }
  },
  {
   "cell_type": "code",
   "execution_count": 14,
   "outputs": [
    {
     "data": {
      "text/plain": "             quoteID                                          quotation  \\\n0  2019-04-17-024782                It is not a low-income immigration,   \n1  2019-04-02-001128  a champion figure skater switching to roller s...   \n2  2019-05-09-055187  It makes it much more difficult for him to mak...   \n3  2019-10-31-056366                       It puts me in a predicament,   \n4  2019-01-04-001792                                  A Pile of Leaves.   \n\n          speaker                                               qids  \\\n0    James Fisher  [Q16213953, Q20707104, Q43143598, Q58886302, Q...   \n1     John Updike                                          [Q105756]   \n2            None                                                 []   \n3  Xavier Becerra                                         [Q1855840]   \n4            None                                                 []   \n\n                  date  numOccurrences  \\\n0  2019-04-17 13:31:18               1   \n1  2019-04-02 14:58:33               2   \n2  2019-05-09 18:11:29               1   \n3  2019-10-31 16:45:15               3   \n4  2019-01-04 10:00:07               1   \n\n                                              probas  \\\n0           [[James Fisher, 0.7475], [None, 0.2525]]   \n1            [[John Updike, 0.5856], [None, 0.4144]]   \n2  [[None, 0.6493], [President Bill Clinton, 0.27...   \n3  [[Xavier Becerra, 0.9065], [None, 0.0909], [St...   \n4          [[None, 0.8737], [Jason Fulford, 0.1263]]   \n\n                                                urls phase          domains  \n0  [https://www.nytimes.com/2019/04/17/realestate...     E            [com]  \n1  [https://www.nytimes.com/2019/04/02/opinion/vl...     E       [com, com]  \n2  [http://mobile.nytimes.com/2019/05/09/world/as...     E            [com]  \n3  [http://www.nytimes.com/2019/10/31/technology/...     E  [com, com, com]  \n4  [https://www.nytimes.com/2019/01/04/books/revi...     E            [com]  ",
      "text/html": "<div>\n<style scoped>\n    .dataframe tbody tr th:only-of-type {\n        vertical-align: middle;\n    }\n\n    .dataframe tbody tr th {\n        vertical-align: top;\n    }\n\n    .dataframe thead th {\n        text-align: right;\n    }\n</style>\n<table border=\"1\" class=\"dataframe\">\n  <thead>\n    <tr style=\"text-align: right;\">\n      <th></th>\n      <th>quoteID</th>\n      <th>quotation</th>\n      <th>speaker</th>\n      <th>qids</th>\n      <th>date</th>\n      <th>numOccurrences</th>\n      <th>probas</th>\n      <th>urls</th>\n      <th>phase</th>\n      <th>domains</th>\n    </tr>\n  </thead>\n  <tbody>\n    <tr>\n      <th>0</th>\n      <td>2019-04-17-024782</td>\n      <td>It is not a low-income immigration,</td>\n      <td>James Fisher</td>\n      <td>[Q16213953, Q20707104, Q43143598, Q58886302, Q...</td>\n      <td>2019-04-17 13:31:18</td>\n      <td>1</td>\n      <td>[[James Fisher, 0.7475], [None, 0.2525]]</td>\n      <td>[https://www.nytimes.com/2019/04/17/realestate...</td>\n      <td>E</td>\n      <td>[com]</td>\n    </tr>\n    <tr>\n      <th>1</th>\n      <td>2019-04-02-001128</td>\n      <td>a champion figure skater switching to roller s...</td>\n      <td>John Updike</td>\n      <td>[Q105756]</td>\n      <td>2019-04-02 14:58:33</td>\n      <td>2</td>\n      <td>[[John Updike, 0.5856], [None, 0.4144]]</td>\n      <td>[https://www.nytimes.com/2019/04/02/opinion/vl...</td>\n      <td>E</td>\n      <td>[com, com]</td>\n    </tr>\n    <tr>\n      <th>2</th>\n      <td>2019-05-09-055187</td>\n      <td>It makes it much more difficult for him to mak...</td>\n      <td>None</td>\n      <td>[]</td>\n      <td>2019-05-09 18:11:29</td>\n      <td>1</td>\n      <td>[[None, 0.6493], [President Bill Clinton, 0.27...</td>\n      <td>[http://mobile.nytimes.com/2019/05/09/world/as...</td>\n      <td>E</td>\n      <td>[com]</td>\n    </tr>\n    <tr>\n      <th>3</th>\n      <td>2019-10-31-056366</td>\n      <td>It puts me in a predicament,</td>\n      <td>Xavier Becerra</td>\n      <td>[Q1855840]</td>\n      <td>2019-10-31 16:45:15</td>\n      <td>3</td>\n      <td>[[Xavier Becerra, 0.9065], [None, 0.0909], [St...</td>\n      <td>[http://www.nytimes.com/2019/10/31/technology/...</td>\n      <td>E</td>\n      <td>[com, com, com]</td>\n    </tr>\n    <tr>\n      <th>4</th>\n      <td>2019-01-04-001792</td>\n      <td>A Pile of Leaves.</td>\n      <td>None</td>\n      <td>[]</td>\n      <td>2019-01-04 10:00:07</td>\n      <td>1</td>\n      <td>[[None, 0.8737], [Jason Fulford, 0.1263]]</td>\n      <td>[https://www.nytimes.com/2019/01/04/books/revi...</td>\n      <td>E</td>\n      <td>[com]</td>\n    </tr>\n  </tbody>\n</table>\n</div>"
     },
     "execution_count": 14,
     "metadata": {},
     "output_type": "execute_result"
    }
   ],
   "source": [
    "from ast import literal_eval\n",
    "import pandas as pd\n",
    "\n",
    "with open('input/data') as f:\n",
    "    data = f.readlines()\n",
    "    data = [literal_eval(x.strip()) for x in data]\n",
    "\n",
    "\n",
    "data = pd.DataFrame(data)\n",
    "data.head()\n"
   ],
   "metadata": {
    "collapsed": false,
    "pycharm": {
     "name": "#%%\n"
    }
   }
  }
 ],
 "metadata": {
  "kernelspec": {
   "display_name": "Python 3",
   "language": "python",
   "name": "python3"
  },
  "language_info": {
   "codemirror_mode": {
    "name": "ipython",
    "version": 2
   },
   "file_extension": ".py",
   "mimetype": "text/x-python",
   "name": "python",
   "nbconvert_exporter": "python",
   "pygments_lexer": "ipython2",
   "version": "2.7.6"
  }
 },
 "nbformat": 4,
 "nbformat_minor": 0
}