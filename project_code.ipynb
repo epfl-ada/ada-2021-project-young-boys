{
 "cells": [
  {
   "cell_type": "markdown",
   "metadata": {
    "collapsed": true,
    "pycharm": {
     "name": "#%% md\n"
    }
   },
   "source": [
    "# Which Countries Love America the Most?\n",
    "\n",
    "\n",
    "## Convert DATA"
   ]
  },
  {
   "cell_type": "code",
   "execution_count": 1,
   "outputs": [],
   "source": [
    "from tld import get_tld\n",
    "\n",
    "def get_domain(url):\n",
    "    res = get_tld(url, as_object=True)\n",
    "    return res.tld"
   ],
   "metadata": {
    "collapsed": false,
    "pycharm": {
     "name": "#%%\n"
    }
   }
  },
  {
   "cell_type": "code",
   "execution_count": 5,
   "outputs": [
    {
     "name": "stdout",
     "output_type": "stream",
     "text": [
      "The output file already exists.\n"
     ]
    }
   ],
   "source": [
    "import bz2\n",
    "import json\n",
    "import os.path\n",
    "\n",
    "path_to_file = './input/quotes-2019-nytimes.json.bz2'\n",
    "path_to_out = './input/quotes-2019-nytimes-domains.json.bz2'\n",
    "\n",
    "if os.path.isfile(path_to_out):\n",
    "    print(\"The output file already exists.\")\n",
    "else:\n",
    "    with bz2.open(path_to_file, 'rb') as s_file:\n",
    "        with bz2.open(path_to_out, 'wb') as d_file:\n",
    "            for instance in s_file:\n",
    "                instance = json.loads(instance) # loading a sample\n",
    "                urls = instance['urls'] # extracting list of links\n",
    "                domains = []\n",
    "                for url in urls:\n",
    "                    tld = get_domain(url)\n",
    "                    domains.append(tld)\n",
    "                instance['domains'] = domains # updating the sample with domain name\n",
    "                d_file.write((json.dumps(instance)+'\\n').encode('utf-8')) # writing in the new file"
   ],
   "metadata": {
    "collapsed": false,
    "pycharm": {
     "name": "#%%\n"
    }
   }
  },
  {
   "cell_type": "markdown",
   "source": [
    "## Load DATA"
   ],
   "metadata": {
    "collapsed": false,
    "pycharm": {
     "name": "#%% md\n"
    }
   }
  },
  {
   "cell_type": "code",
   "execution_count": 14,
   "outputs": [
    {
     "data": {
      "text/plain": "             quoteID                                          quotation  \\\n0  2019-04-17-024782                It is not a low-income immigration,   \n1  2019-04-02-001128  a champion figure skater switching to roller s...   \n2  2019-05-09-055187  It makes it much more difficult for him to mak...   \n3  2019-10-31-056366                       It puts me in a predicament,   \n4  2019-01-04-001792                                  A Pile of Leaves.   \n\n          speaker                                               qids  \\\n0    James Fisher  [Q16213953, Q20707104, Q43143598, Q58886302, Q...   \n1     John Updike                                          [Q105756]   \n2            None                                                 []   \n3  Xavier Becerra                                         [Q1855840]   \n4            None                                                 []   \n\n                  date  numOccurrences  \\\n0  2019-04-17 13:31:18               1   \n1  2019-04-02 14:58:33               2   \n2  2019-05-09 18:11:29               1   \n3  2019-10-31 16:45:15               3   \n4  2019-01-04 10:00:07               1   \n\n                                              probas  \\\n0           [[James Fisher, 0.7475], [None, 0.2525]]   \n1            [[John Updike, 0.5856], [None, 0.4144]]   \n2  [[None, 0.6493], [President Bill Clinton, 0.27...   \n3  [[Xavier Becerra, 0.9065], [None, 0.0909], [St...   \n4          [[None, 0.8737], [Jason Fulford, 0.1263]]   \n\n                                                urls phase          domains  \n0  [https://www.nytimes.com/2019/04/17/realestate...     E            [com]  \n1  [https://www.nytimes.com/2019/04/02/opinion/vl...     E       [com, com]  \n2  [http://mobile.nytimes.com/2019/05/09/world/as...     E            [com]  \n3  [http://www.nytimes.com/2019/10/31/technology/...     E  [com, com, com]  \n4  [https://www.nytimes.com/2019/01/04/books/revi...     E            [com]  ",
      "text/html": "<div>\n<style scoped>\n    .dataframe tbody tr th:only-of-type {\n        vertical-align: middle;\n    }\n\n    .dataframe tbody tr th {\n        vertical-align: top;\n    }\n\n    .dataframe thead th {\n        text-align: right;\n    }\n</style>\n<table border=\"1\" class=\"dataframe\">\n  <thead>\n    <tr style=\"text-align: right;\">\n      <th></th>\n      <th>quoteID</th>\n      <th>quotation</th>\n      <th>speaker</th>\n      <th>qids</th>\n      <th>date</th>\n      <th>numOccurrences</th>\n      <th>probas</th>\n      <th>urls</th>\n      <th>phase</th>\n      <th>domains</th>\n    </tr>\n  </thead>\n  <tbody>\n    <tr>\n      <th>0</th>\n      <td>2019-04-17-024782</td>\n      <td>It is not a low-income immigration,</td>\n      <td>James Fisher</td>\n      <td>[Q16213953, Q20707104, Q43143598, Q58886302, Q...</td>\n      <td>2019-04-17 13:31:18</td>\n      <td>1</td>\n      <td>[[James Fisher, 0.7475], [None, 0.2525]]</td>\n      <td>[https://www.nytimes.com/2019/04/17/realestate...</td>\n      <td>E</td>\n      <td>[com]</td>\n    </tr>\n    <tr>\n      <th>1</th>\n      <td>2019-04-02-001128</td>\n      <td>a champion figure skater switching to roller s...</td>\n      <td>John Updike</td>\n      <td>[Q105756]</td>\n      <td>2019-04-02 14:58:33</td>\n      <td>2</td>\n      <td>[[John Updike, 0.5856], [None, 0.4144]]</td>\n      <td>[https://www.nytimes.com/2019/04/02/opinion/vl...</td>\n      <td>E</td>\n      <td>[com, com]</td>\n    </tr>\n    <tr>\n      <th>2</th>\n      <td>2019-05-09-055187</td>\n      <td>It makes it much more difficult for him to mak...</td>\n      <td>None</td>\n      <td>[]</td>\n      <td>2019-05-09 18:11:29</td>\n      <td>1</td>\n      <td>[[None, 0.6493], [President Bill Clinton, 0.27...</td>\n      <td>[http://mobile.nytimes.com/2019/05/09/world/as...</td>\n      <td>E</td>\n      <td>[com]</td>\n    </tr>\n    <tr>\n      <th>3</th>\n      <td>2019-10-31-056366</td>\n      <td>It puts me in a predicament,</td>\n      <td>Xavier Becerra</td>\n      <td>[Q1855840]</td>\n      <td>2019-10-31 16:45:15</td>\n      <td>3</td>\n      <td>[[Xavier Becerra, 0.9065], [None, 0.0909], [St...</td>\n      <td>[http://www.nytimes.com/2019/10/31/technology/...</td>\n      <td>E</td>\n      <td>[com, com, com]</td>\n    </tr>\n    <tr>\n      <th>4</th>\n      <td>2019-01-04-001792</td>\n      <td>A Pile of Leaves.</td>\n      <td>None</td>\n      <td>[]</td>\n      <td>2019-01-04 10:00:07</td>\n      <td>1</td>\n      <td>[[None, 0.8737], [Jason Fulford, 0.1263]]</td>\n      <td>[https://www.nytimes.com/2019/01/04/books/revi...</td>\n      <td>E</td>\n      <td>[com]</td>\n    </tr>\n  </tbody>\n</table>\n</div>"
     },
     "execution_count": 14,
     "metadata": {},
     "output_type": "execute_result"
    }
   ],
   "source": [
    "from ast import literal_eval\n",
    "import pandas as pd\n",
    "\n",
    "with open('input/data') as f:\n",
    "    data = f.readlines()\n",
    "    data = [literal_eval(x.strip()) for x in data]\n",
    "\n",
    "\n",
    "data = pd.DataFrame(data)\n",
    "data.head()"
   ],
   "metadata": {
    "collapsed": false,
    "pycharm": {
     "name": "#%%\n"
    }
   }
  },
  {
   "cell_type": "code",
   "execution_count": 27,
   "outputs": [
    {
     "name": "stdout",
     "output_type": "stream",
     "text": [
      "Number of filtered quotes 3263 out of 207527\n"
     ]
    },
    {
     "data": {
      "text/plain": "                                             quotation                 speaker\n166  If there was any merit to Macron's interview, ...         Emmanuel Macron\n203  Don't think the U.S. is going to protect you f...           Barnett Rubin\n337  This report's central conclusion is that the U...                    None\n385  Alfred E. Neuman cannot become president of th...  President Donald Trump\n510  A strong U.S.-Philippines alliance deters aggr...                    None",
      "text/html": "<div>\n<style scoped>\n    .dataframe tbody tr th:only-of-type {\n        vertical-align: middle;\n    }\n\n    .dataframe tbody tr th {\n        vertical-align: top;\n    }\n\n    .dataframe thead th {\n        text-align: right;\n    }\n</style>\n<table border=\"1\" class=\"dataframe\">\n  <thead>\n    <tr style=\"text-align: right;\">\n      <th></th>\n      <th>quotation</th>\n      <th>speaker</th>\n    </tr>\n  </thead>\n  <tbody>\n    <tr>\n      <th>166</th>\n      <td>If there was any merit to Macron's interview, ...</td>\n      <td>Emmanuel Macron</td>\n    </tr>\n    <tr>\n      <th>203</th>\n      <td>Don't think the U.S. is going to protect you f...</td>\n      <td>Barnett Rubin</td>\n    </tr>\n    <tr>\n      <th>337</th>\n      <td>This report's central conclusion is that the U...</td>\n      <td>None</td>\n    </tr>\n    <tr>\n      <th>385</th>\n      <td>Alfred E. Neuman cannot become president of th...</td>\n      <td>President Donald Trump</td>\n    </tr>\n    <tr>\n      <th>510</th>\n      <td>A strong U.S.-Philippines alliance deters aggr...</td>\n      <td>None</td>\n    </tr>\n  </tbody>\n</table>\n</div>"
     },
     "execution_count": 27,
     "metadata": {},
     "output_type": "execute_result"
    }
   ],
   "source": [
    "keywords = [\"US\", \"U.S\", \"USA\", \"United States\"]\n",
    "mask = data.quotation.apply(lambda x: any(word in x for word in keywords))\n",
    "US_data = data[mask]\n",
    "\n",
    "print(\"Number of filtered quotes {} out of {}\".format(len(US_data), len(data)))\n",
    "US_data[['quotation', 'speaker']].head()"
   ],
   "metadata": {
    "collapsed": false,
    "pycharm": {
     "name": "#%%\n"
    }
   }
  },
  {
   "cell_type": "markdown",
   "source": [
    "## Load Speakers\n"
   ],
   "metadata": {
    "collapsed": false,
    "pycharm": {
     "name": "#%% md\n"
    }
   }
  },
  {
   "cell_type": "code",
   "execution_count": 31,
   "outputs": [
    {
     "data": {
      "text/plain": "                                             aliases            date_of_birth  \\\n0  [Washington, President Washington, G. Washingt...  [+1732-02-22T00:00:00Z]   \n1  [Douglas Noel Adams, Douglas Noël Adams, Dougl...  [+1952-03-11T00:00:00Z]   \n2      [Paul Marie Ghislain Otlet, Paul Marie Otlet]  [+1868-08-23T00:00:00Z]   \n3  [George Walker Bush, Bush Jr., Dubya, GWB, Bus...  [+1946-07-06T00:00:00Z]   \n4  [Velázquez, Diego Rodríguez de Silva y Velázqu...  [+1599-06-06T00:00:00Z]   \n\n      nationality      gender   lastrevid ethnic_group US_congress_bio_ID  \\\n0  [Q161885, Q30]  [Q6581097]  1395141751         None            W000178   \n1          [Q145]  [Q6581097]  1395737157   [Q7994501]               None   \n2           [Q31]  [Q6581097]  1380367296         None               None   \n3           [Q30]  [Q6581097]  1395142029         None               None   \n4           [Q29]  [Q6581097]  1391704596         None               None   \n\n                                          occupation      party  \\\n0  [Q82955, Q189290, Q131512, Q1734662, Q294126, ...  [Q327591]   \n1  [Q214917, Q28389, Q6625963, Q4853732, Q1884422...       None   \n2  [Q36180, Q40348, Q182436, Q1265807, Q205375, Q...       None   \n3  [Q82955, Q15982858, Q18814623, Q1028181, Q1408...   [Q29468]   \n4                                         [Q1028181]       None   \n\n  academic_degree     id              label  \\\n0            None    Q23  George Washington   \n1            None    Q42      Douglas Adams   \n2            None  Q1868         Paul Otlet   \n3            None   Q207     George W. Bush   \n4            None   Q297    Diego Velázquez   \n\n                                candidacy  type                    religion  \n0                      [Q698073, Q697949]  item                   [Q682443]  \n1                                    None  item                        None  \n2                                    None  item                        None  \n3  [Q327959, Q464075, Q3586276, Q4450587]  item  [Q329646, Q682443, Q33203]  \n4                                    None  item                        None  ",
      "text/html": "<div>\n<style scoped>\n    .dataframe tbody tr th:only-of-type {\n        vertical-align: middle;\n    }\n\n    .dataframe tbody tr th {\n        vertical-align: top;\n    }\n\n    .dataframe thead th {\n        text-align: right;\n    }\n</style>\n<table border=\"1\" class=\"dataframe\">\n  <thead>\n    <tr style=\"text-align: right;\">\n      <th></th>\n      <th>aliases</th>\n      <th>date_of_birth</th>\n      <th>nationality</th>\n      <th>gender</th>\n      <th>lastrevid</th>\n      <th>ethnic_group</th>\n      <th>US_congress_bio_ID</th>\n      <th>occupation</th>\n      <th>party</th>\n      <th>academic_degree</th>\n      <th>id</th>\n      <th>label</th>\n      <th>candidacy</th>\n      <th>type</th>\n      <th>religion</th>\n    </tr>\n  </thead>\n  <tbody>\n    <tr>\n      <th>0</th>\n      <td>[Washington, President Washington, G. Washingt...</td>\n      <td>[+1732-02-22T00:00:00Z]</td>\n      <td>[Q161885, Q30]</td>\n      <td>[Q6581097]</td>\n      <td>1395141751</td>\n      <td>None</td>\n      <td>W000178</td>\n      <td>[Q82955, Q189290, Q131512, Q1734662, Q294126, ...</td>\n      <td>[Q327591]</td>\n      <td>None</td>\n      <td>Q23</td>\n      <td>George Washington</td>\n      <td>[Q698073, Q697949]</td>\n      <td>item</td>\n      <td>[Q682443]</td>\n    </tr>\n    <tr>\n      <th>1</th>\n      <td>[Douglas Noel Adams, Douglas Noël Adams, Dougl...</td>\n      <td>[+1952-03-11T00:00:00Z]</td>\n      <td>[Q145]</td>\n      <td>[Q6581097]</td>\n      <td>1395737157</td>\n      <td>[Q7994501]</td>\n      <td>None</td>\n      <td>[Q214917, Q28389, Q6625963, Q4853732, Q1884422...</td>\n      <td>None</td>\n      <td>None</td>\n      <td>Q42</td>\n      <td>Douglas Adams</td>\n      <td>None</td>\n      <td>item</td>\n      <td>None</td>\n    </tr>\n    <tr>\n      <th>2</th>\n      <td>[Paul Marie Ghislain Otlet, Paul Marie Otlet]</td>\n      <td>[+1868-08-23T00:00:00Z]</td>\n      <td>[Q31]</td>\n      <td>[Q6581097]</td>\n      <td>1380367296</td>\n      <td>None</td>\n      <td>None</td>\n      <td>[Q36180, Q40348, Q182436, Q1265807, Q205375, Q...</td>\n      <td>None</td>\n      <td>None</td>\n      <td>Q1868</td>\n      <td>Paul Otlet</td>\n      <td>None</td>\n      <td>item</td>\n      <td>None</td>\n    </tr>\n    <tr>\n      <th>3</th>\n      <td>[George Walker Bush, Bush Jr., Dubya, GWB, Bus...</td>\n      <td>[+1946-07-06T00:00:00Z]</td>\n      <td>[Q30]</td>\n      <td>[Q6581097]</td>\n      <td>1395142029</td>\n      <td>None</td>\n      <td>None</td>\n      <td>[Q82955, Q15982858, Q18814623, Q1028181, Q1408...</td>\n      <td>[Q29468]</td>\n      <td>None</td>\n      <td>Q207</td>\n      <td>George W. Bush</td>\n      <td>[Q327959, Q464075, Q3586276, Q4450587]</td>\n      <td>item</td>\n      <td>[Q329646, Q682443, Q33203]</td>\n    </tr>\n    <tr>\n      <th>4</th>\n      <td>[Velázquez, Diego Rodríguez de Silva y Velázqu...</td>\n      <td>[+1599-06-06T00:00:00Z]</td>\n      <td>[Q29]</td>\n      <td>[Q6581097]</td>\n      <td>1391704596</td>\n      <td>None</td>\n      <td>None</td>\n      <td>[Q1028181]</td>\n      <td>None</td>\n      <td>None</td>\n      <td>Q297</td>\n      <td>Diego Velázquez</td>\n      <td>None</td>\n      <td>item</td>\n      <td>None</td>\n    </tr>\n  </tbody>\n</table>\n</div>"
     },
     "execution_count": 31,
     "metadata": {},
     "output_type": "execute_result"
    }
   ],
   "source": [
    "speaker_df = pd.read_parquet(\"input/speaker_attributes.parquet\")\n",
    "speaker_df.head()"
   ],
   "metadata": {
    "collapsed": false,
    "pycharm": {
     "name": "#%%\n"
    }
   }
  },
  {
   "cell_type": "markdown",
   "source": [
    "### Drop Quotes with None speakers\n"
   ],
   "metadata": {
    "collapsed": false,
    "pycharm": {
     "name": "#%% md\n"
    }
   }
  },
  {
   "cell_type": "code",
   "execution_count": 52,
   "outputs": [
    {
     "name": "stdout",
     "output_type": "stream",
     "text": [
      "1295 quotes are removed\n"
     ]
    }
   ],
   "source": [
    "drop_mask = US_data[US_data.speaker == \"None\"].index\n",
    "US_data = US_data.drop(drop_mask)\n",
    "print(\"{} quotes are removed\".format(len(drop_mask)))\n"
   ],
   "metadata": {
    "collapsed": false,
    "pycharm": {
     "name": "#%%\n"
    }
   }
  },
  {
   "cell_type": "markdown",
   "source": [
    "### Add nationality to the main df"
   ],
   "metadata": {
    "collapsed": false
   }
  },
  {
   "cell_type": "code",
   "execution_count": 134,
   "outputs": [
    {
     "name": "stdout",
     "output_type": "stream",
     "text": [
      "Before : 1968, After : 1952\n"
     ]
    },
    {
     "data": {
      "text/plain": "             quoteID                                          quotation  \\\n0  2019-12-02-036754  If there was any merit to Macron's interview, ...   \n1  2019-10-24-005377  And I found out via a tweet that the U.S. had ...   \n2  2019-10-24-040910  I understood that we were together in NATO, th...   \n3  2019-08-23-030461   I know the points of disagreement with the U.S.,   \n4  2019-11-07-121863  We should reassess the reality of what Nato is...   \n\n           speaker        qids                 date  numOccurrences  \\\n0  Emmanuel Macron  [Q3052772]  2019-12-02 07:55:07               1   \n1  Emmanuel Macron  [Q3052772]  2019-10-24 07:00:12               1   \n2  Emmanuel Macron  [Q3052772]  2019-10-24 07:00:12               1   \n3  Emmanuel Macron  [Q3052772]  2019-08-23 15:45:54               8   \n4  Emmanuel Macron  [Q3052772]  2019-11-07 10:58:08              11   \n\n                                              probas  \\\n0  [[Emmanuel Macron, 0.6888], [None, 0.1613], [I...   \n1  [[Emmanuel Macron, 0.8426], [None, 0.1444], [M...   \n2  [[Emmanuel Macron, 0.8401], [None, 0.129], [Ma...   \n3  [[Emmanuel Macron, 0.7694], [None, 0.189], [Do...   \n4  [[Emmanuel Macron, 0.6947], [None, 0.1943], [P...   \n\n                                                urls phase  \\\n0  [http://www.nytimes.com/2019/12/02/world/europ...     E   \n1  [https://www.nytimes.com/2019/10/24/world/euro...     E   \n2  [https://www.nytimes.com/2019/10/24/world/euro...     E   \n3  [http://nytimes.com/2019/08/23/us/politics/g7-...     E   \n4  [http://www.breitbart.com/news/nato-allies-cla...     E   \n\n                                             domains speaker_id        id  \\\n0                                              [com]   Q3052772  Q3052772   \n1                                              [com]   Q3052772  Q3052772   \n2                                              [com]   Q3052772  Q3052772   \n3                     [com, com, com, com, com, com]   Q3052772  Q3052772   \n4  [com, com, com, com, com, com, co.za, com, com...   Q3052772  Q3052772   \n\n  nationality  \n0      [Q142]  \n1      [Q142]  \n2      [Q142]  \n3      [Q142]  \n4      [Q142]  ",
      "text/html": "<div>\n<style scoped>\n    .dataframe tbody tr th:only-of-type {\n        vertical-align: middle;\n    }\n\n    .dataframe tbody tr th {\n        vertical-align: top;\n    }\n\n    .dataframe thead th {\n        text-align: right;\n    }\n</style>\n<table border=\"1\" class=\"dataframe\">\n  <thead>\n    <tr style=\"text-align: right;\">\n      <th></th>\n      <th>quoteID</th>\n      <th>quotation</th>\n      <th>speaker</th>\n      <th>qids</th>\n      <th>date</th>\n      <th>numOccurrences</th>\n      <th>probas</th>\n      <th>urls</th>\n      <th>phase</th>\n      <th>domains</th>\n      <th>speaker_id</th>\n      <th>id</th>\n      <th>nationality</th>\n    </tr>\n  </thead>\n  <tbody>\n    <tr>\n      <th>0</th>\n      <td>2019-12-02-036754</td>\n      <td>If there was any merit to Macron's interview, ...</td>\n      <td>Emmanuel Macron</td>\n      <td>[Q3052772]</td>\n      <td>2019-12-02 07:55:07</td>\n      <td>1</td>\n      <td>[[Emmanuel Macron, 0.6888], [None, 0.1613], [I...</td>\n      <td>[http://www.nytimes.com/2019/12/02/world/europ...</td>\n      <td>E</td>\n      <td>[com]</td>\n      <td>Q3052772</td>\n      <td>Q3052772</td>\n      <td>[Q142]</td>\n    </tr>\n    <tr>\n      <th>1</th>\n      <td>2019-10-24-005377</td>\n      <td>And I found out via a tweet that the U.S. had ...</td>\n      <td>Emmanuel Macron</td>\n      <td>[Q3052772]</td>\n      <td>2019-10-24 07:00:12</td>\n      <td>1</td>\n      <td>[[Emmanuel Macron, 0.8426], [None, 0.1444], [M...</td>\n      <td>[https://www.nytimes.com/2019/10/24/world/euro...</td>\n      <td>E</td>\n      <td>[com]</td>\n      <td>Q3052772</td>\n      <td>Q3052772</td>\n      <td>[Q142]</td>\n    </tr>\n    <tr>\n      <th>2</th>\n      <td>2019-10-24-040910</td>\n      <td>I understood that we were together in NATO, th...</td>\n      <td>Emmanuel Macron</td>\n      <td>[Q3052772]</td>\n      <td>2019-10-24 07:00:12</td>\n      <td>1</td>\n      <td>[[Emmanuel Macron, 0.8401], [None, 0.129], [Ma...</td>\n      <td>[https://www.nytimes.com/2019/10/24/world/euro...</td>\n      <td>E</td>\n      <td>[com]</td>\n      <td>Q3052772</td>\n      <td>Q3052772</td>\n      <td>[Q142]</td>\n    </tr>\n    <tr>\n      <th>3</th>\n      <td>2019-08-23-030461</td>\n      <td>I know the points of disagreement with the U.S.,</td>\n      <td>Emmanuel Macron</td>\n      <td>[Q3052772]</td>\n      <td>2019-08-23 15:45:54</td>\n      <td>8</td>\n      <td>[[Emmanuel Macron, 0.7694], [None, 0.189], [Do...</td>\n      <td>[http://nytimes.com/2019/08/23/us/politics/g7-...</td>\n      <td>E</td>\n      <td>[com, com, com, com, com, com]</td>\n      <td>Q3052772</td>\n      <td>Q3052772</td>\n      <td>[Q142]</td>\n    </tr>\n    <tr>\n      <th>4</th>\n      <td>2019-11-07-121863</td>\n      <td>We should reassess the reality of what Nato is...</td>\n      <td>Emmanuel Macron</td>\n      <td>[Q3052772]</td>\n      <td>2019-11-07 10:58:08</td>\n      <td>11</td>\n      <td>[[Emmanuel Macron, 0.6947], [None, 0.1943], [P...</td>\n      <td>[http://www.breitbart.com/news/nato-allies-cla...</td>\n      <td>E</td>\n      <td>[com, com, com, com, com, com, co.za, com, com...</td>\n      <td>Q3052772</td>\n      <td>Q3052772</td>\n      <td>[Q142]</td>\n    </tr>\n  </tbody>\n</table>\n</div>"
     },
     "execution_count": 134,
     "metadata": {},
     "output_type": "execute_result"
    }
   ],
   "source": [
    "US_data[\"speaker_id\"] = US_data.qids.map(lambda x: x[0])\n",
    "US_data.head()\n",
    "\n",
    "speaker_df = speaker_df[['id', 'nationality']]\n",
    "\n",
    "US_merged = pd.merge(US_data, speaker_df, left_on=['speaker_id'], right_on=['id'], how='inner')\n",
    "print(\"Before : {}, After : {}\".format(len(US_data), len(US_merged)))\n",
    "US_merged.head()\n"
   ],
   "metadata": {
    "collapsed": false,
    "pycharm": {
     "name": "#%%\n"
    }
   }
  },
  {
   "cell_type": "markdown",
   "source": [
    "## Get Sentiments"
   ],
   "metadata": {
    "collapsed": false
   }
  },
  {
   "cell_type": "code",
   "execution_count": 100,
   "outputs": [
    {
     "name": "stderr",
     "output_type": "stream",
     "text": [
      "[nltk_data] Downloading package vader_lexicon to\n",
      "[nltk_data]     /home/alireza/nltk_data...\n",
      "[nltk_data]   Package vader_lexicon is already up-to-date!\n"
     ]
    },
    {
     "data": {
      "text/plain": "True"
     },
     "execution_count": 100,
     "metadata": {},
     "output_type": "execute_result"
    }
   ],
   "source": [
    "import nltk\n",
    "from nltk.sentiment import SentimentIntensityAnalyzer\n",
    "nltk.download('vader_lexicon')\n"
   ],
   "metadata": {
    "collapsed": false,
    "pycharm": {
     "name": "#%%\n"
    }
   }
  },
  {
   "cell_type": "code",
   "execution_count": 135,
   "outputs": [
    {
     "data": {
      "text/plain": "             quoteID                                          quotation  \\\n0  2019-12-02-036754  If there was any merit to Macron's interview, ...   \n1  2019-10-24-005377  And I found out via a tweet that the U.S. had ...   \n2  2019-10-24-040910  I understood that we were together in NATO, th...   \n3  2019-08-23-030461   I know the points of disagreement with the U.S.,   \n4  2019-11-07-121863  We should reassess the reality of what Nato is...   \n\n           speaker        qids                 date  numOccurrences  \\\n0  Emmanuel Macron  [Q3052772]  2019-12-02 07:55:07               1   \n1  Emmanuel Macron  [Q3052772]  2019-10-24 07:00:12               1   \n2  Emmanuel Macron  [Q3052772]  2019-10-24 07:00:12               1   \n3  Emmanuel Macron  [Q3052772]  2019-08-23 15:45:54               8   \n4  Emmanuel Macron  [Q3052772]  2019-11-07 10:58:08              11   \n\n                                              probas  \\\n0  [[Emmanuel Macron, 0.6888], [None, 0.1613], [I...   \n1  [[Emmanuel Macron, 0.8426], [None, 0.1444], [M...   \n2  [[Emmanuel Macron, 0.8401], [None, 0.129], [Ma...   \n3  [[Emmanuel Macron, 0.7694], [None, 0.189], [Do...   \n4  [[Emmanuel Macron, 0.6947], [None, 0.1943], [P...   \n\n                                                urls phase  \\\n0  [http://www.nytimes.com/2019/12/02/world/europ...     E   \n1  [https://www.nytimes.com/2019/10/24/world/euro...     E   \n2  [https://www.nytimes.com/2019/10/24/world/euro...     E   \n3  [http://nytimes.com/2019/08/23/us/politics/g7-...     E   \n4  [http://www.breitbart.com/news/nato-allies-cla...     E   \n\n                                             domains speaker_id        id  \\\n0                                              [com]   Q3052772  Q3052772   \n1                                              [com]   Q3052772  Q3052772   \n2                                              [com]   Q3052772  Q3052772   \n3                     [com, com, com, com, com, com]   Q3052772  Q3052772   \n4  [com, com, com, com, com, com, co.za, com, com...   Q3052772  Q3052772   \n\n  nationality  sentiment  \n0      [Q142]     0.6249  \n1      [Q142]     0.0000  \n2      [Q142]     0.0000  \n3      [Q142]    -0.3612  \n4      [Q142]     0.6597  ",
      "text/html": "<div>\n<style scoped>\n    .dataframe tbody tr th:only-of-type {\n        vertical-align: middle;\n    }\n\n    .dataframe tbody tr th {\n        vertical-align: top;\n    }\n\n    .dataframe thead th {\n        text-align: right;\n    }\n</style>\n<table border=\"1\" class=\"dataframe\">\n  <thead>\n    <tr style=\"text-align: right;\">\n      <th></th>\n      <th>quoteID</th>\n      <th>quotation</th>\n      <th>speaker</th>\n      <th>qids</th>\n      <th>date</th>\n      <th>numOccurrences</th>\n      <th>probas</th>\n      <th>urls</th>\n      <th>phase</th>\n      <th>domains</th>\n      <th>speaker_id</th>\n      <th>id</th>\n      <th>nationality</th>\n      <th>sentiment</th>\n    </tr>\n  </thead>\n  <tbody>\n    <tr>\n      <th>0</th>\n      <td>2019-12-02-036754</td>\n      <td>If there was any merit to Macron's interview, ...</td>\n      <td>Emmanuel Macron</td>\n      <td>[Q3052772]</td>\n      <td>2019-12-02 07:55:07</td>\n      <td>1</td>\n      <td>[[Emmanuel Macron, 0.6888], [None, 0.1613], [I...</td>\n      <td>[http://www.nytimes.com/2019/12/02/world/europ...</td>\n      <td>E</td>\n      <td>[com]</td>\n      <td>Q3052772</td>\n      <td>Q3052772</td>\n      <td>[Q142]</td>\n      <td>0.6249</td>\n    </tr>\n    <tr>\n      <th>1</th>\n      <td>2019-10-24-005377</td>\n      <td>And I found out via a tweet that the U.S. had ...</td>\n      <td>Emmanuel Macron</td>\n      <td>[Q3052772]</td>\n      <td>2019-10-24 07:00:12</td>\n      <td>1</td>\n      <td>[[Emmanuel Macron, 0.8426], [None, 0.1444], [M...</td>\n      <td>[https://www.nytimes.com/2019/10/24/world/euro...</td>\n      <td>E</td>\n      <td>[com]</td>\n      <td>Q3052772</td>\n      <td>Q3052772</td>\n      <td>[Q142]</td>\n      <td>0.0000</td>\n    </tr>\n    <tr>\n      <th>2</th>\n      <td>2019-10-24-040910</td>\n      <td>I understood that we were together in NATO, th...</td>\n      <td>Emmanuel Macron</td>\n      <td>[Q3052772]</td>\n      <td>2019-10-24 07:00:12</td>\n      <td>1</td>\n      <td>[[Emmanuel Macron, 0.8401], [None, 0.129], [Ma...</td>\n      <td>[https://www.nytimes.com/2019/10/24/world/euro...</td>\n      <td>E</td>\n      <td>[com]</td>\n      <td>Q3052772</td>\n      <td>Q3052772</td>\n      <td>[Q142]</td>\n      <td>0.0000</td>\n    </tr>\n    <tr>\n      <th>3</th>\n      <td>2019-08-23-030461</td>\n      <td>I know the points of disagreement with the U.S.,</td>\n      <td>Emmanuel Macron</td>\n      <td>[Q3052772]</td>\n      <td>2019-08-23 15:45:54</td>\n      <td>8</td>\n      <td>[[Emmanuel Macron, 0.7694], [None, 0.189], [Do...</td>\n      <td>[http://nytimes.com/2019/08/23/us/politics/g7-...</td>\n      <td>E</td>\n      <td>[com, com, com, com, com, com]</td>\n      <td>Q3052772</td>\n      <td>Q3052772</td>\n      <td>[Q142]</td>\n      <td>-0.3612</td>\n    </tr>\n    <tr>\n      <th>4</th>\n      <td>2019-11-07-121863</td>\n      <td>We should reassess the reality of what Nato is...</td>\n      <td>Emmanuel Macron</td>\n      <td>[Q3052772]</td>\n      <td>2019-11-07 10:58:08</td>\n      <td>11</td>\n      <td>[[Emmanuel Macron, 0.6947], [None, 0.1943], [P...</td>\n      <td>[http://www.breitbart.com/news/nato-allies-cla...</td>\n      <td>E</td>\n      <td>[com, com, com, com, com, com, co.za, com, com...</td>\n      <td>Q3052772</td>\n      <td>Q3052772</td>\n      <td>[Q142]</td>\n      <td>0.6597</td>\n    </tr>\n  </tbody>\n</table>\n</div>"
     },
     "execution_count": 135,
     "metadata": {},
     "output_type": "execute_result"
    }
   ],
   "source": [
    "sia = SentimentIntensityAnalyzer()\n",
    "US_merged[\"sentiment\"] = US_merged.quotation.apply(lambda x: sia.polarity_scores(x)[\"compound\"])\n",
    "US_merged.head()\n"
   ],
   "metadata": {
    "collapsed": false,
    "pycharm": {
     "name": "#%%\n"
    }
   }
  },
  {
   "cell_type": "markdown",
   "source": [
    "### Sentiment and Countries\n",
    "\n"
   ],
   "metadata": {
    "collapsed": false,
    "pycharm": {
     "name": "#%% md\n"
    }
   }
  },
  {
   "cell_type": "code",
   "execution_count": 136,
   "outputs": [],
   "source": [
    "unique_countries = US_merged.nationality.explode().unique()\n"
   ],
   "metadata": {
    "collapsed": false,
    "pycharm": {
     "name": "#%%\n"
    }
   }
  },
  {
   "cell_type": "code",
   "execution_count": 137,
   "outputs": [
    {
     "data": {
      "text/plain": "{'Q889': 'Afghanistan',\n 'Q222': 'Albania',\n 'Q262': 'Algeria',\n 'Q228': 'Andorra',\n 'Q916': 'Angola',\n 'Q781': 'Antigua and Barbuda',\n 'Q414': 'Argentina',\n 'Q399': 'Armenia',\n 'Q408': 'Australia',\n 'Q40': 'Austria',\n 'Q227': 'Azerbaijan',\n 'Q398': 'Bahrain',\n 'Q902': 'Bangladesh',\n 'Q244': 'Barbados',\n 'Q184': 'Belarus',\n 'Q31': 'Belgium',\n 'Q242': 'Belize',\n 'Q962': 'Benin',\n 'Q917': 'Bhutan',\n 'Q750': 'Bolivia',\n 'Q225': 'Bosnia and Herzegovina',\n 'Q963': 'Botswana',\n 'Q155': 'Brazil',\n 'Q921': 'Brunei',\n 'Q219': 'Bulgaria',\n 'Q965': 'Burkina Faso',\n 'Q967': 'Burundi',\n 'Q424': 'Cambodia',\n 'Q1009': 'Cameroon',\n 'Q16': 'Canada',\n 'Q1011': 'Cape Verde',\n 'Q929': 'Central African Republic',\n 'Q657': 'Chad',\n 'Q298': 'Chile',\n 'Q739': 'Colombia',\n 'Q970': 'Comoros',\n 'Q800': 'Costa Rica',\n 'Q224': 'Croatia',\n 'Q204920': 'Crown of Aragon',\n 'Q241': 'Cuba',\n 'Q229': 'Cyprus',\n 'Q213': 'Czech Republic',\n 'Q1008': \"Côte d'Ivoire\",\n 'Q756617': 'Danish Realm',\n 'Q974': 'Democratic Republic of the Congo',\n 'Q35': 'Denmark',\n 'Q977': 'Djibouti',\n 'Q784': 'Dominica',\n 'Q786': 'Dominican Republic',\n 'Q736': 'Ecuador',\n 'Q79': 'Egypt',\n 'Q792': 'El Salvador',\n 'Q983': 'Equatorial Guinea',\n 'Q986': 'Eritrea',\n 'Q191': 'Estonia',\n 'Q1050': 'Eswatini',\n 'Q115': 'Ethiopia',\n 'Q702': 'Federated States of Micronesia',\n 'Q712': 'Fiji',\n 'Q33': 'Finland',\n 'Q142': 'France',\n 'Q1000': 'Gabon',\n 'Q230': 'Georgia',\n 'Q183': 'Germany',\n 'Q117': 'Ghana',\n 'Q41': 'Greece',\n 'Q769': 'Grenada',\n 'Q774': 'Guatemala',\n 'Q1006': 'Guinea',\n 'Q1007': 'Guinea-Bissau',\n 'Q734': 'Guyana',\n 'Q790': 'Haiti',\n 'Q783': 'Honduras',\n 'Q28': 'Hungary',\n 'Q189': 'Iceland',\n 'Q668': 'India',\n 'Q252': 'Indonesia',\n 'Q794': 'Iran',\n 'Q796': 'Iraq',\n 'Q27': 'Ireland',\n 'Q427941': 'Islamic Emirate of Afghanistan',\n 'Q30747910': 'Islamic Republic of Afghanistan',\n 'Q801': 'Israel',\n 'Q38': 'Italy',\n 'Q766': 'Jamaica',\n 'Q17': 'Japan',\n 'Q810': 'Jordan',\n 'Q232': 'Kazakhstan',\n 'Q114': 'Kenya',\n 'Q29999': 'Kingdom of the Netherlands',\n 'Q710': 'Kiribati',\n 'Q817': 'Kuwait',\n 'Q813': 'Kyrgyzstan',\n 'Q819': 'Laos',\n 'Q211': 'Latvia',\n 'Q822': 'Lebanon',\n 'Q1013': 'Lesotho',\n 'Q1014': 'Liberia',\n 'Q1016': 'Libya',\n 'Q347': 'Liechtenstein',\n 'Q37': 'Lithuania',\n 'Q32': 'Luxembourg',\n 'Q1019': 'Madagascar',\n 'Q1020': 'Malawi',\n 'Q833': 'Malaysia',\n 'Q826': 'Maldives',\n 'Q912': 'Mali',\n 'Q233': 'Malta',\n 'Q709': 'Marshall Islands',\n 'Q1025': 'Mauritania',\n 'Q1027': 'Mauritius',\n 'Q96': 'Mexico',\n 'Q217': 'Moldova',\n 'Q235': 'Monaco',\n 'Q711': 'Mongolia',\n 'Q236': 'Montenegro',\n 'Q1028': 'Morocco',\n 'Q1029': 'Mozambique',\n 'Q836': 'Myanmar',\n 'Q1030': 'Namibia',\n 'Q697': 'Nauru',\n 'Q837': 'Nepal',\n 'Q664': 'New Zealand',\n 'Q811': 'Nicaragua',\n 'Q1032': 'Niger',\n 'Q1033': 'Nigeria',\n 'Q423': 'North Korea',\n 'Q221': 'North Macedonia',\n 'Q20': 'Norway',\n 'Q842': 'Oman',\n 'Q843': 'Pakistan',\n 'Q695': 'Palau',\n 'Q804': 'Panama',\n 'Q691': 'Papua New Guinea',\n 'Q733': 'Paraguay',\n 'Q148': \"People's Republic of China\",\n 'Q419': 'Peru',\n 'Q928': 'Philippines',\n 'Q36': 'Poland',\n 'Q45': 'Portugal',\n 'Q846': 'Qatar',\n 'Q971': 'Republic of the Congo',\n 'Q218': 'Romania',\n 'Q444912': 'Romanian Old Kingdom',\n 'Q159': 'Russia',\n 'Q1037': 'Rwanda',\n 'Q763': 'Saint Kitts and Nevis',\n 'Q760': 'Saint Lucia',\n 'Q757': 'Saint Vincent and the Grenadines',\n 'Q683': 'Samoa',\n 'Q238': 'San Marino',\n 'Q851': 'Saudi Arabia',\n 'Q1041': 'Senegal',\n 'Q403': 'Serbia',\n 'Q1042': 'Seychelles',\n 'Q1044': 'Sierra Leone',\n 'Q334': 'Singapore',\n 'Q214': 'Slovakia',\n 'Q215': 'Slovenia',\n 'Q685': 'Solomon Islands',\n 'Q1045': 'Somalia',\n 'Q258': 'South Africa',\n 'Q884': 'South Korea',\n 'Q958': 'South Sudan',\n 'Q29': 'Spain',\n 'Q854': 'Sri Lanka',\n 'Q1106857': 'State of Somaliland',\n 'Q1049': 'Sudan',\n 'Q730': 'Suriname',\n 'Q34': 'Sweden',\n 'Q39': 'Switzerland',\n 'Q858': 'Syria',\n 'Q1039': 'São Tomé and Príncipe',\n 'Q865': 'Taiwan',\n 'Q863': 'Tajikistan',\n 'Q924': 'Tanzania',\n 'Q869': 'Thailand',\n 'Q778': 'The Bahamas',\n 'Q1005': 'The Gambia',\n 'Q574': 'Timor-Leste',\n 'Q945': 'Togo',\n 'Q678': 'Tonga',\n 'Q4689103': 'Transitional Islamic State of Afghanistan',\n 'Q754': 'Trinidad and Tobago',\n 'Q948': 'Tunisia',\n 'Q43': 'Turkey',\n 'Q874': 'Turkmenistan',\n 'Q672': 'Tuvalu',\n 'Q1036': 'Uganda',\n 'Q212': 'Ukraine',\n 'Q878': 'United Arab Emirates',\n 'Q145': 'United Kingdom',\n 'Q30': 'United States of America',\n 'Q77': 'Uruguay',\n 'Q265': 'Uzbekistan',\n 'Q686': 'Vanuatu',\n 'Q237': 'Vatican City',\n 'Q717': 'Venezuela',\n 'Q881': 'Vietnam',\n 'Q41304': 'Weimar Republic',\n 'Q805': 'Yemen',\n 'Q953': 'Zambia',\n 'Q954': 'Zimbabwe'}"
     },
     "execution_count": 137,
     "metadata": {},
     "output_type": "execute_result"
    }
   ],
   "source": [
    "import sys\n",
    "from SPARQLWrapper import SPARQLWrapper, JSON\n",
    "\n",
    "endpoint_url = \"https://query.wikidata.org/sparql\"\n",
    "\n",
    "query = \"\"\"#List of present-day countries and capital(s)\n",
    "SELECT DISTINCT ?country ?countryLabel\n",
    "WHERE\n",
    "{\n",
    "  ?country wdt:P31 wd:Q3624078 .\n",
    "\n",
    "  SERVICE wikibase:label { bd:serviceParam wikibase:language \"en\" }\n",
    "}\n",
    "ORDER BY ?countryLabel\"\"\"\n",
    "\n",
    "\n",
    "def get_results(endpoint_url, query):\n",
    "    user_agent = \"WDQS-example Python/%s.%s\" % (sys.version_info[0], sys.version_info[1])\n",
    "    # TODO adjust user agent; see https://w.wiki/CX6\n",
    "    sparql = SPARQLWrapper(endpoint_url, agent=user_agent)\n",
    "    sparql.setQuery(query)\n",
    "    sparql.setReturnFormat(JSON)\n",
    "    return sparql.query().convert()\n",
    "\n",
    "\n",
    "results = get_results(endpoint_url, query)\n",
    "\n",
    "country_dict = {}\n",
    "for result in results[\"results\"][\"bindings\"]:\n",
    "    country_id = result[\"country\"]['value'].split('/')[-1]\n",
    "    country_dict[country_id] = result[\"countryLabel\"]['value']\n",
    "country_dict"
   ],
   "metadata": {
    "collapsed": false,
    "pycharm": {
     "name": "#%%\n"
    }
   }
  },
  {
   "cell_type": "code",
   "execution_count": 139,
   "outputs": [
    {
     "data": {
      "text/plain": "                quoteID                                          quotation  \\\n1656  2019-06-28-016570  Every day I hear it: `I'm leaving for the Unit...   \n361   2019-04-29-012525  China consistently opposes U.S. unilateral san...   \n1112  2019-11-23-040193  Thank God nobody is accusing us anymore of int...   \n1349  2019-05-21-103628  This team might be the best team U.S.A. has ha...   \n279   2019-08-20-102144  We've made clear, anyone who touches it, anyon...   \n673   2019-07-16-050887  just shows a fundamental misunderstanding of t...   \n89    2019-10-23-120765  We've secured the oil and, therefore, a small ...   \n81    2019-02-06-098843  The U.S. economy is growing almost twice as fa...   \n782   2019-04-01-120043  When the U.S. Secretary of Education's own alm...   \n322   2019-07-31-024098  I don't understand why anybody goes to all the...   \n1726  2019-07-20-030114  The District Court did not adequately address ...   \n400   2019-02-18-073226  The Taliban members are invited by big countri...   \n452   2019-06-21-122029  You can look at almost every [ postwar ] artis...   \n1244  2019-05-31-064390  Mexico and Canada looked like a safe harbor be...   \n43    2019-08-13-099242  We're doing this for Christmas season, just in...   \n1453  2019-01-29-029812  I am extremely concerned that we preserve the ...   \n1678  2019-06-25-099003  When the United States did not respect the int...   \n671   2019-04-30-030165  However, the fights to be waged require a deep...   \n1585  2019-09-18-048959  Iran's pragmatists, led by President Hassan Ro...   \n771   2019-09-16-014753  determined that it is in our vital national in...   \n\n                     speaker                            qids  \\\n1656           Víctor Manuel                      [Q3176413]   \n361              Geng Shuang                     [Q27612210]   \n1112          Vladimir Putin                         [Q7747]   \n1349             Jack Hughes  [Q53952401, Q608218, Q6113254]   \n279              Mike Pompeo                       [Q473239]   \n673                Jim Himes                      [Q1689111]   \n89    President Donald Trump                        [Q22686]   \n81    President Donald Trump                        [Q22686]   \n782            Esther Warkov                     [Q47485427]   \n322         Elizabeth Warren                       [Q434706]   \n1726       Emmet G. Sullivan                      [Q5373483]   \n400               Akbar Agha                      [Q4700396]   \n452           Glenn Phillips           [Q22007419, Q5569050]   \n1244             Philip Levy          [Q15129896, Q22667825]   \n43    President Donald Trump                        [Q22686]   \n1453          Elissa Slotkin                     [Q30323721]   \n1678       Timofey Bordachev                      [Q4093494]   \n671            Stacey Abrams                      [Q7595813]   \n1585         Kenneth Pollack                      [Q4370309]   \n771   President Barack Obama                           [Q76]   \n\n                     date  numOccurrences  \\\n1656  2019-06-28 22:03:01               5   \n361   2019-04-29 02:36:57               5   \n1112  2019-11-23 19:30:06               8   \n1349  2019-05-21 04:14:06               1   \n279   2019-08-20 23:56:27               1   \n673   2019-07-16 17:41:58               1   \n89    2019-10-23 10:40:57             228   \n81    2019-02-06 01:58:21               5   \n782   2019-04-01 15:50:18               1   \n322   2019-07-31 16:34:10               2   \n1726  2019-07-20 01:19:31               1   \n400   2019-02-18 19:28:07               1   \n452   2019-06-21 09:00:18               1   \n1244  2019-05-31 16:45:22               2   \n43    2019-08-13 19:23:09              70   \n1453  2019-01-29 20:47:02               4   \n1678  2019-06-25 09:00:01               2   \n671   2019-04-30 11:28:21              13   \n1585  2019-09-18 12:50:06               1   \n771   2019-09-16 09:00:13               2   \n\n                                                 probas  \\\n1656  [[Víctor Manuel, 0.5761], [None, 0.4087], [Alb...   \n361   [[Geng Shuang, 0.718], [None, 0.225], [Steven ...   \n1112  [[Vladimir Putin, 0.6711], [Fiona Hill, 0.1528...   \n1349            [[Jack Hughes, 0.9232], [None, 0.0768]]   \n279             [[Mike Pompeo, 0.8772], [None, 0.1228]]   \n673   [[Jim Himes, 0.3857], [President Trump, 0.3347...   \n89    [[President Donald Trump, 0.6023], [None, 0.38...   \n81    [[President Donald Trump, 0.5836], [None, 0.39...   \n782   [[Esther Warkov, 0.8846], [None, 0.1031], [Bet...   \n322   [[Elizabeth Warren, 0.7455], [None, 0.1882], [...   \n1726  [[Emmet G. Sullivan, 0.6154], [None, 0.3709], ...   \n400   [[Akbar Agha, 0.8942], [None, 0.1024], [Ismail...   \n452   [[Glenn Phillips, 0.8376], [None, 0.1359], [Cl...   \n1244  [[Philip Levy, 0.8304], [None, 0.1658], [Presi...   \n43    [[President Donald Trump, 0.6119], [None, 0.31...   \n1453  [[Elissa Slotkin, 0.7728], [None, 0.2009], [Mi...   \n1678  [[Timofey Bordachev, 0.8447], [None, 0.133], [...   \n671   [[Stacey Abrams, 0.6048], [None, 0.3312], [Chu...   \n1585  [[Kenneth Pollack, 0.6049], [None, 0.3231], [S...   \n771   [[President Barack Obama, 0.8244], [None, 0.17...   \n\n                                                   urls phase  \\\n1656  [http://nytimes.com/2019/06/28/world/americas/...     E   \n361   [http://mobile.nytimes.com/2019/04/28/us/polit...     E   \n1112  [https://www.nytimes.com/2019/11/23/opinion/su...     E   \n1349  [http://www.nytimes.com/2019/05/21/sports/jack...     E   \n279   [http://www.nytimes.com/2019/08/20/world/middl...     E   \n673   [http://nytimes.com/2019/07/16/us/politics/for...     E   \n89    [http://www.al-monitor.com/pulse/originals/201...     E   \n81    [https://www.nytimes.com/2019/02/05/us/politic...     E   \n782   [http://www.nytimes.com/2019/04/01/us/politics...     E   \n322   [https://www.portlandmercury.com/blogtown/2019...     E   \n1726  [http://nytimes.com/2019/07/19/us/politics/emo...     E   \n400   [http://www.nytimes.com/2019/02/18/world/asia/...     E   \n452   [https://www.nytimes.com/2019/06/21/arts/desig...     E   \n1244  [http://mobile.nytimes.com/2019/05/31/upshot/t...     E   \n43    [https://o.canada.com/pmn/business-pmn/trump-b...     E   \n1453  [http://mobile.nytimes.com/2019/01/29/us/polit...     E   \n1678  [http://www.nytimes.com/2019/06/25/magazine/ru...     E   \n671   [http://mobile.nytimes.com/2019/04/30/us/polit...     E   \n1585  [https://www.nytimes.com/2019/09/18/opinion/sa...     E   \n771   [http://mobile.nytimes.com/2019/09/16/us/polit...     E   \n\n                                                domains speaker_id         id  \\\n1656                          [com, com, com, com, com]   Q3176413   Q3176413   \n361                            [com, com, com, com, pk]  Q27612210  Q27612210   \n1112           [com, com, com, com, com, com, com, com]      Q7747      Q7747   \n1349                                              [com]  Q53952401  Q53952401   \n279                                               [com]    Q473239    Q473239   \n673                                               [com]   Q1689111   Q1689111   \n89    [com, com, pk, com, com, com, com, com, com, c...     Q22686     Q22686   \n81                          [com, com, co.uk, com, com]     Q22686     Q22686   \n782                                               [com]  Q47485427  Q47485427   \n322                                          [com, com]    Q434706    Q434706   \n1726                                              [com]   Q5373483   Q5373483   \n400                                               [com]   Q4700396   Q4700396   \n452                                               [com]  Q22007419  Q22007419   \n1244                                         [com, com]  Q15129896  Q15129896   \n43    [com, com, com, us, com, com, com, com, com.sg...     Q22686     Q22686   \n1453                               [com, com, com, com]  Q30323721  Q30323721   \n1678                                         [com, com]   Q4093494   Q4093494   \n671   [com, com, com, com, com, com, com, com, com, ...   Q7595813   Q7595813   \n1585                                              [com]   Q4370309   Q4370309   \n771                                          [com, com]        Q76        Q76   \n\n                     nationality  sentiment  \n1656                       Spain     0.4215  \n361   People's Republic of China     0.0000  \n1112                      Russia     0.4404  \n1349                         NaN     0.6369  \n279     United States of America     0.7003  \n673     United States of America     0.0000  \n89      United States of America     0.4588  \n81      United States of America     0.1779  \n782                          NaN    -0.2732  \n322     United States of America     0.3147  \n1726    United States of America     0.5423  \n400                          NaN     0.6486  \n452                  New Zealand     0.4215  \n1244    United States of America     0.6597  \n43      United States of America     0.0000  \n1453    United States of America     0.0000  \n1678                      Russia    -0.1222  \n671     United States of America     0.2732  \n1585    United States of America     0.5574  \n771     United States of America     0.7650  ",
      "text/html": "<div>\n<style scoped>\n    .dataframe tbody tr th:only-of-type {\n        vertical-align: middle;\n    }\n\n    .dataframe tbody tr th {\n        vertical-align: top;\n    }\n\n    .dataframe thead th {\n        text-align: right;\n    }\n</style>\n<table border=\"1\" class=\"dataframe\">\n  <thead>\n    <tr style=\"text-align: right;\">\n      <th></th>\n      <th>quoteID</th>\n      <th>quotation</th>\n      <th>speaker</th>\n      <th>qids</th>\n      <th>date</th>\n      <th>numOccurrences</th>\n      <th>probas</th>\n      <th>urls</th>\n      <th>phase</th>\n      <th>domains</th>\n      <th>speaker_id</th>\n      <th>id</th>\n      <th>nationality</th>\n      <th>sentiment</th>\n    </tr>\n  </thead>\n  <tbody>\n    <tr>\n      <th>1656</th>\n      <td>2019-06-28-016570</td>\n      <td>Every day I hear it: `I'm leaving for the Unit...</td>\n      <td>Víctor Manuel</td>\n      <td>[Q3176413]</td>\n      <td>2019-06-28 22:03:01</td>\n      <td>5</td>\n      <td>[[Víctor Manuel, 0.5761], [None, 0.4087], [Alb...</td>\n      <td>[http://nytimes.com/2019/06/28/world/americas/...</td>\n      <td>E</td>\n      <td>[com, com, com, com, com]</td>\n      <td>Q3176413</td>\n      <td>Q3176413</td>\n      <td>Spain</td>\n      <td>0.4215</td>\n    </tr>\n    <tr>\n      <th>361</th>\n      <td>2019-04-29-012525</td>\n      <td>China consistently opposes U.S. unilateral san...</td>\n      <td>Geng Shuang</td>\n      <td>[Q27612210]</td>\n      <td>2019-04-29 02:36:57</td>\n      <td>5</td>\n      <td>[[Geng Shuang, 0.718], [None, 0.225], [Steven ...</td>\n      <td>[http://mobile.nytimes.com/2019/04/28/us/polit...</td>\n      <td>E</td>\n      <td>[com, com, com, com, pk]</td>\n      <td>Q27612210</td>\n      <td>Q27612210</td>\n      <td>People's Republic of China</td>\n      <td>0.0000</td>\n    </tr>\n    <tr>\n      <th>1112</th>\n      <td>2019-11-23-040193</td>\n      <td>Thank God nobody is accusing us anymore of int...</td>\n      <td>Vladimir Putin</td>\n      <td>[Q7747]</td>\n      <td>2019-11-23 19:30:06</td>\n      <td>8</td>\n      <td>[[Vladimir Putin, 0.6711], [Fiona Hill, 0.1528...</td>\n      <td>[https://www.nytimes.com/2019/11/23/opinion/su...</td>\n      <td>E</td>\n      <td>[com, com, com, com, com, com, com, com]</td>\n      <td>Q7747</td>\n      <td>Q7747</td>\n      <td>Russia</td>\n      <td>0.4404</td>\n    </tr>\n    <tr>\n      <th>1349</th>\n      <td>2019-05-21-103628</td>\n      <td>This team might be the best team U.S.A. has ha...</td>\n      <td>Jack Hughes</td>\n      <td>[Q53952401, Q608218, Q6113254]</td>\n      <td>2019-05-21 04:14:06</td>\n      <td>1</td>\n      <td>[[Jack Hughes, 0.9232], [None, 0.0768]]</td>\n      <td>[http://www.nytimes.com/2019/05/21/sports/jack...</td>\n      <td>E</td>\n      <td>[com]</td>\n      <td>Q53952401</td>\n      <td>Q53952401</td>\n      <td>NaN</td>\n      <td>0.6369</td>\n    </tr>\n    <tr>\n      <th>279</th>\n      <td>2019-08-20-102144</td>\n      <td>We've made clear, anyone who touches it, anyon...</td>\n      <td>Mike Pompeo</td>\n      <td>[Q473239]</td>\n      <td>2019-08-20 23:56:27</td>\n      <td>1</td>\n      <td>[[Mike Pompeo, 0.8772], [None, 0.1228]]</td>\n      <td>[http://www.nytimes.com/2019/08/20/world/middl...</td>\n      <td>E</td>\n      <td>[com]</td>\n      <td>Q473239</td>\n      <td>Q473239</td>\n      <td>United States of America</td>\n      <td>0.7003</td>\n    </tr>\n    <tr>\n      <th>673</th>\n      <td>2019-07-16-050887</td>\n      <td>just shows a fundamental misunderstanding of t...</td>\n      <td>Jim Himes</td>\n      <td>[Q1689111]</td>\n      <td>2019-07-16 17:41:58</td>\n      <td>1</td>\n      <td>[[Jim Himes, 0.3857], [President Trump, 0.3347...</td>\n      <td>[http://nytimes.com/2019/07/16/us/politics/for...</td>\n      <td>E</td>\n      <td>[com]</td>\n      <td>Q1689111</td>\n      <td>Q1689111</td>\n      <td>United States of America</td>\n      <td>0.0000</td>\n    </tr>\n    <tr>\n      <th>89</th>\n      <td>2019-10-23-120765</td>\n      <td>We've secured the oil and, therefore, a small ...</td>\n      <td>President Donald Trump</td>\n      <td>[Q22686]</td>\n      <td>2019-10-23 10:40:57</td>\n      <td>228</td>\n      <td>[[President Donald Trump, 0.6023], [None, 0.38...</td>\n      <td>[http://www.al-monitor.com/pulse/originals/201...</td>\n      <td>E</td>\n      <td>[com, com, pk, com, com, com, com, com, com, c...</td>\n      <td>Q22686</td>\n      <td>Q22686</td>\n      <td>United States of America</td>\n      <td>0.4588</td>\n    </tr>\n    <tr>\n      <th>81</th>\n      <td>2019-02-06-098843</td>\n      <td>The U.S. economy is growing almost twice as fa...</td>\n      <td>President Donald Trump</td>\n      <td>[Q22686]</td>\n      <td>2019-02-06 01:58:21</td>\n      <td>5</td>\n      <td>[[President Donald Trump, 0.5836], [None, 0.39...</td>\n      <td>[https://www.nytimes.com/2019/02/05/us/politic...</td>\n      <td>E</td>\n      <td>[com, com, co.uk, com, com]</td>\n      <td>Q22686</td>\n      <td>Q22686</td>\n      <td>United States of America</td>\n      <td>0.1779</td>\n    </tr>\n    <tr>\n      <th>782</th>\n      <td>2019-04-01-120043</td>\n      <td>When the U.S. Secretary of Education's own alm...</td>\n      <td>Esther Warkov</td>\n      <td>[Q47485427]</td>\n      <td>2019-04-01 15:50:18</td>\n      <td>1</td>\n      <td>[[Esther Warkov, 0.8846], [None, 0.1031], [Bet...</td>\n      <td>[http://www.nytimes.com/2019/04/01/us/politics...</td>\n      <td>E</td>\n      <td>[com]</td>\n      <td>Q47485427</td>\n      <td>Q47485427</td>\n      <td>NaN</td>\n      <td>-0.2732</td>\n    </tr>\n    <tr>\n      <th>322</th>\n      <td>2019-07-31-024098</td>\n      <td>I don't understand why anybody goes to all the...</td>\n      <td>Elizabeth Warren</td>\n      <td>[Q434706]</td>\n      <td>2019-07-31 16:34:10</td>\n      <td>2</td>\n      <td>[[Elizabeth Warren, 0.7455], [None, 0.1882], [...</td>\n      <td>[https://www.portlandmercury.com/blogtown/2019...</td>\n      <td>E</td>\n      <td>[com, com]</td>\n      <td>Q434706</td>\n      <td>Q434706</td>\n      <td>United States of America</td>\n      <td>0.3147</td>\n    </tr>\n    <tr>\n      <th>1726</th>\n      <td>2019-07-20-030114</td>\n      <td>The District Court did not adequately address ...</td>\n      <td>Emmet G. Sullivan</td>\n      <td>[Q5373483]</td>\n      <td>2019-07-20 01:19:31</td>\n      <td>1</td>\n      <td>[[Emmet G. Sullivan, 0.6154], [None, 0.3709], ...</td>\n      <td>[http://nytimes.com/2019/07/19/us/politics/emo...</td>\n      <td>E</td>\n      <td>[com]</td>\n      <td>Q5373483</td>\n      <td>Q5373483</td>\n      <td>United States of America</td>\n      <td>0.5423</td>\n    </tr>\n    <tr>\n      <th>400</th>\n      <td>2019-02-18-073226</td>\n      <td>The Taliban members are invited by big countri...</td>\n      <td>Akbar Agha</td>\n      <td>[Q4700396]</td>\n      <td>2019-02-18 19:28:07</td>\n      <td>1</td>\n      <td>[[Akbar Agha, 0.8942], [None, 0.1024], [Ismail...</td>\n      <td>[http://www.nytimes.com/2019/02/18/world/asia/...</td>\n      <td>E</td>\n      <td>[com]</td>\n      <td>Q4700396</td>\n      <td>Q4700396</td>\n      <td>NaN</td>\n      <td>0.6486</td>\n    </tr>\n    <tr>\n      <th>452</th>\n      <td>2019-06-21-122029</td>\n      <td>You can look at almost every [ postwar ] artis...</td>\n      <td>Glenn Phillips</td>\n      <td>[Q22007419, Q5569050]</td>\n      <td>2019-06-21 09:00:18</td>\n      <td>1</td>\n      <td>[[Glenn Phillips, 0.8376], [None, 0.1359], [Cl...</td>\n      <td>[https://www.nytimes.com/2019/06/21/arts/desig...</td>\n      <td>E</td>\n      <td>[com]</td>\n      <td>Q22007419</td>\n      <td>Q22007419</td>\n      <td>New Zealand</td>\n      <td>0.4215</td>\n    </tr>\n    <tr>\n      <th>1244</th>\n      <td>2019-05-31-064390</td>\n      <td>Mexico and Canada looked like a safe harbor be...</td>\n      <td>Philip Levy</td>\n      <td>[Q15129896, Q22667825]</td>\n      <td>2019-05-31 16:45:22</td>\n      <td>2</td>\n      <td>[[Philip Levy, 0.8304], [None, 0.1658], [Presi...</td>\n      <td>[http://mobile.nytimes.com/2019/05/31/upshot/t...</td>\n      <td>E</td>\n      <td>[com, com]</td>\n      <td>Q15129896</td>\n      <td>Q15129896</td>\n      <td>United States of America</td>\n      <td>0.6597</td>\n    </tr>\n    <tr>\n      <th>43</th>\n      <td>2019-08-13-099242</td>\n      <td>We're doing this for Christmas season, just in...</td>\n      <td>President Donald Trump</td>\n      <td>[Q22686]</td>\n      <td>2019-08-13 19:23:09</td>\n      <td>70</td>\n      <td>[[President Donald Trump, 0.6119], [None, 0.31...</td>\n      <td>[https://o.canada.com/pmn/business-pmn/trump-b...</td>\n      <td>E</td>\n      <td>[com, com, com, us, com, com, com, com, com.sg...</td>\n      <td>Q22686</td>\n      <td>Q22686</td>\n      <td>United States of America</td>\n      <td>0.0000</td>\n    </tr>\n    <tr>\n      <th>1453</th>\n      <td>2019-01-29-029812</td>\n      <td>I am extremely concerned that we preserve the ...</td>\n      <td>Elissa Slotkin</td>\n      <td>[Q30323721]</td>\n      <td>2019-01-29 20:47:02</td>\n      <td>4</td>\n      <td>[[Elissa Slotkin, 0.7728], [None, 0.2009], [Mi...</td>\n      <td>[http://mobile.nytimes.com/2019/01/29/us/polit...</td>\n      <td>E</td>\n      <td>[com, com, com, com]</td>\n      <td>Q30323721</td>\n      <td>Q30323721</td>\n      <td>United States of America</td>\n      <td>0.0000</td>\n    </tr>\n    <tr>\n      <th>1678</th>\n      <td>2019-06-25-099003</td>\n      <td>When the United States did not respect the int...</td>\n      <td>Timofey Bordachev</td>\n      <td>[Q4093494]</td>\n      <td>2019-06-25 09:00:01</td>\n      <td>2</td>\n      <td>[[Timofey Bordachev, 0.8447], [None, 0.133], [...</td>\n      <td>[http://www.nytimes.com/2019/06/25/magazine/ru...</td>\n      <td>E</td>\n      <td>[com, com]</td>\n      <td>Q4093494</td>\n      <td>Q4093494</td>\n      <td>Russia</td>\n      <td>-0.1222</td>\n    </tr>\n    <tr>\n      <th>671</th>\n      <td>2019-04-30-030165</td>\n      <td>However, the fights to be waged require a deep...</td>\n      <td>Stacey Abrams</td>\n      <td>[Q7595813]</td>\n      <td>2019-04-30 11:28:21</td>\n      <td>13</td>\n      <td>[[Stacey Abrams, 0.6048], [None, 0.3312], [Chu...</td>\n      <td>[http://mobile.nytimes.com/2019/04/30/us/polit...</td>\n      <td>E</td>\n      <td>[com, com, com, com, com, com, com, com, com, ...</td>\n      <td>Q7595813</td>\n      <td>Q7595813</td>\n      <td>United States of America</td>\n      <td>0.2732</td>\n    </tr>\n    <tr>\n      <th>1585</th>\n      <td>2019-09-18-048959</td>\n      <td>Iran's pragmatists, led by President Hassan Ro...</td>\n      <td>Kenneth Pollack</td>\n      <td>[Q4370309]</td>\n      <td>2019-09-18 12:50:06</td>\n      <td>1</td>\n      <td>[[Kenneth Pollack, 0.6049], [None, 0.3231], [S...</td>\n      <td>[https://www.nytimes.com/2019/09/18/opinion/sa...</td>\n      <td>E</td>\n      <td>[com]</td>\n      <td>Q4370309</td>\n      <td>Q4370309</td>\n      <td>United States of America</td>\n      <td>0.5574</td>\n    </tr>\n    <tr>\n      <th>771</th>\n      <td>2019-09-16-014753</td>\n      <td>determined that it is in our vital national in...</td>\n      <td>President Barack Obama</td>\n      <td>[Q76]</td>\n      <td>2019-09-16 09:00:13</td>\n      <td>2</td>\n      <td>[[President Barack Obama, 0.8244], [None, 0.17...</td>\n      <td>[http://mobile.nytimes.com/2019/09/16/us/polit...</td>\n      <td>E</td>\n      <td>[com, com]</td>\n      <td>Q76</td>\n      <td>Q76</td>\n      <td>United States of America</td>\n      <td>0.7650</td>\n    </tr>\n  </tbody>\n</table>\n</div>"
     },
     "execution_count": 139,
     "metadata": {},
     "output_type": "execute_result"
    }
   ],
   "source": [
    "US_with_nation = US_merged.explode('nationality')\n",
    "US_with_nation.nationality = US_with_nation.nationality.map(country_dict)\n",
    "US_with_nation.sample(n=20,random_state=711)\n",
    "\n"
   ],
   "metadata": {
    "collapsed": false,
    "pycharm": {
     "name": "#%%\n"
    }
   }
  },
  {
   "cell_type": "markdown",
   "source": [
    "### Billion-Dollar Question: How much people love US?\n"
   ],
   "metadata": {
    "collapsed": false,
    "pycharm": {
     "name": "#%% md\n"
    }
   }
  },
  {
   "cell_type": "code",
   "execution_count": null,
   "outputs": [],
   "source": [],
   "metadata": {
    "collapsed": false,
    "pycharm": {
     "name": "#%%\n"
    }
   }
  }
 ],
 "metadata": {
  "kernelspec": {
   "display_name": "Python 3",
   "language": "python",
   "name": "python3"
  },
  "language_info": {
   "codemirror_mode": {
    "name": "ipython",
    "version": 2
   },
   "file_extension": ".py",
   "mimetype": "text/x-python",
   "name": "python",
   "nbconvert_exporter": "python",
   "pygments_lexer": "ipython2",
   "version": "2.7.6"
  }
 },
 "nbformat": 4,
 "nbformat_minor": 0
}