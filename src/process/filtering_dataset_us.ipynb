{
  "cells": [
    {
      "cell_type": "code",
      "execution_count": null,
      "metadata": {
        "colab": {
          "base_uri": "https://localhost:8080/"
        },
        "id": "CEcIlRwfWY4C",
        "outputId": "dd808a61-9a34-4358-eed7-57740ee59b9d"
      },
      "outputs": [
        {
          "name": "stdout",
          "output_type": "stream",
          "text": [
            "Drive already mounted at /content/drive; to attempt to forcibly remount, call drive.mount(\"/content/drive\", force_remount=True).\n"
          ]
        }
      ],
      "source": [
        "from google.colab import drive\n",
        "drive.mount('/content/drive')"
      ]
    },
    {
      "cell_type": "markdown",
      "metadata": {
        "id": "cKUy29h68N0J"
      },
      "source": [
        "## Filtering the data interesting us \n",
        "\n",
        "For our study, we are only interested in the quotes talking about the US. The following cells allow us to only recuperate the quotes with the keywords : \"US \", \"USA\", \"U.S\" and \"United States\". \n",
        "\n",
        "Although very prelimiary, this filtering method allows us to have a satisfactory amount of data on which to start the analysis."
      ]
    },
    {
      "cell_type": "code",
      "execution_count": null,
      "metadata": {
        "id": "aHMv0FD0Eh_W"
      },
      "outputs": [],
      "source": [
        "import bz2\n",
        "import json\n",
        "\n",
        "years = [\"2020\"]\n",
        "keywords = [\"Trump\", \"New York\", \"Washington\", \"Biden\", \"Obama\", \"Warren\", \n",
        "            \"Sanders\", \"Hollywood\", \"L.A.\", \"Harris\", \"Cohen\", \"Apple\", \"Nixon\", \n",
        "            \"Clinton\", \"Williams\", \"Bush\", \"Lincoln\", \"Kennedy\", \"American\", \"Pompeo\",\n",
        "            \"Donald J. Trump\", \"Ocasio-Cortez\", \"Pence\", \"Tesla\", \"Don Jr.\", \"Nelson\",\n",
        "            \"Tarantino\", \"Baldwin\", \"Bannon\", \"Bolton\", \"Barr\"]\n",
        "\n",
        "for i in years : \n",
        "  path_to_file = '/content/drive/MyDrive/us_data/Quotebank/quotes-'+i+'.json.bz2' \n",
        "  path_to_out = '/content/drive/MyDrive/us_data/Filtered data/quotes-'+i+'-us_speakers_2020.json.bz2'\n",
        "  with bz2.open(path_to_file, 'rb') as s_file:\n",
        "      with bz2.open(path_to_out, 'wb') as d_file:\n",
        "          for instance in s_file:\n",
        "              instance = json.loads(instance) # loading a sample\n",
        "              quote = instance['quotation'] # extracting list of links\n",
        "              if any(word in quote for word in keywords) : \n",
        "                d_file.write((json.dumps(instance)+'\\n').encode('utf-8')) # writing in the new file"
      ]
    },
    {
      "cell_type": "code",
      "execution_count": null,
      "metadata": {
        "colab": {
          "base_uri": "https://localhost:8080/",
          "height": 971
        },
        "id": "0gJCan8ALONK",
        "outputId": "c246636d-358f-457a-883a-abf38181c769"
      },
      "outputs": [
        {
          "name": "stdout",
          "output_type": "stream",
          "text": [
            "Year : 2015 with 190401 quotes\n",
            "65755 quotes are removed\n",
            "Year : 2015 with 456925 quotes\n",
            "161782 quotes are removed\n",
            "Year : 2016 with 135853 quotes\n",
            "49131 quotes are removed\n",
            "Year : 2016 with 456897 quotes\n",
            "173200 quotes are removed\n",
            "Year : 2019 with 255897 quotes\n",
            "96480 quotes are removed\n",
            "Year : 2019 with 597664 quotes\n",
            "220407 quotes are removed\n",
            "Year : 2020 with 60896 quotes\n",
            "23040 quotes are removed\n",
            "Year : 2020 with 168203 quotes\n",
            "61484 quotes are removed\n"
          ]
        },
        {
          "data": {
            "text/html": [
              "<div>\n",
              "<style scoped>\n",
              "    .dataframe tbody tr th:only-of-type {\n",
              "        vertical-align: middle;\n",
              "    }\n",
              "\n",
              "    .dataframe tbody tr th {\n",
              "        vertical-align: top;\n",
              "    }\n",
              "\n",
              "    .dataframe thead th {\n",
              "        text-align: right;\n",
              "    }\n",
              "</style>\n",
              "<table border=\"1\" class=\"dataframe\">\n",
              "  <thead>\n",
              "    <tr style=\"text-align: right;\">\n",
              "      <th></th>\n",
              "      <th>quoteID</th>\n",
              "      <th>quotation</th>\n",
              "      <th>speaker</th>\n",
              "      <th>qids</th>\n",
              "      <th>date</th>\n",
              "      <th>numOccurrences</th>\n",
              "      <th>probas</th>\n",
              "      <th>urls</th>\n",
              "      <th>phase</th>\n",
              "    </tr>\n",
              "  </thead>\n",
              "  <tbody>\n",
              "    <tr>\n",
              "      <th>59410</th>\n",
              "      <td>2016-02-23-025684</td>\n",
              "      <td>Every country, including the US and Singapore,...</td>\n",
              "      <td>Ajay Singh</td>\n",
              "      <td>[Q15734101, Q20630466, Q25991768, Q4699657, Q4...</td>\n",
              "      <td>2016-02-23 19:26:00</td>\n",
              "      <td>3</td>\n",
              "      <td>[[Ajay Singh, 0.6389], [None, 0.2201], [Wolfga...</td>\n",
              "      <td>[http://www.business-standard.com/article/comp...</td>\n",
              "      <td>E</td>\n",
              "    </tr>\n",
              "    <tr>\n",
              "      <th>29052</th>\n",
              "      <td>2015-12-11-008074</td>\n",
              "      <td>Another promotional cut to enable motorists to...</td>\n",
              "      <td>Simon Williams</td>\n",
              "      <td>[Q15647498, Q17020826, Q4470100, Q57901554, Q5...</td>\n",
              "      <td>2015-12-11 05:06:00</td>\n",
              "      <td>1</td>\n",
              "      <td>[[Simon Williams, 0.9663], [None, 0.0337]]</td>\n",
              "      <td>[http://express.co.uk/news/uk/625908/Asda-Morr...</td>\n",
              "      <td>E</td>\n",
              "    </tr>\n",
              "    <tr>\n",
              "      <th>106360</th>\n",
              "      <td>2020-01-30-125938</td>\n",
              "      <td>Years ago, somebody connected [ Run-D.M.C. ] t...</td>\n",
              "      <td>Rev Run</td>\n",
              "      <td>[Q742642]</td>\n",
              "      <td>2020-01-30 19:58:51</td>\n",
              "      <td>3</td>\n",
              "      <td>[[Rev Run, 0.8924], [None, 0.0905], [Kobe Brya...</td>\n",
              "      <td>[https://www.okayplayer.com/culture/rev-run-dm...</td>\n",
              "      <td>E</td>\n",
              "    </tr>\n",
              "    <tr>\n",
              "      <th>360926</th>\n",
              "      <td>2016-05-10-133972</td>\n",
              "      <td>We are thrilled that seven of Canada's leading...</td>\n",
              "      <td>Jennifer Bailey</td>\n",
              "      <td>[Q17385608, Q57434480]</td>\n",
              "      <td>2016-05-10 13:16:26</td>\n",
              "      <td>2</td>\n",
              "      <td>[[Jennifer Bailey, 0.8047], [None, 0.1953]]</td>\n",
              "      <td>[http://montrealgazette.com/storyline/apple-pa...</td>\n",
              "      <td>E</td>\n",
              "    </tr>\n",
              "    <tr>\n",
              "      <th>424713</th>\n",
              "      <td>2015-11-18-093006</td>\n",
              "      <td>There should be a pause until we have the conf...</td>\n",
              "      <td>John McCain</td>\n",
              "      <td>[Q10390]</td>\n",
              "      <td>2015-11-18 02:57:45</td>\n",
              "      <td>1</td>\n",
              "      <td>[[John McCain, 0.8025], [None, 0.1047], [Ted C...</td>\n",
              "      <td>[http://feeds.huffingtonpost.com/c/35496/f/677...</td>\n",
              "      <td>E</td>\n",
              "    </tr>\n",
              "    <tr>\n",
              "      <th>576688</th>\n",
              "      <td>2019-08-21-011522</td>\n",
              "      <td>But it's time for Republicans and President Tr...</td>\n",
              "      <td>Chris Murphy</td>\n",
              "      <td>[Q1077594, Q20022484, Q2964809, Q5107535, Q510...</td>\n",
              "      <td>2019-08-21 08:30:00</td>\n",
              "      <td>1</td>\n",
              "      <td>[[Chris Murphy, 0.8118], [None, 0.1787], [Mitc...</td>\n",
              "      <td>[http://www.msn.com/en-us/news/politics/hobble...</td>\n",
              "      <td>E</td>\n",
              "    </tr>\n",
              "    <tr>\n",
              "      <th>121702</th>\n",
              "      <td>2015-10-06-092616</td>\n",
              "      <td>The judgment means businesses that use Safe Ha...</td>\n",
              "      <td>David Smith</td>\n",
              "      <td>[Q1176671, Q1176674, Q16194812, Q16201315, Q19...</td>\n",
              "      <td>2015-10-06 16:52:47</td>\n",
              "      <td>1</td>\n",
              "      <td>[[David Smith, 0.8519], [None, 0.1481]]</td>\n",
              "      <td>[http://www.computerweekly.com/news/4500254944...</td>\n",
              "      <td>E</td>\n",
              "    </tr>\n",
              "    <tr>\n",
              "      <th>146449</th>\n",
              "      <td>2015-07-30-049764</td>\n",
              "      <td>Illegals flood the country; illegals get drive...</td>\n",
              "      <td>Chuck Norris</td>\n",
              "      <td>[Q17083833, Q2673]</td>\n",
              "      <td>2015-07-30 06:01:20</td>\n",
              "      <td>1</td>\n",
              "      <td>[[Chuck Norris, 0.5232], [None, 0.4768]]</td>\n",
              "      <td>[http://www.examiner.com/article/liberals-clai...</td>\n",
              "      <td>E</td>\n",
              "    </tr>\n",
              "    <tr>\n",
              "      <th>20033</th>\n",
              "      <td>2020-02-06-096130</td>\n",
              "      <td>The US is one of the largest defence exporters...</td>\n",
              "      <td>Rajnath Singh</td>\n",
              "      <td>[Q3506475]</td>\n",
              "      <td>2020-02-06 15:01:35</td>\n",
              "      <td>1</td>\n",
              "      <td>[[Rajnath Singh, 0.8759], [None, 0.0942], [Mar...</td>\n",
              "      <td>[https://www.hindustantimes.com/india-news/ind...</td>\n",
              "      <td>E</td>\n",
              "    </tr>\n",
              "    <tr>\n",
              "      <th>242163</th>\n",
              "      <td>2019-03-12-109490</td>\n",
              "      <td>You made it clear you were not thinking about ...</td>\n",
              "      <td>Gayle King</td>\n",
              "      <td>[Q5528805]</td>\n",
              "      <td>2019-03-12 17:29:28</td>\n",
              "      <td>1</td>\n",
              "      <td>[[Gayle King, 0.6347], [Jeff Flake, 0.2507], [...</td>\n",
              "      <td>[https://www.newsbusters.org/blogs/nb/scott-wh...</td>\n",
              "      <td>E</td>\n",
              "    </tr>\n",
              "  </tbody>\n",
              "</table>\n",
              "</div>"
            ],
            "text/plain": [
              "                  quoteID  ... phase\n",
              "59410   2016-02-23-025684  ...     E\n",
              "29052   2015-12-11-008074  ...     E\n",
              "106360  2020-01-30-125938  ...     E\n",
              "360926  2016-05-10-133972  ...     E\n",
              "424713  2015-11-18-093006  ...     E\n",
              "576688  2019-08-21-011522  ...     E\n",
              "121702  2015-10-06-092616  ...     E\n",
              "146449  2015-07-30-049764  ...     E\n",
              "20033   2020-02-06-096130  ...     E\n",
              "242163  2019-03-12-109490  ...     E\n",
              "\n",
              "[10 rows x 9 columns]"
            ]
          },
          "execution_count": 3,
          "metadata": {},
          "output_type": "execute_result"
        }
      ],
      "source": [
        "import pandas as pd\n",
        "\n",
        "# Get the index of None speaker quo\n",
        "def drop_none_speaker(year, df):\n",
        "    print(\"Year : {} with {} quotes\".format(year, len(df)))\n",
        "    drop_mask = df[df.speaker == \"None\"].index\n",
        "    df_dropped = df.drop(drop_mask)\n",
        "    print(\"{} quotes are removed\".format(len(drop_mask)))\n",
        "    return df_dropped\n",
        "\n",
        "US_data = pd.DataFrame()\n",
        "for year in [2015, 2016, 2019, 2020] :\n",
        "    year_df = pd.read_json('/content/drive/MyDrive/us_data/Filtered data/quotes-{}-us.json.bz2'.format(year), lines=True, compression='bz2')\n",
        "    year_df = drop_none_speaker(year, year_df)\n",
        "    US_data = pd.concat([US_data, year_df], axis=0)\n",
        "\n",
        "    speaker_df = pd.read_json('/content/drive/MyDrive/us_data/Filtered data/quotes-{}-us_speakers_{}.json.bz2'.format(year, year), lines=True, compression='bz2')\n",
        "    speaker_df = drop_none_speaker(year, speaker_df)\n",
        "    US_data = pd.concat([US_data, speaker_df], axis=0)\n",
        "\n",
        "US_data.sample(n=10)"
      ]
    },
    {
      "cell_type": "code",
      "execution_count": null,
      "metadata": {
        "id": "YLivqDBqNGGv"
      },
      "outputs": [],
      "source": [
        "speaker_df = pd.read_parquet(\"/content/drive/MyDrive/us_data/speaker_attributes.parquet\")\n",
        "speaker_df = speaker_df[['id', 'nationality']]\n",
        "speaker_df.head()"
      ]
    }
  ],
  "metadata": {
    "colab": {
      "collapsed_sections": [],
      "name": "ADA_Young_boys_handling_volumes.ipynb",
      "provenance": [],
      "toc_visible": true
    },
    "kernelspec": {
      "display_name": "Python 3",
      "name": "python3"
    },
    "language_info": {
      "name": "python"
    }
  },
  "nbformat": 4,
  "nbformat_minor": 0
}
