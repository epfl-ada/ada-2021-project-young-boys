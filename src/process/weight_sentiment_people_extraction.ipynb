{
 "cells": [
  {
   "cell_type": "code",
   "execution_count": 148,
   "metadata": {},
   "outputs": [],
   "source": [
    "import numpy as np\n",
    "import pandas as pd"
   ]
  },
  {
   "cell_type": "markdown",
   "metadata": {},
   "source": [
    "## Sentiment weightning w.r.t. of the number of occurences of the speaker"
   ]
  },
  {
   "cell_type": "code",
   "execution_count": 150,
   "metadata": {},
   "outputs": [
    {
     "name": "stdout",
     "output_type": "stream",
     "text": [
      "2015\n",
      "2016\n",
      "2017\n",
      "2018\n",
      "2019\n",
      "2020\n"
     ]
    }
   ],
   "source": [
    "#Path to data\n",
    "path_us = 'data/'\n",
    "dfs = []\n",
    "\n",
    "cols_of_interest = ['quoteID', 'speaker', 'sentiment']\n",
    "\n",
    "#Read the dataset for each year and merge them to \"df_full\"\n",
    "for i in range(2015, 2021):\n",
    "  df = pd.read_pickle(path_us + \"us_\" + str(i) + \".pkl.bz2\",compression='bz2')[cols_of_interest]\n",
    "  df['year'] = i\n",
    "  dfs.append(df.copy())\n",
    "  df = None\n",
    "  print(i)\n",
    "\n",
    "df_full = pd.concat(dfs)"
   ]
  },
  {
   "cell_type": "code",
   "execution_count": 151,
   "metadata": {},
   "outputs": [
    {
     "name": "stdout",
     "output_type": "stream",
     "text": [
      "343004\n",
      "4230846\n"
     ]
    }
   ],
   "source": [
    "print(len(df))\n",
    "print(len(df_full))"
   ]
  },
  {
   "cell_type": "code",
   "execution_count": 153,
   "metadata": {},
   "outputs": [
    {
     "data": {
      "text/plain": [
       "Index(['quoteID', 'speaker', 'sentiment', 'year'], dtype='object')"
      ]
     },
     "execution_count": 153,
     "metadata": {},
     "output_type": "execute_result"
    }
   ],
   "source": [
    "df.columns"
   ]
  },
  {
   "cell_type": "code",
   "execution_count": 154,
   "metadata": {},
   "outputs": [],
   "source": [
    "'''\n",
    "Format string to avoid to map same entity to two different entities\n",
    "'''\n",
    "#Static rules after analyzing the dataset\n",
    "pres_dict_sur = {\n",
    "    'george w. bush' : 'george bush',\n",
    "    'george h.w. bush' : 'george bush',\n",
    "    'donald j. trump' : 'donald trump',\n",
    "    'donald trump jr.' : 'donald trump',\n",
    "    'nicolás maduro guerra' : 'nicolas maduro',\n",
    "    'nicolás maduro' : 'nicolas maduro'\n",
    "    \n",
    "}\n",
    "pres_dict = {\n",
    "  \"trump\": \"donald trump\",\n",
    "  \"obama\": \"barack obama\",\n",
    "  \"clinton\": \"bill clinton\",\n",
    "\"bush\": 'george w. bush',\n",
    "    'carter': 'jimmy carter',\n",
    "    'moon' : 'moon jae-in',\n",
    "    'maduro' : 'nicolas maduro'\n",
    "  \n",
    "}\n",
    "'''\n",
    "Format the speaker string to get a unique value foreach speaker:\n",
    "ex : Donald Trump and President Donald J. Trump map to the same value : donald trump\n",
    "'''\n",
    "def format_string(s):\n",
    "    if s == None:\n",
    "        return None\n",
    "    a = s.lower()\n",
    "    if ('president ' in a):\n",
    "        a = a.replace('president ','')\n",
    "        a = pres_dict.get(a, a)\n",
    "       \n",
    "    return pres_dict_sur.get(a, a)"
   ]
  },
  {
   "cell_type": "code",
   "execution_count": 155,
   "metadata": {},
   "outputs": [
    {
     "data": {
      "text/html": [
       "<div>\n",
       "<style scoped>\n",
       "    .dataframe tbody tr th:only-of-type {\n",
       "        vertical-align: middle;\n",
       "    }\n",
       "\n",
       "    .dataframe tbody tr th {\n",
       "        vertical-align: top;\n",
       "    }\n",
       "\n",
       "    .dataframe thead th {\n",
       "        text-align: right;\n",
       "    }\n",
       "</style>\n",
       "<table border=\"1\" class=\"dataframe\">\n",
       "  <thead>\n",
       "    <tr style=\"text-align: right;\">\n",
       "      <th></th>\n",
       "      <th>quoteID</th>\n",
       "      <th>speaker</th>\n",
       "      <th>sentiment</th>\n",
       "      <th>year</th>\n",
       "    </tr>\n",
       "  </thead>\n",
       "  <tbody>\n",
       "    <tr>\n",
       "      <th>0</th>\n",
       "      <td>2015-06-18-018819</td>\n",
       "      <td>chris matthews</td>\n",
       "      <td>-0.228475</td>\n",
       "      <td>2015</td>\n",
       "    </tr>\n",
       "    <tr>\n",
       "      <th>1</th>\n",
       "      <td>2015-10-25-000242</td>\n",
       "      <td>bernie sanders</td>\n",
       "      <td>0.798322</td>\n",
       "      <td>2015</td>\n",
       "    </tr>\n",
       "    <tr>\n",
       "      <th>2</th>\n",
       "      <td>2015-06-26-015863</td>\n",
       "      <td>gary peters</td>\n",
       "      <td>-0.941794</td>\n",
       "      <td>2015</td>\n",
       "    </tr>\n",
       "    <tr>\n",
       "      <th>3</th>\n",
       "      <td>2015-06-12-017391</td>\n",
       "      <td>rachel dolezal</td>\n",
       "      <td>-0.978019</td>\n",
       "      <td>2015</td>\n",
       "    </tr>\n",
       "    <tr>\n",
       "      <th>4</th>\n",
       "      <td>2015-10-23-001330</td>\n",
       "      <td>michelle goldberg</td>\n",
       "      <td>0.283719</td>\n",
       "      <td>2015</td>\n",
       "    </tr>\n",
       "    <tr>\n",
       "      <th>...</th>\n",
       "      <td>...</td>\n",
       "      <td>...</td>\n",
       "      <td>...</td>\n",
       "      <td>...</td>\n",
       "    </tr>\n",
       "    <tr>\n",
       "      <th>60889</th>\n",
       "      <td>2020-01-09-095402</td>\n",
       "      <td>donald trump</td>\n",
       "      <td>0.277540</td>\n",
       "      <td>2020</td>\n",
       "    </tr>\n",
       "    <tr>\n",
       "      <th>60892</th>\n",
       "      <td>2020-01-24-095953</td>\n",
       "      <td>none</td>\n",
       "      <td>-0.606498</td>\n",
       "      <td>2020</td>\n",
       "    </tr>\n",
       "    <tr>\n",
       "      <th>60893</th>\n",
       "      <td>2020-02-20-082429</td>\n",
       "      <td>none</td>\n",
       "      <td>-0.804123</td>\n",
       "      <td>2020</td>\n",
       "    </tr>\n",
       "    <tr>\n",
       "      <th>60894</th>\n",
       "      <td>2020-02-24-068286</td>\n",
       "      <td>donald trump</td>\n",
       "      <td>0.996957</td>\n",
       "      <td>2020</td>\n",
       "    </tr>\n",
       "    <tr>\n",
       "      <th>60895</th>\n",
       "      <td>2020-02-27-090039</td>\n",
       "      <td>rosalind brewer</td>\n",
       "      <td>0.982559</td>\n",
       "      <td>2020</td>\n",
       "    </tr>\n",
       "  </tbody>\n",
       "</table>\n",
       "<p>4230846 rows × 4 columns</p>\n",
       "</div>"
      ],
      "text/plain": [
       "                 quoteID            speaker  sentiment  year\n",
       "0      2015-06-18-018819     chris matthews  -0.228475  2015\n",
       "1      2015-10-25-000242     bernie sanders   0.798322  2015\n",
       "2      2015-06-26-015863        gary peters  -0.941794  2015\n",
       "3      2015-06-12-017391     rachel dolezal  -0.978019  2015\n",
       "4      2015-10-23-001330  michelle goldberg   0.283719  2015\n",
       "...                  ...                ...        ...   ...\n",
       "60889  2020-01-09-095402       donald trump   0.277540  2020\n",
       "60892  2020-01-24-095953               none  -0.606498  2020\n",
       "60893  2020-02-20-082429               none  -0.804123  2020\n",
       "60894  2020-02-24-068286       donald trump   0.996957  2020\n",
       "60895  2020-02-27-090039    rosalind brewer   0.982559  2020\n",
       "\n",
       "[4230846 rows x 4 columns]"
      ]
     },
     "execution_count": 155,
     "metadata": {},
     "output_type": "execute_result"
    }
   ],
   "source": [
    "#Format the speaker string\n",
    "df_temp = df_full.speaker.map(lambda x : format_string(x))\n",
    "\n",
    "df_speak = df_full.copy()\n",
    "df_speak['speaker'] = df_temp\n",
    "df_speak"
   ]
  },
  {
   "cell_type": "code",
   "execution_count": 156,
   "metadata": {},
   "outputs": [
    {
     "data": {
      "text/plain": [
       "speaker        object\n",
       "speaker_occ     int64\n",
       "dtype: object"
      ]
     },
     "execution_count": 156,
     "metadata": {},
     "output_type": "execute_result"
    }
   ],
   "source": [
    "#Groupby speaker and count the number of occurence of each\n",
    "count_occ = df_speak.groupby('speaker').size()\n",
    "\n",
    "#Create a dataframe for the speaker occurence\n",
    "df_count_occ = count_occ.to_frame().reset_index().rename(columns={0: \"speaker_occ\"})\n",
    "df_count_occ.dtypes"
   ]
  },
  {
   "cell_type": "code",
   "execution_count": 157,
   "metadata": {},
   "outputs": [
    {
     "data": {
      "text/html": [
       "<div>\n",
       "<style scoped>\n",
       "    .dataframe tbody tr th:only-of-type {\n",
       "        vertical-align: middle;\n",
       "    }\n",
       "\n",
       "    .dataframe tbody tr th {\n",
       "        vertical-align: top;\n",
       "    }\n",
       "\n",
       "    .dataframe thead th {\n",
       "        text-align: right;\n",
       "    }\n",
       "</style>\n",
       "<table border=\"1\" class=\"dataframe\">\n",
       "  <thead>\n",
       "    <tr style=\"text-align: right;\">\n",
       "      <th></th>\n",
       "      <th>speaker</th>\n",
       "      <th>speaker_occ</th>\n",
       "    </tr>\n",
       "  </thead>\n",
       "  <tbody>\n",
       "    <tr>\n",
       "      <th>53762</th>\n",
       "      <td>donald trump</td>\n",
       "      <td>119110</td>\n",
       "    </tr>\n",
       "  </tbody>\n",
       "</table>\n",
       "</div>"
      ],
      "text/plain": [
       "            speaker  speaker_occ\n",
       "53762  donald trump       119110"
      ]
     },
     "execution_count": 157,
     "metadata": {},
     "output_type": "execute_result"
    }
   ],
   "source": [
    "df_count_occ[df_count_occ['speaker'] == 'donald trump']"
   ]
  },
  {
   "cell_type": "code",
   "execution_count": 158,
   "metadata": {},
   "outputs": [],
   "source": [
    "#Add to the speaker dataframe the number of occurence of the speaker\n",
    "df_speaker_occ = df_speak.set_index('speaker').join(df_count_occ.set_index('speaker'), on='speaker').reset_index()\n",
    "\n",
    "df_modif = df_full.copy()\n",
    "df_modif['speaker_occ'] = 1\n",
    "df_modif['speaker'] = df_full.speaker.map(lambda x : format_string(x))\n",
    "final_df = pd.concat([df_speaker_occ,df_modif]).drop_duplicates('quoteID')\n",
    "\n",
    "#Weight the sentiment w.r.t. to the number of occurence of the speaker\n",
    "final_df['weighted_sentiment'] = final_df['sentiment']/final_df['speaker_occ']"
   ]
  },
  {
   "cell_type": "code",
   "execution_count": 162,
   "metadata": {},
   "outputs": [],
   "source": [
    "# Undo the weighting for the None speaker\n",
    "none_ind = final_df['speaker'] == 'none'\n",
    "final_df.loc[none_ind, 'weighted_sentiment'] = final_df[none_ind]['sentiment']"
   ]
  },
  {
   "cell_type": "code",
   "execution_count": 166,
   "metadata": {},
   "outputs": [],
   "source": [
    "# Store the results\n",
    "for i in range(2015, 2021):\n",
    "    df_year = final_df[final_df[\"year\"] == i]\n",
    "    name = \"data/us_weighted_sent_\" + str(i) + 'pkl.bz2'\n",
    "    df_to_store = df_year[[\"quoteID\", 'speaker', \"speaker_occ\", 'weighted_sentiment']]\n",
    "    #Add new column containing the formatted name of the speaker\n",
    "    df_to_store = df_to_store.rename(columns={\"speaker\": \"speaker_l\"})\n",
    "    \n",
    "    df_to_store.to_pickle(name, compression='bz2')"
   ]
  }
 ],
 "metadata": {
  "kernelspec": {
   "display_name": "Python 3",
   "language": "python",
   "name": "python3"
  },
  "language_info": {
   "codemirror_mode": {
    "name": "ipython",
    "version": 3
   },
   "file_extension": ".py",
   "mimetype": "text/x-python",
   "name": "python",
   "nbconvert_exporter": "python",
   "pygments_lexer": "ipython3",
   "version": "3.8.5"
  }
 },
 "nbformat": 4,
 "nbformat_minor": 4
}
