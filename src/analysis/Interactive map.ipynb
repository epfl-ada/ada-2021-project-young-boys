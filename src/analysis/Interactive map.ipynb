{
 "cells": [
  {
   "cell_type": "markdown",
   "id": "4f4866a9",
   "metadata": {},
   "source": [
    "# Creation of an interactive map"
   ]
  },
  {
   "cell_type": "markdown",
   "id": "6de08783",
   "metadata": {},
   "source": [
    "The objective of this section is to create a conclusive visualisation in the shape of an interactive map. It will include data per country and per year about : Sentiment towards the US, political v non political differences and main positive and negative topics"
   ]
  },
  {
   "cell_type": "code",
   "execution_count": null,
   "id": "b66268e0",
   "metadata": {},
   "outputs": [],
   "source": [
    "import folium \n",
    "import pandas as pd\n",
    "import numpy as np \n",
    "import json"
   ]
  },
  {
   "cell_type": "markdown",
   "id": "f684185c",
   "metadata": {},
   "source": [
    "### Sentiment and topics  "
   ]
  },
  {
   "cell_type": "markdown",
   "id": "17835350",
   "metadata": {},
   "source": [
    "We first need to get the sentiment and the main topics per country"
   ]
  },
  {
   "cell_type": "code",
   "execution_count": 576,
   "id": "4557788c",
   "metadata": {},
   "outputs": [
    {
     "name": "stderr",
     "output_type": "stream",
     "text": [
      "C:\\Users\\Kirsch\\Anaconda3\\lib\\site-packages\\IPython\\core\\interactiveshell.py:3441: DtypeWarning: Columns (4) have mixed types.Specify dtype option on import or set low_memory=False.\n",
      "  elif async_ :\n"
     ]
    },
    {
     "data": {
      "text/html": [
       "<div>\n",
       "<style scoped>\n",
       "    .dataframe tbody tr th:only-of-type {\n",
       "        vertical-align: middle;\n",
       "    }\n",
       "\n",
       "    .dataframe tbody tr th {\n",
       "        vertical-align: top;\n",
       "    }\n",
       "\n",
       "    .dataframe thead th {\n",
       "        text-align: right;\n",
       "    }\n",
       "</style>\n",
       "<table border=\"1\" class=\"dataframe\">\n",
       "  <thead>\n",
       "    <tr style=\"text-align: right;\">\n",
       "      <th></th>\n",
       "      <th>Unnamed: 0</th>\n",
       "      <th>nationality</th>\n",
       "      <th>sentiment</th>\n",
       "      <th>topic</th>\n",
       "      <th>quoteID</th>\n",
       "    </tr>\n",
       "  </thead>\n",
       "  <tbody>\n",
       "    <tr>\n",
       "      <th>0</th>\n",
       "      <td>0</td>\n",
       "      <td>United States of America</td>\n",
       "      <td>-0.228475</td>\n",
       "      <td>36</td>\n",
       "      <td>NaN</td>\n",
       "    </tr>\n",
       "    <tr>\n",
       "      <th>1</th>\n",
       "      <td>1</td>\n",
       "      <td>United States of America</td>\n",
       "      <td>0.398312</td>\n",
       "      <td>102</td>\n",
       "      <td>NaN</td>\n",
       "    </tr>\n",
       "    <tr>\n",
       "      <th>2</th>\n",
       "      <td>3</td>\n",
       "      <td>United States of America</td>\n",
       "      <td>-0.933972</td>\n",
       "      <td>131</td>\n",
       "      <td>NaN</td>\n",
       "    </tr>\n",
       "    <tr>\n",
       "      <th>3</th>\n",
       "      <td>4</td>\n",
       "      <td>United States of America</td>\n",
       "      <td>0.598767</td>\n",
       "      <td>102</td>\n",
       "      <td>NaN</td>\n",
       "    </tr>\n",
       "    <tr>\n",
       "      <th>4</th>\n",
       "      <td>5</td>\n",
       "      <td>United States of America</td>\n",
       "      <td>0.975977</td>\n",
       "      <td>72</td>\n",
       "      <td>NaN</td>\n",
       "    </tr>\n",
       "  </tbody>\n",
       "</table>\n",
       "</div>"
      ],
      "text/plain": [
       "   Unnamed: 0               nationality  sentiment  topic quoteID\n",
       "0           0  United States of America  -0.228475     36     NaN\n",
       "1           1  United States of America   0.398312    102     NaN\n",
       "2           3  United States of America  -0.933972    131     NaN\n",
       "3           4  United States of America   0.598767    102     NaN\n",
       "4           5  United States of America   0.975977     72     NaN"
      ]
     },
     "execution_count": 576,
     "metadata": {},
     "output_type": "execute_result"
    }
   ],
   "source": [
    "#Get the dataframe \n",
    "topic = pd.read_csv(\"../Data - Project/topic_nationality_total.csv\")\n",
    "topic.head()"
   ]
  },
  {
   "cell_type": "markdown",
   "id": "c2787bbd",
   "metadata": {},
   "source": [
    "The topic are integers, but this gives no information. We need a dictionnary to assign each number to a topic name (Done manually)"
   ]
  },
  {
   "cell_type": "code",
   "execution_count": 659,
   "id": "0048b9f2",
   "metadata": {},
   "outputs": [],
   "source": [
    "#Get the dictionnary \n",
    "dico = pd.read_csv(\"../Data - Project/dict.csv\", sep = \";\")\n",
    "dico[\"Topic Number\"] = dico[\"Topic Number\"].astype(float)\n",
    "dico.index = dico[\"Topic Number\"]\n",
    "dico.drop(\"Topic Number\", axis = 1, inplace = True)\n",
    "dicti = dico.to_dict()"
   ]
  },
  {
   "cell_type": "markdown",
   "id": "60838c7d",
   "metadata": {},
   "source": [
    "We now need to clean the data a bit to make it compatible with the interactive map. To do so, we need to make the names of the countries the same as in the geo data"
   ]
  },
  {
   "cell_type": "code",
   "execution_count": 660,
   "id": "c2b54c74",
   "metadata": {},
   "outputs": [],
   "source": [
    "#Dictionary making the names compatible\n",
    "country_name_map = {\n",
    "    \"People's Republic of China\": \"China\",\n",
    "    \"Kingdom of the Netherlands\": \"Netherlands\",\n",
    "    \"Republic of the Congo\": \"Congo\",\n",
    "    \"South Sudan\": \"S. Sudan\",\n",
    "    \"Democratic Republic of the Congo\": \"Dem. Rep. Congo\",\n",
    "    \"Bosnia and Herzegovina\": \"Bosnia and Herz.\",\n",
    "    \"Czech Republic\": \"Czechia\",\n",
    "    \"North Macedonia\": \"Macedonia\",\n",
    "    \"The Bahamas\": \"Bahamas\",\n",
    "    \"Dominican Republic\": \"Dominican Rep.\",\n",
    "    \"Solomon Islands\": \"Solomon Is.\",\n",
    "    \"Central African Republic\": \"Central African Rep.\"}"
   ]
  },
  {
   "cell_type": "code",
   "execution_count": 627,
   "id": "04abde8c",
   "metadata": {},
   "outputs": [],
   "source": [
    "topic = topic[topic[\"topic\"] != 131]\n",
    "topic[\"quoteID\"] = topic[\"quoteID\"].str.split(\"-\",1).str[0]\n",
    "topic[\"quoteID\"] = topic[\"quoteID\"].replace(np.nan, 2015)\n",
    "topic[\"topic\"].isna().sum()\n",
    "topic[\"nationality\"].replace(country_name_map, inplace = True)"
   ]
  },
  {
   "cell_type": "code",
   "execution_count": 628,
   "id": "2d214e81",
   "metadata": {},
   "outputs": [
    {
     "data": {
      "text/html": [
       "<div>\n",
       "<style scoped>\n",
       "    .dataframe tbody tr th:only-of-type {\n",
       "        vertical-align: middle;\n",
       "    }\n",
       "\n",
       "    .dataframe tbody tr th {\n",
       "        vertical-align: top;\n",
       "    }\n",
       "\n",
       "    .dataframe thead th {\n",
       "        text-align: right;\n",
       "    }\n",
       "</style>\n",
       "<table border=\"1\" class=\"dataframe\">\n",
       "  <thead>\n",
       "    <tr style=\"text-align: right;\">\n",
       "      <th></th>\n",
       "      <th>Unnamed: 0</th>\n",
       "      <th>nationality</th>\n",
       "      <th>sentiment</th>\n",
       "      <th>topic</th>\n",
       "      <th>quoteID</th>\n",
       "    </tr>\n",
       "  </thead>\n",
       "  <tbody>\n",
       "    <tr>\n",
       "      <th>0</th>\n",
       "      <td>0</td>\n",
       "      <td>United States of America</td>\n",
       "      <td>-0.228475</td>\n",
       "      <td>36</td>\n",
       "      <td>2015</td>\n",
       "    </tr>\n",
       "    <tr>\n",
       "      <th>1</th>\n",
       "      <td>1</td>\n",
       "      <td>United States of America</td>\n",
       "      <td>0.398312</td>\n",
       "      <td>102</td>\n",
       "      <td>2015</td>\n",
       "    </tr>\n",
       "    <tr>\n",
       "      <th>3</th>\n",
       "      <td>4</td>\n",
       "      <td>United States of America</td>\n",
       "      <td>0.598767</td>\n",
       "      <td>102</td>\n",
       "      <td>2015</td>\n",
       "    </tr>\n",
       "    <tr>\n",
       "      <th>4</th>\n",
       "      <td>5</td>\n",
       "      <td>United States of America</td>\n",
       "      <td>0.975977</td>\n",
       "      <td>72</td>\n",
       "      <td>2015</td>\n",
       "    </tr>\n",
       "    <tr>\n",
       "      <th>5</th>\n",
       "      <td>7</td>\n",
       "      <td>United States of America</td>\n",
       "      <td>-0.892552</td>\n",
       "      <td>3</td>\n",
       "      <td>2015</td>\n",
       "    </tr>\n",
       "  </tbody>\n",
       "</table>\n",
       "</div>"
      ],
      "text/plain": [
       "   Unnamed: 0               nationality  sentiment  topic quoteID\n",
       "0           0  United States of America  -0.228475     36    2015\n",
       "1           1  United States of America   0.398312    102    2015\n",
       "3           4  United States of America   0.598767    102    2015\n",
       "4           5  United States of America   0.975977     72    2015\n",
       "5           7  United States of America  -0.892552      3    2015"
      ]
     },
     "execution_count": 628,
     "metadata": {},
     "output_type": "execute_result"
    }
   ],
   "source": [
    "topic.head()"
   ]
  },
  {
   "cell_type": "markdown",
   "id": "2d6fde49",
   "metadata": {},
   "source": [
    "We want to have good and bad topics, so we need to apply a filter on the sentiments to get this differences"
   ]
  },
  {
   "cell_type": "code",
   "execution_count": 629,
   "id": "3f5390ad",
   "metadata": {},
   "outputs": [
    {
     "data": {
      "text/plain": [
       "Index([2015, '2016', '2017', '2018', '2019', '2020', 'nationality'], dtype='object', name='quoteID')"
      ]
     },
     "execution_count": 629,
     "metadata": {},
     "output_type": "execute_result"
    }
   ],
   "source": [
    "sent  = topic.groupby([\"quoteID\",\"nationality\"])[\"sentiment\"].mean().to_frame().reset_index()\n",
    "\n",
    "#Make the df have countries as rows and years as columns\n",
    "sent = sent.pivot(\"nationality\",\"quoteID\",\"sentiment\")\n",
    "sent[\"nationality\"] = sent.index\n",
    "sent.columns"
   ]
  },
  {
   "cell_type": "code",
   "execution_count": 649,
   "id": "be2cb311",
   "metadata": {},
   "outputs": [],
   "source": [
    "good = topic[topic[\"sentiment\"]>0.3]\n",
    "bad = topic[topic[\"sentiment\"]<-0.3]\n"
   ]
  },
  {
   "cell_type": "markdown",
   "id": "a2c692a2",
   "metadata": {},
   "source": [
    "The data is ready, we can now apply groupby and mode to get the most common topic per year and country, we then pivot the df to have countries as rows and years as columns"
   ]
  },
  {
   "cell_type": "code",
   "execution_count": 650,
   "id": "eaa365a9",
   "metadata": {},
   "outputs": [
    {
     "data": {
      "text/plain": [
       "Index(['quoteID', 'nationality', 'topic'], dtype='object')"
      ]
     },
     "execution_count": 650,
     "metadata": {},
     "output_type": "execute_result"
    }
   ],
   "source": [
    "good_gb = good.groupby([\"quoteID\",\"nationality\"])[\"topic\"].agg(lambda x:x.value_counts().index[0]).to_frame().reset_index()\n",
    "bad_gb = bad.groupby([\"quoteID\",\"nationality\"])[\"topic\"].agg(lambda x:x.value_counts().index[0]).to_frame().reset_index()\n"
   ]
  },
  {
   "cell_type": "code",
   "execution_count": 652,
   "id": "f344cc0b",
   "metadata": {},
   "outputs": [],
   "source": [
    "good_gb = good_gb.pivot(\"nationality\",\"quoteID\",\"topic\")\n",
    "bad_gb = bad_gb.pivot(\"nationality\",\"quoteID\",\"topic\")\n",
    "ok_gb = ok_gb.pivot(\"nationality\",\"quoteID\",\"topic\")\n",
    "good_gb = ok_gb.replace(np.nan, \"NA\")\n",
    "bad_gb = ok_gb.replace(np.nan, \"NA\")\n",
    "ok_gb = ok_gb.replace(np.nan, \"NA\")\n",
    "ok_gb = ok_gb.replace(dicti[\"Topic Label\"])\n",
    "good_gb = good_gb.replace(dicti[\"Topic Label\"])\n",
    "bad_gb = bad_gb.replace(dicti[\"Topic Label\"])\n"
   ]
  },
  {
   "cell_type": "code",
   "execution_count": 665,
   "id": "6e3c8687",
   "metadata": {},
   "outputs": [],
   "source": [
    "good_gb[\"country\"] = good_gb.index\n",
    "ok_gb[\"country\"] = ok_gb.index\n",
    "bad_gb[\"country\"] = bad_gb.index"
   ]
  },
  {
   "cell_type": "markdown",
   "id": "8371ce39",
   "metadata": {},
   "source": [
    "### Politicians and non-politicians"
   ]
  },
  {
   "cell_type": "markdown",
   "id": "ef7e58a1",
   "metadata": {},
   "source": [
    "We load the data and apply some preprocessing"
   ]
  },
  {
   "cell_type": "code",
   "execution_count": 661,
   "id": "97d24da0",
   "metadata": {},
   "outputs": [],
   "source": [
    "df = pd.read_csv(\"../Data - Project/stats_politicians.csv.bz2\")\n",
    "\n",
    "df[\"Country\"] = df.index\n",
    "\n",
    "df = df.pivot(\"country\",\"year\",\"abs_diff\")   \n",
    "    \n",
    "df[\"Country\"] = df.index\n",
    "df[\"Country\"].replace(country_name_map, inplace = True)\n"
   ]
  },
  {
   "cell_type": "markdown",
   "id": "417f8627",
   "metadata": {},
   "source": [
    "### Matching with the geo data "
   ]
  },
  {
   "cell_type": "markdown",
   "id": "a38bdf26",
   "metadata": {},
   "source": [
    "For the map to function, we need to make our data match with the geo data. To do so, we keep only the countries available in both datasets"
   ]
  },
  {
   "cell_type": "code",
   "execution_count": 637,
   "id": "6e1494f0",
   "metadata": {},
   "outputs": [],
   "source": [
    "f = open(r'C:\\Users\\Kirsch\\ADA2021\\Data - Project/world-countries.json')\n",
    "country_shape = json.load(f)"
   ]
  },
  {
   "cell_type": "code",
   "execution_count": 666,
   "id": "4e936c59",
   "metadata": {},
   "outputs": [],
   "source": [
    "countries = good_gb[\"country\"].to_list()\n",
    "\n",
    "output_dict = []\n",
    "common_countries = []\n",
    "\n",
    "for i in range(len(country_shape['features'])) : \n",
    "    if country_shape['features'][i]['properties'][\"name\"] in (countries):\n",
    "        output_dict.append(country_shape['features'][i])\n",
    "        common_countries.append(country_shape['features'][i][\"properties\"][\"name\"])"
   ]
  },
  {
   "cell_type": "code",
   "execution_count": 667,
   "id": "d465ccaf",
   "metadata": {},
   "outputs": [
    {
     "data": {
      "text/plain": [
       "144"
      ]
     },
     "execution_count": 667,
     "metadata": {},
     "output_type": "execute_result"
    }
   ],
   "source": [
    "len(common_countries)"
   ]
  },
  {
   "cell_type": "markdown",
   "id": "434593bd",
   "metadata": {},
   "source": [
    "144 countries are common. This is good. We now need to rank them alphabetically to match the JSON file"
   ]
  },
  {
   "cell_type": "code",
   "execution_count": 641,
   "id": "1d869856",
   "metadata": {},
   "outputs": [],
   "source": [
    "ct = []\n",
    "for i in range(len(output_dict)) :\n",
    "    c = output_dict[i][\"properties\"][\"name\"]\n",
    "    ct.append(c)\n",
    "    \n",
    "ct.sort()\n"
   ]
  },
  {
   "cell_type": "code",
   "execution_count": 653,
   "id": "d91970b8",
   "metadata": {},
   "outputs": [],
   "source": [
    "out = []\n",
    "#Apply the country filtering on the JSON\n",
    "for i in ct: \n",
    "    for j in range(len(output_dict)): \n",
    "        if output_dict[j][\"properties\"][\"name\"] == i : \n",
    "            out.append(output_dict[j])\n",
    "            \n",
    "country_shape[\"features\"]  = out"
   ]
  },
  {
   "cell_type": "markdown",
   "id": "9c13a999",
   "metadata": {},
   "source": [
    "For all the hovering data, we need to insert our data in the json file"
   ]
  },
  {
   "cell_type": "code",
   "execution_count": 670,
   "id": "e6f541aa",
   "metadata": {},
   "outputs": [
    {
     "name": "stdout",
     "output_type": "stream",
     "text": [
      "144\n"
     ]
    }
   ],
   "source": [
    "# prepare the customised text\n",
    "tooltip_text = []\n",
    "_2015 = []\n",
    "_2016 = []\n",
    "_2017 = []\n",
    "_2018 = []\n",
    "_2019 = []\n",
    "_2020 = []\n",
    "good_2015 = []\n",
    "good_2016 = []\n",
    "good_2017 = []\n",
    "good_2018 = []\n",
    "good_2019 = []\n",
    "good_2020 = []\n",
    "ok_2015 = []\n",
    "ok_2016 = []\n",
    "ok_2017 = []\n",
    "ok_2018 = []\n",
    "ok_2019 = []\n",
    "ok_2020 = []\n",
    "bad_2015 = []\n",
    "bad_2016 = []\n",
    "bad_2017 = []\n",
    "bad_2018 = []\n",
    "bad_2019 = []\n",
    "bad_2020 = []\n",
    "df = df[df[\"Country\"].isin(common_countries)]\n",
    "good_gb = good_gb[good_gb[\"country\"].isin(common_countries)]\n",
    "ok_gb = ok_gb[ok_gb[\"country\"].isin(common_countries)]\n",
    "badd_gb = bad_gb[bad_gb[\"country\"].isin(common_countries)]\n",
    "\n",
    "#Normalize the politician versus non politician score\n",
    "for i in range(2015,2021) : \n",
    "    df[i] = (df[i]-df[i].min())/(df[i].max()-df[i].min())\n",
    "    for j in range(len(df)) : \n",
    "        df.iloc[j,i-2015] = df.iloc[j,i-2015].item() \n",
    "df = df.round(2)\n",
    "#Get all the hover data\n",
    "for idx in range(len(df)):\n",
    "    good_2015.append(str(good_gb[2015][idx]))\n",
    "    good_2016.append(str(good_gb[\"2016\"][idx]))\n",
    "    good_2017.append(str(good_gb[\"2017\"][idx]))\n",
    "    good_2018.append(str(good_gb[\"2018\"][idx]))\n",
    "    good_2019.append(str(good_gb[\"2019\"][idx]))\n",
    "    good_2020.append(str(good_gb[\"2020\"][idx]))\n",
    "    \n",
    "    ok_2015.append(str(ok_gb[2015][idx]))\n",
    "    ok_2016.append(str(ok_gb[\"2016\"][idx]))\n",
    "    ok_2017.append(str(ok_gb[\"2017\"][idx]))\n",
    "    ok_2018.append(str(ok_gb[\"2018\"][idx]))\n",
    "    ok_2019.append(str(ok_gb[\"2019\"][idx]))\n",
    "    ok_2020.append(str(ok_gb[\"2020\"][idx]))\n",
    "    \n",
    "    bad_2015.append(str(bad_gb[2015][idx]))\n",
    "    bad_2016.append(str(bad_gb[\"2016\"][idx]))\n",
    "    bad_2017.append(str(bad_gb[\"2017\"][idx]))\n",
    "    bad_2018.append(str(bad_gb[\"2018\"][idx]))\n",
    "    bad_2019.append(str(bad_gb[\"2019\"][idx]))\n",
    "    bad_2020.append(str(bad_gb[\"2020\"][idx]))\n",
    "    \n",
    "    _2015.append(str(df[2015][idx]))\n",
    "    _2016.append(str(df[2016][idx]))\n",
    "    _2017.append(str(df[2017][idx]))\n",
    "    _2018.append(str(df[2018][idx]))\n",
    "    _2019.append(str(df[2019][idx]))\n",
    "    _2020.append(str(df[2020][idx]))\n",
    "    \n",
    "                     \n",
    "# Append the data to the JSON file\n",
    "for idx in range(len(df)):\n",
    "    country_shape['features'][idx]['properties']['good_2015'] = good_2015[idx]\n",
    "    country_shape['features'][idx]['properties']['good_2016'] = good_2016[idx]\n",
    "    country_shape['features'][idx]['properties']['good_2017'] = good_2017[idx]\n",
    "    country_shape['features'][idx]['properties']['good_2018'] = good_2018[idx]\n",
    "    country_shape['features'][idx]['properties']['good_2019'] = good_2019[idx]\n",
    "    country_shape['features'][idx]['properties']['good_2020'] = good_2020[idx]\n",
    "    \n",
    "    country_shape['features'][idx]['properties']['ok_2015'] = ok_2015[idx]\n",
    "    country_shape['features'][idx]['properties']['ok_2016'] = ok_2016[idx]\n",
    "    country_shape['features'][idx]['properties']['ok_2017'] = ok_2017[idx]\n",
    "    country_shape['features'][idx]['properties']['ok_2018'] = ok_2018[idx]\n",
    "    country_shape['features'][idx]['properties']['ok_2019'] = ok_2019[idx]\n",
    "    country_shape['features'][idx]['properties']['ok_2020'] = ok_2020[idx]\n",
    "    \n",
    "    country_shape['features'][idx]['properties']['bad_2015'] = bad_2015[idx]\n",
    "    country_shape['features'][idx]['properties']['bad_2016'] = bad_2016[idx]\n",
    "    country_shape['features'][idx]['properties']['bad_2017'] = bad_2017[idx]\n",
    "    country_shape['features'][idx]['properties']['bad_2018'] = bad_2018[idx]\n",
    "    country_shape['features'][idx]['properties']['bad_2019'] = bad_2019[idx]\n",
    "    country_shape['features'][idx]['properties']['bad_2020'] = bad_2020[idx]\n",
    "    \n",
    "    country_shape['features'][idx]['properties']['2015'] = _2015[idx]\n",
    "    country_shape['features'][idx]['properties']['2016'] = _2016[idx]\n",
    "    country_shape['features'][idx]['properties']['2017'] = _2017[idx]\n",
    "    country_shape['features'][idx]['properties']['2018'] = _2018[idx]\n",
    "    country_shape['features'][idx]['properties']['2019'] = _2019[idx]\n",
    "    country_shape['features'][idx]['properties']['2020'] = _2020[idx]\n"
   ]
  },
  {
   "cell_type": "markdown",
   "id": "76e5914c",
   "metadata": {},
   "source": [
    "## Create the map "
   ]
  },
  {
   "cell_type": "markdown",
   "id": "c6b50d5d",
   "metadata": {},
   "source": [
    "Finally, everything is done for us to create the interactive map"
   ]
  },
  {
   "cell_type": "code",
   "execution_count": 658,
   "id": "3711cb7c",
   "metadata": {},
   "outputs": [],
   "source": [
    "m = folium.Map()\n",
    "\n",
    "#Create basemap\n",
    "base_map = folium.FeatureGroup(name='Basemap', overlay=True, control=False)\n",
    "folium.TileLayer(tiles='OpenStreetMap').add_to(base_map)\n",
    "base_map.add_to(m)\n",
    "\n",
    "\n",
    "#Add the sentiment for all the years\n",
    "\n",
    "chloropeth_2015 = folium.Choropleth(\n",
    "    #The GeoJSON data to represent the world country\n",
    "    geo_data=country_shape,\n",
    "    name='2015',\n",
    "    data=sent,\n",
    "    #The column aceppting list with 2 value; The country name and  the numerical value\n",
    "    columns=['nationality', 2015],\n",
    "    key_on='feature.properties.name',\n",
    "    legend_name='Sentiment towards the US per year',\n",
    "    fill_color='RdYlGn',\n",
    "    fill_opacity=0.7,\n",
    "    line_opacity=0.2,\n",
    "    missing_kwds={'color': 'white'},\n",
    "    overlay = False,\n",
    "    nan_fill_color = \"White\"\n",
    ").add_to(m)\n",
    "\n",
    "chloropeth_2016 = folium.Choropleth(\n",
    "    #The GeoJSON data to represent the world country\n",
    "    geo_data=country_shape,\n",
    "    name='2016',\n",
    "    data=sent,\n",
    "    #The column aceppting list with 2 value; The country name and  the numerical value\n",
    "    columns=['nationality', \"2016\"],\n",
    "    key_on='feature.properties.name',\n",
    "    legend_name='Sentiment towards the US per year',\n",
    "    fill_color='RdYlGn',\n",
    "    fill_opacity=0.7,\n",
    "    line_opacity=0.2,\n",
    "    missing_kwds={'color': 'white'},\n",
    "    overlay = False,\n",
    "    nan_fill_color = \"White\"\n",
    ").add_to(m)\n",
    "\n",
    "chloropeth_2017 = folium.Choropleth(\n",
    "    #The GeoJSON data to represent the world country\n",
    "    geo_data=country_shape,\n",
    "    name='2017',\n",
    "    data=sent,\n",
    "    #The column aceppting list with 2 value; The country name and  the numerical value\n",
    "    columns=['nationality', \"2017\"],\n",
    "    key_on='feature.properties.name',\n",
    "    legend_name='Sentiment towards the US per year',\n",
    "    fill_color='RdYlGn',\n",
    "    fill_opacity=0.7,\n",
    "    line_opacity=0.2,\n",
    "    missing_kwds={'color': 'white'},\n",
    "    overlay = False,\n",
    "    nan_fill_color = \"White\"\n",
    ").add_to(m)\n",
    "\n",
    "chloropeth_2018 = folium.Choropleth(\n",
    "    #The GeoJSON data to represent the world country\n",
    "    geo_data=country_shape,\n",
    "    name='2018',\n",
    "    data=sent,\n",
    "    #The column aceppting list with 2 value; The country name and  the numerical value\n",
    "    columns=['nationality', \"2018\"],\n",
    "    key_on='feature.properties.name',\n",
    "    fill_color='RdYlGn',\n",
    "    fill_opacity=0.7,\n",
    "    line_opacity=0.2,\n",
    "    missing_kwds={'color': 'white'},\n",
    "    overlay = False,\n",
    "    nan_fill_color = \"White\"\n",
    "    \n",
    ").add_to(m)\n",
    "\n",
    "chloropeth_2019 = folium.Choropleth(\n",
    "    #The GeoJSON data to represent the world country\n",
    "    geo_data=country_shape,\n",
    "    name='2019',\n",
    "    data=sent,\n",
    "    #The column aceppting list with 2 value; The country name and  the numerical value\n",
    "    columns=['nationality', \"2019\"],\n",
    "    key_on='feature.properties.name',\n",
    "    legend_name='Sentiment towards the US per year',\n",
    "    fill_color='RdYlGn',\n",
    "    fill_opacity=0.7,\n",
    "    line_opacity=0.2,\n",
    "    missing_kwds={'color': 'white'},\n",
    "    overlay = False,\n",
    "    nan_fill_color = \"White\"\n",
    ").add_to(m)\n",
    "\n",
    "chloropeth_2020 = folium.Choropleth(\n",
    "    #The GeoJSON data to represent the world country\n",
    "    geo_data=country_shape,\n",
    "    name='2020',\n",
    "    data=sent,\n",
    "    #The column aceppting list with 2 value; The country name and  the numerical value\n",
    "    columns=['nationality', \"2020\"],\n",
    "    key_on='feature.properties.name',\n",
    "    legend_name='Sentiment towards the US per year',\n",
    "    fill_color='RdYlGn',\n",
    "    fill_opacity=0.7,\n",
    "    line_opacity=0.2,\n",
    "    missing_kwds={'color': 'white'},\n",
    "    overlay = False,\n",
    "    nan_fill_color = \"White\"\n",
    ").add_to(m)\n",
    "\n",
    "\n",
    "#Add the hover informations for all the years\n",
    "folium.LayerControl().add_to(m)\n",
    "\n",
    "chloropeth_2015.geojson.add_child(\n",
    "    folium.features.GeoJsonTooltip(\n",
    "        fields=['name','2015', 'good_2015' ,'bad_2015'],\n",
    "        aliases=['Country', 'Politic vs non politic', 'Most positive topic : ', \"Negative topics : \"],\n",
    "        style=('background-color: grey; color: white;'),\n",
    "        localize=True\n",
    "        )\n",
    ")\n",
    "chloropeth_2016.geojson.add_child(\n",
    "    folium.features.GeoJsonTooltip(\n",
    "        fields=['name','2016', 'good_2016','bad_2016'],\n",
    "        aliases=['Country', 'Politic vs non politic', \"Most positive topic : \", \"Negative topics : \"],\n",
    "        style=('background-color: grey; color: white;'),\n",
    "        localize=True\n",
    "        )\n",
    ")\n",
    "chloropeth_2017.geojson.add_child(\n",
    "    folium.features.GeoJsonTooltip(\n",
    "        fields=['name','2017', 'good_2017','bad_2017'],\n",
    "        aliases=['Country', 'Politic vs non politic', 'Most positive topic : ', \"Negative topics : \"],\n",
    "        style=('background-color: grey; color: white;'),\n",
    "        localize=True\n",
    "        )\n",
    ")\n",
    "chloropeth_2018.geojson.add_child(\n",
    "    folium.features.GeoJsonTooltip(\n",
    "        fields=['name','2018', 'good_2018', 'bad_2018'],\n",
    "        aliases=['Country', 'Politic vs non politic', 'Most positive topic : ', \"Negative topics : \"],\n",
    "        style=('background-color: grey; color: white;'),\n",
    "        localize=True\n",
    "        )    \n",
    ")\n",
    "chloropeth_2019.geojson.add_child(\n",
    "    folium.features.GeoJsonTooltip(\n",
    "        fields=['name','2019', 'good_2019', 'bad_2019'],\n",
    "        aliases=['Country', 'Politic vs non politic', 'Most positive topic : ', \"Negative topics : \"],\n",
    "        style=('background-color: grey; color: white;'),\n",
    "        localize=True\n",
    "        )\n",
    ")\n",
    "chloropeth_2020.geojson.add_child(\n",
    "    folium.features.GeoJsonTooltip(\n",
    "        fields=['name','2020', 'good_2020', 'bad_2020'],\n",
    "        aliases=['Country', 'Politic vs non politic', 'Most positive topic : ', \"Negative topics : \"],\n",
    "        style=('background-color: grey; color: white;'),\n",
    "        localize=True\n",
    "        )\n",
    ")\n",
    "\n",
    "#Keep only one legend\n",
    "for key in chloropeth_2016._children : \n",
    "    if key.startswith(\"color_map\"):\n",
    "        del chloropeth_2016._children[key]\n",
    "for key in chloropeth_2017._children : \n",
    "    if key.startswith(\"color_map\"):\n",
    "        del chloropeth_2017._children[key]\n",
    "for key in chloropeth_2018._children : \n",
    "    if key.startswith(\"color_map\"):\n",
    "        del chloropeth_2018._children[key]\n",
    "for key in chloropeth_2019._children : \n",
    "    if key.startswith(\"color_map\"):\n",
    "        del chloropeth_2019._children[key]\n",
    "for key in chloropeth_2020._children : \n",
    "    if key.startswith(\"color_map\"):\n",
    "        del chloropeth_2020._children[key]\n",
    "\n",
    "#Save the map\n",
    "m.save('final_map.html')\n"
   ]
  }
 ],
 "metadata": {
  "kernelspec": {
   "display_name": "Python 3 (ipykernel)",
   "language": "python",
   "name": "python3"
  },
  "language_info": {
   "codemirror_mode": {
    "name": "ipython",
    "version": 3
   },
   "file_extension": ".py",
   "mimetype": "text/x-python",
   "name": "python",
   "nbconvert_exporter": "python",
   "pygments_lexer": "ipython3",
   "version": "3.7.3"
  }
 },
 "nbformat": 4,
 "nbformat_minor": 5
}
