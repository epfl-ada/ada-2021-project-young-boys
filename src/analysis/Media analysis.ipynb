{
 "cells": [
  {
   "cell_type": "markdown",
   "id": "707f55d5",
   "metadata": {},
   "source": [
    "# Media analysis\n"
   ]
  },
  {
   "cell_type": "markdown",
   "id": "a4322290",
   "metadata": {},
   "source": [
    "The objective of this notebook is to assess whether some medias bias the sentiment towards the USA. This means is there some medias only broadcasting positive or negative quotes about the USA. To find this out, we first need to extract the medias and then perform some statistical analyses on them. The analysis is only performed on a sample here fore runtime, but it has been performed on all the data"
   ]
  },
  {
   "cell_type": "code",
   "execution_count": 102,
   "id": "7a1ce687",
   "metadata": {},
   "outputs": [],
   "source": [
    "import pandas as pd \n",
    "import numpy as np\n",
    "from  urllib import parse\n",
    "import matplotlib.pyplot as plt\n",
    "from scipy.stats import ttest_ind\n",
    "import seaborn as sns\n",
    "import nltk\n",
    "from nltk.sentiment import SentimentIntensityAnalyzer"
   ]
  },
  {
   "cell_type": "code",
   "execution_count": 103,
   "id": "7209553c",
   "metadata": {},
   "outputs": [],
   "source": [
    "df = pd.read_json(\"../Data - Project/quotes-2020-us.json.bz2\", lines = True, compression='bz2')"
   ]
  },
  {
   "cell_type": "markdown",
   "id": "95833f51",
   "metadata": {},
   "source": [
    "### Isolating the websites  "
   ]
  },
  {
   "cell_type": "markdown",
   "id": "40f0ac07",
   "metadata": {},
   "source": [
    "To assess the impact of medias, we first need to find the medias in the data. There is no columns \"media\", but we have the url of the articles. By accessing the domain name of each article, we can find information on the media. However, the urls are in a list (all the articles where the citation occured), so the first step is to explode these lists in different rows "
   ]
  },
  {
   "cell_type": "code",
   "execution_count": 105,
   "id": "726454ae",
   "metadata": {},
   "outputs": [],
   "source": [
    "merge = df.explode(\"urls\")\n",
    "merge.rename(columns={\"urls\":'url'}, inplace=True)"
   ]
  },
  {
   "cell_type": "code",
   "execution_count": 7,
   "id": "d3bd56b6",
   "metadata": {},
   "outputs": [],
   "source": [
    "#Isolate the domain name\n",
    "merge[\"media\"] = merge[\"url\"].apply(lambda x : \"{url.netloc}\".format(url = parse.urlparse(x)))"
   ]
  },
  {
   "cell_type": "code",
   "execution_count": 8,
   "id": "316dc032",
   "metadata": {},
   "outputs": [
    {
     "data": {
      "text/html": [
       "<div>\n",
       "<style scoped>\n",
       "    .dataframe tbody tr th:only-of-type {\n",
       "        vertical-align: middle;\n",
       "    }\n",
       "\n",
       "    .dataframe tbody tr th {\n",
       "        vertical-align: top;\n",
       "    }\n",
       "\n",
       "    .dataframe thead th {\n",
       "        text-align: right;\n",
       "    }\n",
       "</style>\n",
       "<table border=\"1\" class=\"dataframe\">\n",
       "  <thead>\n",
       "    <tr style=\"text-align: right;\">\n",
       "      <th></th>\n",
       "      <th>quoteID</th>\n",
       "      <th>quotation</th>\n",
       "      <th>speaker</th>\n",
       "      <th>qids</th>\n",
       "      <th>date</th>\n",
       "      <th>numOccurrences</th>\n",
       "      <th>probas</th>\n",
       "      <th>phase</th>\n",
       "      <th>url</th>\n",
       "      <th>media</th>\n",
       "    </tr>\n",
       "  </thead>\n",
       "  <tbody>\n",
       "    <tr>\n",
       "      <th>0</th>\n",
       "      <td>2020-03-19-002801</td>\n",
       "      <td>All immigration to the US should be halted due...</td>\n",
       "      <td>Laura Ingraham</td>\n",
       "      <td>[Q266863]</td>\n",
       "      <td>2020-03-19 19:42:07</td>\n",
       "      <td>2</td>\n",
       "      <td>[[Laura Ingraham, 0.7681], [None, 0.2254], [Me...</td>\n",
       "      <td>E</td>\n",
       "      <td>https://www.lifezette.com/2020/03/laura-ingrah...</td>\n",
       "      <td>www.lifezette.com</td>\n",
       "    </tr>\n",
       "    <tr>\n",
       "      <th>0</th>\n",
       "      <td>2020-03-19-002801</td>\n",
       "      <td>All immigration to the US should be halted due...</td>\n",
       "      <td>Laura Ingraham</td>\n",
       "      <td>[Q266863]</td>\n",
       "      <td>2020-03-19 19:42:07</td>\n",
       "      <td>2</td>\n",
       "      <td>[[Laura Ingraham, 0.7681], [None, 0.2254], [Me...</td>\n",
       "      <td>E</td>\n",
       "      <td>https://www.washingtonexaminer.com/news/fox-ne...</td>\n",
       "      <td>www.washingtonexaminer.com</td>\n",
       "    </tr>\n",
       "    <tr>\n",
       "      <th>1</th>\n",
       "      <td>2020-01-03-006209</td>\n",
       "      <td>At the direction of the President, the U.S. mi...</td>\n",
       "      <td>Qasem Soleimani</td>\n",
       "      <td>[Q892014]</td>\n",
       "      <td>2020-01-03 19:38:54</td>\n",
       "      <td>1</td>\n",
       "      <td>[[Qasem Soleimani, 0.6097], [None, 0.368], [Ma...</td>\n",
       "      <td>E</td>\n",
       "      <td>http://www.breitbart.com/politics/2020/01/03/m...</td>\n",
       "      <td>www.breitbart.com</td>\n",
       "    </tr>\n",
       "    <tr>\n",
       "      <th>2</th>\n",
       "      <td>2020-03-09-006179</td>\n",
       "      <td>Australians have always liked close, high-spee...</td>\n",
       "      <td>None</td>\n",
       "      <td>[]</td>\n",
       "      <td>2020-03-09 23:00:00</td>\n",
       "      <td>1</td>\n",
       "      <td>[[None, 0.9157], [Albert Park, 0.0843]]</td>\n",
       "      <td>E</td>\n",
       "      <td>http://goulburnpost.com.au/story/6670037/willm...</td>\n",
       "      <td>goulburnpost.com.au</td>\n",
       "    </tr>\n",
       "    <tr>\n",
       "      <th>3</th>\n",
       "      <td>2020-02-05-010601</td>\n",
       "      <td>best week [ US President ] Trump has had, poli...</td>\n",
       "      <td>Greg Sheridan</td>\n",
       "      <td>[Q5606248]</td>\n",
       "      <td>2020-02-05 08:31:35</td>\n",
       "      <td>1</td>\n",
       "      <td>[[Greg Sheridan, 0.8975], [None, 0.1025]]</td>\n",
       "      <td>E</td>\n",
       "      <td>http://www.skynews.com.au/details/_6129694652001</td>\n",
       "      <td>www.skynews.com.au</td>\n",
       "    </tr>\n",
       "  </tbody>\n",
       "</table>\n",
       "</div>"
      ],
      "text/plain": [
       "             quoteID                                          quotation  \\\n",
       "0  2020-03-19-002801  All immigration to the US should be halted due...   \n",
       "0  2020-03-19-002801  All immigration to the US should be halted due...   \n",
       "1  2020-01-03-006209  At the direction of the President, the U.S. mi...   \n",
       "2  2020-03-09-006179  Australians have always liked close, high-spee...   \n",
       "3  2020-02-05-010601  best week [ US President ] Trump has had, poli...   \n",
       "\n",
       "           speaker        qids                date  numOccurrences  \\\n",
       "0   Laura Ingraham   [Q266863] 2020-03-19 19:42:07               2   \n",
       "0   Laura Ingraham   [Q266863] 2020-03-19 19:42:07               2   \n",
       "1  Qasem Soleimani   [Q892014] 2020-01-03 19:38:54               1   \n",
       "2             None          [] 2020-03-09 23:00:00               1   \n",
       "3    Greg Sheridan  [Q5606248] 2020-02-05 08:31:35               1   \n",
       "\n",
       "                                              probas phase  \\\n",
       "0  [[Laura Ingraham, 0.7681], [None, 0.2254], [Me...     E   \n",
       "0  [[Laura Ingraham, 0.7681], [None, 0.2254], [Me...     E   \n",
       "1  [[Qasem Soleimani, 0.6097], [None, 0.368], [Ma...     E   \n",
       "2            [[None, 0.9157], [Albert Park, 0.0843]]     E   \n",
       "3          [[Greg Sheridan, 0.8975], [None, 0.1025]]     E   \n",
       "\n",
       "                                                 url  \\\n",
       "0  https://www.lifezette.com/2020/03/laura-ingrah...   \n",
       "0  https://www.washingtonexaminer.com/news/fox-ne...   \n",
       "1  http://www.breitbart.com/politics/2020/01/03/m...   \n",
       "2  http://goulburnpost.com.au/story/6670037/willm...   \n",
       "3   http://www.skynews.com.au/details/_6129694652001   \n",
       "\n",
       "                        media  \n",
       "0           www.lifezette.com  \n",
       "0  www.washingtonexaminer.com  \n",
       "1           www.breitbart.com  \n",
       "2         goulburnpost.com.au  \n",
       "3          www.skynews.com.au  "
      ]
     },
     "execution_count": 8,
     "metadata": {},
     "output_type": "execute_result"
    }
   ],
   "source": [
    "merge.head()"
   ]
  },
  {
   "cell_type": "markdown",
   "id": "aa33cebf",
   "metadata": {},
   "source": [
    "### Analysing the medias  "
   ]
  },
  {
   "cell_type": "markdown",
   "id": "aa24f910",
   "metadata": {},
   "source": [
    "Now that we have the media, it is interesting to have some information about it. The first thing to know is how many different medias there is"
   ]
  },
  {
   "cell_type": "code",
   "execution_count": 9,
   "id": "078664b1",
   "metadata": {},
   "outputs": [
    {
     "data": {
      "text/plain": [
       "5517"
      ]
     },
     "execution_count": 9,
     "metadata": {},
     "output_type": "execute_result"
    }
   ],
   "source": [
    "merge.media.nunique() "
   ]
  },
  {
   "cell_type": "markdown",
   "id": "11881461",
   "metadata": {},
   "source": [
    "There are 5517 different medias. This is a lot, it could be interesting to look at the most common ones"
   ]
  },
  {
   "cell_type": "code",
   "execution_count": 10,
   "id": "403d03c7",
   "metadata": {},
   "outputs": [],
   "source": [
    "medias = merge.groupby(\"media\").size()"
   ]
  },
  {
   "cell_type": "code",
   "execution_count": 11,
   "id": "62bd1e63",
   "metadata": {},
   "outputs": [
    {
     "data": {
      "text/plain": [
       "media\n",
       "uspolitics.einnews.com        6364\n",
       "www.news965.com               2622\n",
       "www.breitbart.com             2353\n",
       "www.msn.com                   2315\n",
       "www.wokv.com                  2269\n",
       "brazilbusiness.einnews.com    1668\n",
       "msn.com                       1447\n",
       "www.timesofisrael.com         1380\n",
       "tass.com                      1333\n",
       "www.washingtontimes.com       1246\n",
       "www.wsbradio.com              1199\n",
       "www.rawstory.com              1153\n",
       "www.washingtonexaminer.com    1075\n",
       "hypervocal.com                1072\n",
       "thehill.com                   1051\n",
       "www.nbcnews.com               1042\n",
       "feeds.cbsnews.com              985\n",
       "newsok.com                     981\n",
       "www.foxnews.com                965\n",
       "wtmj.com                       944\n",
       "kvia.com                       942\n",
       "www.krmg.com                   907\n",
       "www.deccanherald.com           850\n",
       "www.nytimes.com                848\n",
       "www.nhregister.com             804\n",
       "www.theepochtimes.com          777\n",
       "abc17news.com                  763\n",
       "www.thehour.com                753\n",
       "stamfordadvocate.com           753\n",
       "www.businessinsider.in         741\n",
       "dtype: int64"
      ]
     },
     "execution_count": 11,
     "metadata": {},
     "output_type": "execute_result"
    }
   ],
   "source": [
    "medias = medias.sort_values(ascending = False)\n",
    "\n",
    "medias.head(30)"
   ]
  },
  {
   "cell_type": "markdown",
   "id": "7a8d2689",
   "metadata": {},
   "source": [
    "These are the most common ones. They are interesting, some familiar names like foxnews and nytimes are here, but not only. We can assume they are enough to pursue our bias analysis"
   ]
  },
  {
   "cell_type": "code",
   "execution_count": 12,
   "id": "3395ab54",
   "metadata": {},
   "outputs": [
    {
     "data": {
      "text/plain": [
       "41602"
      ]
     },
     "execution_count": 12,
     "metadata": {},
     "output_type": "execute_result"
    }
   ],
   "source": [
    "merge = merge[merge[\"media\"].isin(medias.nlargest(30).index)]\n"
   ]
  },
  {
   "cell_type": "markdown",
   "id": "a75cc973",
   "metadata": {},
   "source": [
    "## Sentiment per media "
   ]
  },
  {
   "cell_type": "markdown",
   "id": "c549e1c1",
   "metadata": {},
   "source": [
    "Now that we have our interesting subset, we need to do the bias analysis, the first step is adding the sentiment to all the quotes"
   ]
  },
  {
   "cell_type": "code",
   "execution_count": 13,
   "id": "5fb2143a",
   "metadata": {},
   "outputs": [
    {
     "name": "stderr",
     "output_type": "stream",
     "text": [
      "[nltk_data] Downloading package vader_lexicon to\n",
      "[nltk_data]     C:\\Users\\Kirsch\\AppData\\Roaming\\nltk_data...\n",
      "[nltk_data]   Package vader_lexicon is already up-to-date!\n"
     ]
    },
    {
     "data": {
      "text/plain": [
       "True"
      ]
     },
     "execution_count": 13,
     "metadata": {},
     "output_type": "execute_result"
    }
   ],
   "source": [
    "nltk.download('vader_lexicon')"
   ]
  },
  {
   "cell_type": "code",
   "execution_count": 14,
   "id": "1fb175d4",
   "metadata": {},
   "outputs": [
    {
     "data": {
      "text/html": [
       "<div>\n",
       "<style scoped>\n",
       "    .dataframe tbody tr th:only-of-type {\n",
       "        vertical-align: middle;\n",
       "    }\n",
       "\n",
       "    .dataframe tbody tr th {\n",
       "        vertical-align: top;\n",
       "    }\n",
       "\n",
       "    .dataframe thead th {\n",
       "        text-align: right;\n",
       "    }\n",
       "</style>\n",
       "<table border=\"1\" class=\"dataframe\">\n",
       "  <thead>\n",
       "    <tr style=\"text-align: right;\">\n",
       "      <th></th>\n",
       "      <th>quoteID</th>\n",
       "      <th>quotation</th>\n",
       "      <th>speaker</th>\n",
       "      <th>qids</th>\n",
       "      <th>date</th>\n",
       "      <th>numOccurrences</th>\n",
       "      <th>probas</th>\n",
       "      <th>phase</th>\n",
       "      <th>url</th>\n",
       "      <th>media</th>\n",
       "      <th>sentiment</th>\n",
       "    </tr>\n",
       "  </thead>\n",
       "  <tbody>\n",
       "    <tr>\n",
       "      <th>53229</th>\n",
       "      <td>2020-01-08-076772</td>\n",
       "      <td>The United States will continue to follow this...</td>\n",
       "      <td>Mike Pompeo</td>\n",
       "      <td>[Q473239]</td>\n",
       "      <td>2020-01-08 17:46:00</td>\n",
       "      <td>379</td>\n",
       "      <td>[[Mike Pompeo, 0.6815], [None, 0.3179], [`` Th...</td>\n",
       "      <td>E</td>\n",
       "      <td>https://www.news965.com/news/man-arrested-afte...</td>\n",
       "      <td>www.news965.com</td>\n",
       "      <td>0.5719</td>\n",
       "    </tr>\n",
       "    <tr>\n",
       "      <th>9966</th>\n",
       "      <td>2020-02-06-108023</td>\n",
       "      <td>traditionally does not consider itself entitle...</td>\n",
       "      <td>None</td>\n",
       "      <td>[]</td>\n",
       "      <td>2020-02-06 18:09:01</td>\n",
       "      <td>71</td>\n",
       "      <td>[[None, 0.7815], [Recep Tayyip Erdogan, 0.073]...</td>\n",
       "      <td>E</td>\n",
       "      <td>https://tass.com/economy/1117801</td>\n",
       "      <td>tass.com</td>\n",
       "      <td>0.2467</td>\n",
       "    </tr>\n",
       "    <tr>\n",
       "      <th>26838</th>\n",
       "      <td>2020-01-02-020549</td>\n",
       "      <td>I hate the Trump comparisons because Brazil is...</td>\n",
       "      <td>Olavo de Carvalho</td>\n",
       "      <td>[Q729048]</td>\n",
       "      <td>2020-01-02 10:05:30</td>\n",
       "      <td>170</td>\n",
       "      <td>[[Olavo de Carvalho, 0.5959], [None, 0.3701], ...</td>\n",
       "      <td>E</td>\n",
       "      <td>http://brazilbusiness.einnews.com/article/5061...</td>\n",
       "      <td>brazilbusiness.einnews.com</td>\n",
       "      <td>0.8402</td>\n",
       "    </tr>\n",
       "    <tr>\n",
       "      <th>10273</th>\n",
       "      <td>2020-02-16-037874</td>\n",
       "      <td>The 15 cases have been isolated. You're not go...</td>\n",
       "      <td>Marc Siegel</td>\n",
       "      <td>[Q16210416]</td>\n",
       "      <td>2020-02-16 00:00:00</td>\n",
       "      <td>1</td>\n",
       "      <td>[[Marc Siegel, 0.715], [None, 0.285]]</td>\n",
       "      <td>E</td>\n",
       "      <td>https://www.foxnews.com/media/dr-marc-siegel-c...</td>\n",
       "      <td>www.foxnews.com</td>\n",
       "      <td>-0.4494</td>\n",
       "    </tr>\n",
       "    <tr>\n",
       "      <th>39319</th>\n",
       "      <td>2020-02-06-108836</td>\n",
       "      <td>undermined our democratic institutions, making...</td>\n",
       "      <td>Zoe Lofgren</td>\n",
       "      <td>[Q218217]</td>\n",
       "      <td>2020-02-06 12:17:55</td>\n",
       "      <td>2</td>\n",
       "      <td>[[Zoe Lofgren, 0.7597], [None, 0.2403]]</td>\n",
       "      <td>E</td>\n",
       "      <td>http://www.breitbart.com/news/yovanovitch-says...</td>\n",
       "      <td>www.breitbart.com</td>\n",
       "      <td>0.4295</td>\n",
       "    </tr>\n",
       "  </tbody>\n",
       "</table>\n",
       "</div>"
      ],
      "text/plain": [
       "                 quoteID                                          quotation  \\\n",
       "53229  2020-01-08-076772  The United States will continue to follow this...   \n",
       "9966   2020-02-06-108023  traditionally does not consider itself entitle...   \n",
       "26838  2020-01-02-020549  I hate the Trump comparisons because Brazil is...   \n",
       "10273  2020-02-16-037874  The 15 cases have been isolated. You're not go...   \n",
       "39319  2020-02-06-108836  undermined our democratic institutions, making...   \n",
       "\n",
       "                 speaker         qids                date  numOccurrences  \\\n",
       "53229        Mike Pompeo    [Q473239] 2020-01-08 17:46:00             379   \n",
       "9966                None           [] 2020-02-06 18:09:01              71   \n",
       "26838  Olavo de Carvalho    [Q729048] 2020-01-02 10:05:30             170   \n",
       "10273        Marc Siegel  [Q16210416] 2020-02-16 00:00:00               1   \n",
       "39319        Zoe Lofgren    [Q218217] 2020-02-06 12:17:55               2   \n",
       "\n",
       "                                                  probas phase  \\\n",
       "53229  [[Mike Pompeo, 0.6815], [None, 0.3179], [`` Th...     E   \n",
       "9966   [[None, 0.7815], [Recep Tayyip Erdogan, 0.073]...     E   \n",
       "26838  [[Olavo de Carvalho, 0.5959], [None, 0.3701], ...     E   \n",
       "10273              [[Marc Siegel, 0.715], [None, 0.285]]     E   \n",
       "39319            [[Zoe Lofgren, 0.7597], [None, 0.2403]]     E   \n",
       "\n",
       "                                                     url  \\\n",
       "53229  https://www.news965.com/news/man-arrested-afte...   \n",
       "9966                    https://tass.com/economy/1117801   \n",
       "26838  http://brazilbusiness.einnews.com/article/5061...   \n",
       "10273  https://www.foxnews.com/media/dr-marc-siegel-c...   \n",
       "39319  http://www.breitbart.com/news/yovanovitch-says...   \n",
       "\n",
       "                            media  sentiment  \n",
       "53229             www.news965.com     0.5719  \n",
       "9966                     tass.com     0.2467  \n",
       "26838  brazilbusiness.einnews.com     0.8402  \n",
       "10273             www.foxnews.com    -0.4494  \n",
       "39319           www.breitbart.com     0.4295  "
      ]
     },
     "execution_count": 14,
     "metadata": {},
     "output_type": "execute_result"
    }
   ],
   "source": [
    "sia = SentimentIntensityAnalyzer()\n",
    "# predict the sentiment of each quotation in the range [-1, 1]\n",
    "merge[\"sentiment\"] = merge.quotation.apply(lambda x: sia.polarity_scores(x)[\"compound\"])\n",
    "merge.sample(n=5)"
   ]
  },
  {
   "cell_type": "code",
   "execution_count": 61,
   "id": "6a9023f1",
   "metadata": {},
   "outputs": [
    {
     "data": {
      "text/plain": [
       "media\n",
       "brazilbusiness.einnews.com    0.428117\n",
       "feeds.cbsnews.com             0.096391\n",
       "hypervocal.com                0.183183\n",
       "kvia.com                      0.218628\n",
       "msn.com                       0.133030\n",
       "newsok.com                    0.288327\n",
       "tass.com                      0.157565\n",
       "thehill.com                   0.191477\n",
       "uspolitics.einnews.com        0.204984\n",
       "wtmj.com                      0.181558\n",
       "www.breitbart.com             0.141898\n",
       "www.deccanherald.com          0.189604\n",
       "www.foxnews.com               0.165424\n",
       "www.krmg.com                 -0.078214\n",
       "www.msn.com                   0.167281\n",
       "www.nbcnews.com               0.177351\n",
       "www.news965.com               0.144127\n",
       "www.nhregister.com            0.211891\n",
       "www.nytimes.com               0.248611\n",
       "www.rawstory.com              0.022956\n",
       "www.timesofisrael.com         0.076766\n",
       "www.washingtonexaminer.com    0.152103\n",
       "www.washingtontimes.com       0.211978\n",
       "www.wokv.com                  0.101577\n",
       "www.wsbradio.com              0.250972\n",
       "Name: sentiment, dtype: float64"
      ]
     },
     "execution_count": 61,
     "metadata": {},
     "output_type": "execute_result"
    }
   ],
   "source": [
    "merge1 = merge[merge[\"media\"].isin(medias.nlargest(25).index)]\n",
    "\n",
    "#Get sentiment of top 30 medias\n",
    "media_sentiment = merge1.groupby(\"media\")[\"sentiment\"].mean()\n",
    "media_sentiment"
   ]
  },
  {
   "cell_type": "markdown",
   "id": "c4c6996e",
   "metadata": {},
   "source": [
    "We can see some variation, but most fall quite close to 0. Plotting these values would give more insight\n"
   ]
  },
  {
   "cell_type": "code",
   "execution_count": 75,
   "id": "68863615",
   "metadata": {},
   "outputs": [
    {
     "data": {
      "text/plain": [
       "Text(0.5, 1.0, 'Mean sentiment analysis per media')"
      ]
     },
     "execution_count": 75,
     "metadata": {},
     "output_type": "execute_result"
    },
    {
     "data": {
      "image/png": "[encoded data removed]",
      "text/plain": [
       "<Figure size 1584x720 with 1 Axes>"
      ]
     },
     "metadata": {
      "needs_background": "light"
     },
     "output_type": "display_data"
    }
   ],
   "source": [
    "#Plot the mean scores per media\n",
    "merge1 = merge[merge[\"media\"].isin(medias.nlargest(25).index)]\n",
    "\n",
    "fig_dims = (22, 10)\n",
    "fig, ax = plt.subplots(figsize=fig_dims)\n",
    "plt.xticks(rotation=90, size = 15)\n",
    "plt.bar(media_sentiment.index, media_sentiment)\n",
    "plt.xlabel(\"Media\",size = 20)\n",
    "plt.ylabel(\"Sentiment score\", size = 20)\n",
    "plt.title(\"Mean sentiment analysis per media\", size = 30)"
   ]
  },
  {
   "cell_type": "markdown",
   "id": "389e1c07",
   "metadata": {},
   "source": [
    "Most seem to be between 0.2 and 0.4, but seems to an extreme value for einnews. To see if they are common, it is interesting to compare the distribution of all medias. To do so we compute a p-value matrix"
   ]
  },
  {
   "cell_type": "code",
   "execution_count": 36,
   "id": "f7daa200",
   "metadata": {},
   "outputs": [
    {
     "data": {
      "text/plain": [
       "900"
      ]
     },
     "execution_count": 36,
     "metadata": {},
     "output_type": "execute_result"
    }
   ],
   "source": [
    "#Perform a p-value on the t-test to see if the two sample come from the same distribution\n",
    "t = []\n",
    "for i in range(len(a)) : \n",
    "    for j in range(len(a)) : \n",
    "        wokv = merge[merge[\"media\"] == a[i]]\n",
    "        einews = merge[merge[\"media\"] == a[j]]\n",
    "        _, p_value = ttest_ind(einews.sentiment,wokv.sentiment,\n",
    "                        alternative='two-sided')\n",
    "        t.append(p_value)\n",
    "\n",
    "len(t)\n",
    "\n"
   ]
  },
  {
   "cell_type": "markdown",
   "id": "25b71289",
   "metadata": {},
   "source": [
    "Given the potential outlier, it is interesting to look at its distribution compared to the others and also compare all distributions"
   ]
  },
  {
   "cell_type": "code",
   "execution_count": 80,
   "id": "b6315d65",
   "metadata": {},
   "outputs": [],
   "source": [
    "df = pd.DataFrame(list(zip(r, b, t)),\n",
    "               columns =['Media A', 'Media B', 'p-value'])\n",
    "\n",
    "df.head()\n",
    "\n",
    "for i in range(len(df)): \n",
    "    if df.iloc[i,-1] < 0.05 : \n",
    "        df.iloc[i,-1] = 0\n",
    "    else : \n",
    "        df.iloc[i,-1] = 1\n",
    "        \n",
    "m = df.pivot(index='Media A', columns='Media B', values='p-value')\n"
   ]
  },
  {
   "cell_type": "code",
   "execution_count": 82,
   "id": "e224c2d8",
   "metadata": {},
   "outputs": [
    {
     "data": {
      "image/png": "[encoded data removed]",
      "text/plain": [
       "<Figure size 792x648 with 2 Axes>"
      ]
     },
     "metadata": {
      "needs_background": "light"
     },
     "output_type": "display_data"
    }
   ],
   "source": [
    "fig, ax = plt.subplots(figsize=(11, 9))\n",
    "# plot heatmap\n",
    "sns.heatmap(m, cmap=\"Blues\", vmin= 0, vmax=0.10,\n",
    "           linewidth=0.3, cbar_kws={\"shrink\": .8})\n",
    "plt.title(\"P-value between the sentiments of the\\n different medias \\n\", size = 20)\n",
    "plt.show()"
   ]
  },
  {
   "cell_type": "markdown",
   "id": "bbb99ad3",
   "metadata": {},
   "source": [
    "As the null hypothesis is rejected, there seems to be clear differences between Einnews and all the other medias. It is indeed the only media with no similar distribution to any other media"
   ]
  },
  {
   "cell_type": "markdown",
   "id": "04f8edb0",
   "metadata": {},
   "source": [
    "### Countries per media "
   ]
  },
  {
   "cell_type": "markdown",
   "id": "90c4a852",
   "metadata": {},
   "source": [
    "Something interesting is how the number of nationalities per media relates to its sentiment. To find this, we first need to get the nationalities from Wikidata"
   ]
  },
  {
   "cell_type": "code",
   "execution_count": 94,
   "id": "7b197321",
   "metadata": {},
   "outputs": [
    {
     "data": {
      "text/html": [
       "<div>\n",
       "<style scoped>\n",
       "    .dataframe tbody tr th:only-of-type {\n",
       "        vertical-align: middle;\n",
       "    }\n",
       "\n",
       "    .dataframe tbody tr th {\n",
       "        vertical-align: top;\n",
       "    }\n",
       "\n",
       "    .dataframe thead th {\n",
       "        text-align: right;\n",
       "    }\n",
       "</style>\n",
       "<table border=\"1\" class=\"dataframe\">\n",
       "  <thead>\n",
       "    <tr style=\"text-align: right;\">\n",
       "      <th></th>\n",
       "      <th>id</th>\n",
       "      <th>nationality</th>\n",
       "    </tr>\n",
       "  </thead>\n",
       "  <tbody>\n",
       "    <tr>\n",
       "      <th>0</th>\n",
       "      <td>Q23</td>\n",
       "      <td>[Q161885, Q30]</td>\n",
       "    </tr>\n",
       "    <tr>\n",
       "      <th>1</th>\n",
       "      <td>Q42</td>\n",
       "      <td>[Q145]</td>\n",
       "    </tr>\n",
       "    <tr>\n",
       "      <th>2</th>\n",
       "      <td>Q1868</td>\n",
       "      <td>[Q31]</td>\n",
       "    </tr>\n",
       "    <tr>\n",
       "      <th>3</th>\n",
       "      <td>Q207</td>\n",
       "      <td>[Q30]</td>\n",
       "    </tr>\n",
       "    <tr>\n",
       "      <th>4</th>\n",
       "      <td>Q297</td>\n",
       "      <td>[Q29]</td>\n",
       "    </tr>\n",
       "  </tbody>\n",
       "</table>\n",
       "</div>"
      ],
      "text/plain": [
       "      id     nationality\n",
       "0    Q23  [Q161885, Q30]\n",
       "1    Q42          [Q145]\n",
       "2  Q1868           [Q31]\n",
       "3   Q207           [Q30]\n",
       "4   Q297           [Q29]"
      ]
     },
     "execution_count": 94,
     "metadata": {},
     "output_type": "execute_result"
    }
   ],
   "source": [
    "speaker_df = pd.read_parquet(\"../Data - Project/speaker_attributes.parquet\")\n",
    "speaker_df = speaker_df[['id', 'nationality']]\n",
    "speaker_df.head()"
   ]
  },
  {
   "cell_type": "code",
   "execution_count": 95,
   "id": "959ce693",
   "metadata": {},
   "outputs": [],
   "source": [
    "no_none = merge[merge[\"speaker\"] != \"None\"]"
   ]
  },
  {
   "cell_type": "code",
   "execution_count": 96,
   "id": "c0fef091",
   "metadata": {},
   "outputs": [
    {
     "name": "stderr",
     "output_type": "stream",
     "text": [
      "C:\\Users\\Kirsch\\Anaconda3\\lib\\site-packages\\ipykernel_launcher.py:1: SettingWithCopyWarning: \n",
      "A value is trying to be set on a copy of a slice from a DataFrame.\n",
      "Try using .loc[row_indexer,col_indexer] = value instead\n",
      "\n",
      "See the caveats in the documentation: https://pandas.pydata.org/pandas-docs/stable/user_guide/indexing.html#returning-a-view-versus-a-copy\n",
      "  \"\"\"Entry point for launching an IPython kernel.\n"
     ]
    },
    {
     "data": {
      "text/html": [
       "<div>\n",
       "<style scoped>\n",
       "    .dataframe tbody tr th:only-of-type {\n",
       "        vertical-align: middle;\n",
       "    }\n",
       "\n",
       "    .dataframe tbody tr th {\n",
       "        vertical-align: top;\n",
       "    }\n",
       "\n",
       "    .dataframe thead th {\n",
       "        text-align: right;\n",
       "    }\n",
       "</style>\n",
       "<table border=\"1\" class=\"dataframe\">\n",
       "  <thead>\n",
       "    <tr style=\"text-align: right;\">\n",
       "      <th></th>\n",
       "      <th>quoteID</th>\n",
       "      <th>quotation</th>\n",
       "      <th>speaker</th>\n",
       "      <th>qids</th>\n",
       "      <th>date</th>\n",
       "      <th>numOccurrences</th>\n",
       "      <th>probas</th>\n",
       "      <th>phase</th>\n",
       "      <th>url</th>\n",
       "      <th>media</th>\n",
       "      <th>sentiment</th>\n",
       "      <th>speaker_id</th>\n",
       "      <th>id</th>\n",
       "      <th>nationality</th>\n",
       "    </tr>\n",
       "  </thead>\n",
       "  <tbody>\n",
       "    <tr>\n",
       "      <th>20201</th>\n",
       "      <td>2020-02-01-060236</td>\n",
       "      <td>We've informed the Israeli side... that there ...</td>\n",
       "      <td>Mahmoud Abbas</td>\n",
       "      <td>[Q10515624, Q127998, Q45193693]</td>\n",
       "      <td>2020-02-01 05:00:00</td>\n",
       "      <td>50</td>\n",
       "      <td>[[Mahmoud Abbas, 0.6789], [None, 0.2329], [Ben...</td>\n",
       "      <td>E</td>\n",
       "      <td>https://www.rawstory.com/2020/02/palestinians-...</td>\n",
       "      <td>www.rawstory.com</td>\n",
       "      <td>0.4588</td>\n",
       "      <td>Q10515624</td>\n",
       "      <td>Q10515624</td>\n",
       "      <td>[Q801]</td>\n",
       "    </tr>\n",
       "    <tr>\n",
       "      <th>6683</th>\n",
       "      <td>2020-01-21-080434</td>\n",
       "      <td>The work that we've done over these past month...</td>\n",
       "      <td>Mike Pompeo</td>\n",
       "      <td>[Q473239]</td>\n",
       "      <td>2020-01-21 00:37:45</td>\n",
       "      <td>2</td>\n",
       "      <td>[[Mike Pompeo, 0.9319], [None, 0.0614], [Nicol...</td>\n",
       "      <td>E</td>\n",
       "      <td>http://www.breitbart.com/news/pompeo-reiterate...</td>\n",
       "      <td>www.breitbart.com</td>\n",
       "      <td>0.6705</td>\n",
       "      <td>Q473239</td>\n",
       "      <td>Q473239</td>\n",
       "      <td>[Q30]</td>\n",
       "    </tr>\n",
       "    <tr>\n",
       "      <th>13525</th>\n",
       "      <td>2020-04-06-049116</td>\n",
       "      <td>These numbers are alarming, but firefighters a...</td>\n",
       "      <td>Camilla , Duchess of Cornwall</td>\n",
       "      <td>[Q152239]</td>\n",
       "      <td>2020-04-06 08:47:00</td>\n",
       "      <td>123</td>\n",
       "      <td>[[Camilla , Duchess of Cornwall, 0.5948], [Non...</td>\n",
       "      <td>E</td>\n",
       "      <td>https://www.wsbradio.com/news/national/pennsyl...</td>\n",
       "      <td>www.wsbradio.com</td>\n",
       "      <td>0.5346</td>\n",
       "      <td>Q152239</td>\n",
       "      <td>Q152239</td>\n",
       "      <td>[Q145]</td>\n",
       "    </tr>\n",
       "    <tr>\n",
       "      <th>14224</th>\n",
       "      <td>2020-03-11-002460</td>\n",
       "      <td>Alarmingly, the president did not say how the ...</td>\n",
       "      <td>Charles Schumer</td>\n",
       "      <td>[Q380900]</td>\n",
       "      <td>2020-03-11 15:06:17</td>\n",
       "      <td>191</td>\n",
       "      <td>[[Charles Schumer, 0.4737], [Nancy Pelosi, 0.3...</td>\n",
       "      <td>E</td>\n",
       "      <td>https://www.krmg.com/weather/fox23-thursday-ov...</td>\n",
       "      <td>www.krmg.com</td>\n",
       "      <td>-0.4767</td>\n",
       "      <td>Q380900</td>\n",
       "      <td>Q380900</td>\n",
       "      <td>[Q30]</td>\n",
       "    </tr>\n",
       "    <tr>\n",
       "      <th>19677</th>\n",
       "      <td>2020-01-25-011150</td>\n",
       "      <td>has shown himself to be the most pro-Israel pr...</td>\n",
       "      <td>John Hagee</td>\n",
       "      <td>[Q861718]</td>\n",
       "      <td>2020-01-25 00:00:00</td>\n",
       "      <td>43</td>\n",
       "      <td>[[John Hagee, 0.8318], [None, 0.1033], [Presid...</td>\n",
       "      <td>E</td>\n",
       "      <td>http://www.thehour.com/news/article/Politics-w...</td>\n",
       "      <td>www.thehour.com</td>\n",
       "      <td>0.5809</td>\n",
       "      <td>Q861718</td>\n",
       "      <td>Q861718</td>\n",
       "      <td>[Q30]</td>\n",
       "    </tr>\n",
       "  </tbody>\n",
       "</table>\n",
       "</div>"
      ],
      "text/plain": [
       "                 quoteID                                          quotation  \\\n",
       "20201  2020-02-01-060236  We've informed the Israeli side... that there ...   \n",
       "6683   2020-01-21-080434  The work that we've done over these past month...   \n",
       "13525  2020-04-06-049116  These numbers are alarming, but firefighters a...   \n",
       "14224  2020-03-11-002460  Alarmingly, the president did not say how the ...   \n",
       "19677  2020-01-25-011150  has shown himself to be the most pro-Israel pr...   \n",
       "\n",
       "                             speaker                             qids  \\\n",
       "20201                  Mahmoud Abbas  [Q10515624, Q127998, Q45193693]   \n",
       "6683                     Mike Pompeo                        [Q473239]   \n",
       "13525  Camilla , Duchess of Cornwall                        [Q152239]   \n",
       "14224                Charles Schumer                        [Q380900]   \n",
       "19677                     John Hagee                        [Q861718]   \n",
       "\n",
       "                     date  numOccurrences  \\\n",
       "20201 2020-02-01 05:00:00              50   \n",
       "6683  2020-01-21 00:37:45               2   \n",
       "13525 2020-04-06 08:47:00             123   \n",
       "14224 2020-03-11 15:06:17             191   \n",
       "19677 2020-01-25 00:00:00              43   \n",
       "\n",
       "                                                  probas phase  \\\n",
       "20201  [[Mahmoud Abbas, 0.6789], [None, 0.2329], [Ben...     E   \n",
       "6683   [[Mike Pompeo, 0.9319], [None, 0.0614], [Nicol...     E   \n",
       "13525  [[Camilla , Duchess of Cornwall, 0.5948], [Non...     E   \n",
       "14224  [[Charles Schumer, 0.4737], [Nancy Pelosi, 0.3...     E   \n",
       "19677  [[John Hagee, 0.8318], [None, 0.1033], [Presid...     E   \n",
       "\n",
       "                                                     url              media  \\\n",
       "20201  https://www.rawstory.com/2020/02/palestinians-...   www.rawstory.com   \n",
       "6683   http://www.breitbart.com/news/pompeo-reiterate...  www.breitbart.com   \n",
       "13525  https://www.wsbradio.com/news/national/pennsyl...   www.wsbradio.com   \n",
       "14224  https://www.krmg.com/weather/fox23-thursday-ov...       www.krmg.com   \n",
       "19677  http://www.thehour.com/news/article/Politics-w...    www.thehour.com   \n",
       "\n",
       "       sentiment speaker_id         id nationality  \n",
       "20201     0.4588  Q10515624  Q10515624      [Q801]  \n",
       "6683      0.6705    Q473239    Q473239       [Q30]  \n",
       "13525     0.5346    Q152239    Q152239      [Q145]  \n",
       "14224    -0.4767    Q380900    Q380900       [Q30]  \n",
       "19677     0.5809    Q861718    Q861718       [Q30]  "
      ]
     },
     "execution_count": 96,
     "metadata": {},
     "output_type": "execute_result"
    }
   ],
   "source": [
    "no_none[\"speaker_id\"] = no_none.qids.map(lambda x: x[0])\n",
    "\n",
    "#join US_data with the corresponding speakers' attributes\n",
    "nn_merge = pd.merge(no_none, speaker_df, left_on=['speaker_id'], right_on=['id'], how='inner')\n",
    "nn_merge.sample(n=5)"
   ]
  },
  {
   "cell_type": "code",
   "execution_count": 100,
   "id": "d5b21795",
   "metadata": {},
   "outputs": [],
   "source": [
    "import sys\n",
    "from SPARQLWrapper import SPARQLWrapper, JSON\n",
    "\n",
    "                                                                                                                                                                                                            endpoint_url = \"https://query.wikidata.org/sparql\"\n",
    "\n",
    "#sparkql query to get the country name and their respective quids from wikidata\n",
    "query = \"\"\"#List of present-day countries and capital(s)\n",
    "SELECT DISTINCT ?country ?countryLabel\n",
    "WHERE\n",
    "{\n",
    "  ?country wdt:P31 wd:Q3624078 .\n",
    "\n",
    "  SERVICE wikibase:label { bd:serviceParam wikibase:language \"en\" }\n",
    "}\n",
    "ORDER BY ?countryLabel\"\"\"\n",
    "\n",
    "'''\n",
    "query internet dataset:\n",
    "endpoint_url (string): url of corresponding dataset\n",
    "query (string): sparksql query\n",
    "'''\n",
    "def get_results(endpoint_url, query):\n",
    "    user_agent = \"WDQS-example Python/%s.%s\" % (sys.version_info[0], sys.version_info[1])\n",
    "    # TODO adjust user agent; see https://w.wiki/CX6\n",
    "    sparql = SPARQLWrapper(endpoint_url, agent=user_agent)\n",
    "    sparql.setQuery(query)\n",
    "    sparql.setReturnFormat(JSON)\n",
    "    return sparql.query().convert()\n",
    "\n",
    "\n",
    "results = get_results(endpoint_url, query)\n",
    "\n",
    "#Build a country dictionnary {quid, country name}\n",
    "country_dict = {}\n",
    "for result in results[\"results\"][\"bindings\"]:\n",
    "    country_id = result[\"country\"]['value'].split('/')[-1]\n",
    "    country_dict[country_id] = result[\"countryLabel\"]['value']"
   ]
  },
  {
   "cell_type": "code",
   "execution_count": 101,
   "id": "1e933cd1",
   "metadata": {},
   "outputs": [
    {
     "data": {
      "text/html": [
       "<div>\n",
       "<style scoped>\n",
       "    .dataframe tbody tr th:only-of-type {\n",
       "        vertical-align: middle;\n",
       "    }\n",
       "\n",
       "    .dataframe tbody tr th {\n",
       "        vertical-align: top;\n",
       "    }\n",
       "\n",
       "    .dataframe thead th {\n",
       "        text-align: right;\n",
       "    }\n",
       "</style>\n",
       "<table border=\"1\" class=\"dataframe\">\n",
       "  <thead>\n",
       "    <tr style=\"text-align: right;\">\n",
       "      <th></th>\n",
       "      <th>quoteID</th>\n",
       "      <th>quotation</th>\n",
       "      <th>speaker</th>\n",
       "      <th>qids</th>\n",
       "      <th>date</th>\n",
       "      <th>numOccurrences</th>\n",
       "      <th>probas</th>\n",
       "      <th>phase</th>\n",
       "      <th>url</th>\n",
       "      <th>media</th>\n",
       "      <th>sentiment</th>\n",
       "      <th>speaker_id</th>\n",
       "      <th>id</th>\n",
       "      <th>nationality</th>\n",
       "    </tr>\n",
       "  </thead>\n",
       "  <tbody>\n",
       "    <tr>\n",
       "      <th>18961</th>\n",
       "      <td>2020-02-16-011186</td>\n",
       "      <td>He thought it was -- so he thought it was very...</td>\n",
       "      <td>Arsen Avakov</td>\n",
       "      <td>[Q2471745, Q704389]</td>\n",
       "      <td>2020-02-16 12:06:00</td>\n",
       "      <td>8</td>\n",
       "      <td>[[Arsen Avakov, 0.5546], [None, 0.3762], [Rudy...</td>\n",
       "      <td>E</td>\n",
       "      <td>https://www.nbcnews.com/politics/trump-impeach...</td>\n",
       "      <td>www.nbcnews.com</td>\n",
       "      <td>-0.6232</td>\n",
       "      <td>Q2471745</td>\n",
       "      <td>Q2471745</td>\n",
       "      <td>Russia</td>\n",
       "    </tr>\n",
       "    <tr>\n",
       "      <th>7104</th>\n",
       "      <td>2020-01-08-076772</td>\n",
       "      <td>The United States will continue to follow this...</td>\n",
       "      <td>Mike Pompeo</td>\n",
       "      <td>[Q473239]</td>\n",
       "      <td>2020-01-08 17:46:00</td>\n",
       "      <td>379</td>\n",
       "      <td>[[Mike Pompeo, 0.6815], [None, 0.3179], [`` Th...</td>\n",
       "      <td>E</td>\n",
       "      <td>https://www.news965.com/news/video-hundreds-ce...</td>\n",
       "      <td>www.news965.com</td>\n",
       "      <td>0.5719</td>\n",
       "      <td>Q473239</td>\n",
       "      <td>Q473239</td>\n",
       "      <td>United States of America</td>\n",
       "    </tr>\n",
       "    <tr>\n",
       "      <th>23879</th>\n",
       "      <td>2020-01-03-061712</td>\n",
       "      <td>The US and Iran have been engaged in a dangero...</td>\n",
       "      <td>Abu Bakr al-Baghdadi</td>\n",
       "      <td>[Q2821724]</td>\n",
       "      <td>2020-01-03 07:40:04</td>\n",
       "      <td>7</td>\n",
       "      <td>[[Abu Bakr al-Baghdadi, 0.3857], [None, 0.3071...</td>\n",
       "      <td>E</td>\n",
       "      <td>https://kvia.com/news/us-world/2020/01/03/us-s...</td>\n",
       "      <td>kvia.com</td>\n",
       "      <td>-0.0516</td>\n",
       "      <td>Q2821724</td>\n",
       "      <td>Q2821724</td>\n",
       "      <td>NaN</td>\n",
       "    </tr>\n",
       "    <tr>\n",
       "      <th>11111</th>\n",
       "      <td>2020-02-22-017122</td>\n",
       "      <td>implausibly alleges that the submission of thr...</td>\n",
       "      <td>Devin Nunes</td>\n",
       "      <td>[Q539493]</td>\n",
       "      <td>2020-02-22 21:21:47</td>\n",
       "      <td>1</td>\n",
       "      <td>[[Devin Nunes, 0.6301], [None, 0.3699]]</td>\n",
       "      <td>E</td>\n",
       "      <td>https://www.washingtonexaminer.com/news/devin-...</td>\n",
       "      <td>www.washingtonexaminer.com</td>\n",
       "      <td>-0.7269</td>\n",
       "      <td>Q539493</td>\n",
       "      <td>Q539493</td>\n",
       "      <td>United States of America</td>\n",
       "    </tr>\n",
       "    <tr>\n",
       "      <th>3455</th>\n",
       "      <td>2020-02-04-076173</td>\n",
       "      <td>Thanks to our bold regulatory reduction campai...</td>\n",
       "      <td>President Donald Trump</td>\n",
       "      <td>[Q22686]</td>\n",
       "      <td>2020-02-04 00:00:00</td>\n",
       "      <td>129</td>\n",
       "      <td>[[President Donald Trump, 0.7151], [None, 0.17...</td>\n",
       "      <td>E</td>\n",
       "      <td>http://www.nhregister.com/news/crime/article/A...</td>\n",
       "      <td>www.nhregister.com</td>\n",
       "      <td>0.8779</td>\n",
       "      <td>Q22686</td>\n",
       "      <td>Q22686</td>\n",
       "      <td>United States of America</td>\n",
       "    </tr>\n",
       "  </tbody>\n",
       "</table>\n",
       "</div>"
      ],
      "text/plain": [
       "                 quoteID                                          quotation  \\\n",
       "18961  2020-02-16-011186  He thought it was -- so he thought it was very...   \n",
       "7104   2020-01-08-076772  The United States will continue to follow this...   \n",
       "23879  2020-01-03-061712  The US and Iran have been engaged in a dangero...   \n",
       "11111  2020-02-22-017122  implausibly alleges that the submission of thr...   \n",
       "3455   2020-02-04-076173  Thanks to our bold regulatory reduction campai...   \n",
       "\n",
       "                      speaker                 qids                date  \\\n",
       "18961            Arsen Avakov  [Q2471745, Q704389] 2020-02-16 12:06:00   \n",
       "7104              Mike Pompeo            [Q473239] 2020-01-08 17:46:00   \n",
       "23879    Abu Bakr al-Baghdadi           [Q2821724] 2020-01-03 07:40:04   \n",
       "11111             Devin Nunes            [Q539493] 2020-02-22 21:21:47   \n",
       "3455   President Donald Trump             [Q22686] 2020-02-04 00:00:00   \n",
       "\n",
       "       numOccurrences                                             probas  \\\n",
       "18961               8  [[Arsen Avakov, 0.5546], [None, 0.3762], [Rudy...   \n",
       "7104              379  [[Mike Pompeo, 0.6815], [None, 0.3179], [`` Th...   \n",
       "23879               7  [[Abu Bakr al-Baghdadi, 0.3857], [None, 0.3071...   \n",
       "11111               1            [[Devin Nunes, 0.6301], [None, 0.3699]]   \n",
       "3455              129  [[President Donald Trump, 0.7151], [None, 0.17...   \n",
       "\n",
       "      phase                                                url  \\\n",
       "18961     E  https://www.nbcnews.com/politics/trump-impeach...   \n",
       "7104      E  https://www.news965.com/news/video-hundreds-ce...   \n",
       "23879     E  https://kvia.com/news/us-world/2020/01/03/us-s...   \n",
       "11111     E  https://www.washingtonexaminer.com/news/devin-...   \n",
       "3455      E  http://www.nhregister.com/news/crime/article/A...   \n",
       "\n",
       "                            media  sentiment speaker_id        id  \\\n",
       "18961             www.nbcnews.com    -0.6232   Q2471745  Q2471745   \n",
       "7104              www.news965.com     0.5719    Q473239   Q473239   \n",
       "23879                    kvia.com    -0.0516   Q2821724  Q2821724   \n",
       "11111  www.washingtonexaminer.com    -0.7269    Q539493   Q539493   \n",
       "3455           www.nhregister.com     0.8779     Q22686    Q22686   \n",
       "\n",
       "                    nationality  \n",
       "18961                    Russia  \n",
       "7104   United States of America  \n",
       "23879                       NaN  \n",
       "11111  United States of America  \n",
       "3455   United States of America  "
      ]
     },
     "execution_count": 101,
     "metadata": {},
     "output_type": "execute_result"
    }
   ],
   "source": [
    "# Add nationality of speaker from the country dictionnary\n",
    "merg_nation = nn_merge.explode('nationality')\n",
    "merg_nation.nationality = merg_nation.nationality.map(country_dict)\n",
    "merg_nation.sample(n=5)"
   ]
  },
  {
   "cell_type": "code",
   "execution_count": 102,
   "id": "bc451a7d",
   "metadata": {},
   "outputs": [
    {
     "data": {
      "text/plain": [
       "media\n",
       "abc17news.com                 23\n",
       "brazilbusiness.einnews.com     6\n",
       "feeds.cbsnews.com             16\n",
       "hypervocal.com                23\n",
       "kvia.com                      41\n",
       "msn.com                       48\n",
       "newsok.com                    27\n",
       "stamfordadvocate.com          34\n",
       "tass.com                      22\n",
       "thehill.com                   28\n",
       "uspolitics.einnews.com        16\n",
       "wtmj.com                      37\n",
       "www.breitbart.com             59\n",
       "www.businessinsider.in        19\n",
       "www.deccanherald.com          24\n",
       "www.foxnews.com               26\n",
       "www.krmg.com                  14\n",
       "www.msn.com                   51\n",
       "www.nbcnews.com               26\n",
       "www.news965.com               15\n",
       "www.nhregister.com            39\n",
       "www.nytimes.com               28\n",
       "www.rawstory.com              22\n",
       "www.theepochtimes.com         27\n",
       "www.thehour.com               38\n",
       "www.timesofisrael.com         23\n",
       "www.washingtonexaminer.com    28\n",
       "www.washingtontimes.com       46\n",
       "www.wokv.com                  19\n",
       "www.wsbradio.com              16\n",
       "Name: nationality, dtype: int64"
      ]
     },
     "execution_count": 102,
     "metadata": {},
     "output_type": "execute_result"
    }
   ],
   "source": [
    "merg_nation.groupby(\"media\")[\"nationality\"].nunique()"
   ]
  },
  {
   "cell_type": "markdown",
   "id": "a452b204",
   "metadata": {},
   "source": [
    "We can now plot number of nationality against sentiment score"
   ]
  },
  {
   "cell_type": "code",
   "execution_count": 109,
   "id": "59cb8798",
   "metadata": {},
   "outputs": [
    {
     "data": {
      "text/plain": [
       "<matplotlib.collections.PathCollection at 0x23416d0ff28>"
      ]
     },
     "execution_count": 109,
     "metadata": {},
     "output_type": "execute_result"
    },
    {
     "data": {
      "image/png": "[encoded data removed]",
      "text/plain": [
       "<Figure size 432x288 with 1 Axes>"
      ]
     },
     "metadata": {
      "needs_background": "light"
     },
     "output_type": "display_data"
    }
   ],
   "source": [
    "plt.title(\"Sentiment score per number of nationality in the media\")\n",
    "plt.ylabel(\"Sentiment score\")\n",
    "plt.xlabel(\"Number of speaker nationality\")\n",
    "plt.scatter(merg_nation.groupby(\"media\")[\"nationality\"].nunique(),merg_nation.groupby(\"media\")[\"sentiment\"].mean())"
   ]
  },
  {
   "cell_type": "markdown",
   "id": "3860155c",
   "metadata": {},
   "source": [
    "Extreme values come from low number of countries "
   ]
  }
 ],
 "metadata": {
  "kernelspec": {
   "display_name": "Python 3 (ipykernel)",
   "language": "python",
   "name": "python3"
  },
  "language_info": {
   "codemirror_mode": {
    "name": "ipython",
    "version": 3
   },
   "file_extension": ".py",
   "mimetype": "text/x-python",
   "name": "python",
   "nbconvert_exporter": "python",
   "pygments_lexer": "ipython3",
   "version": "3.7.3"
  }
 },
 "nbformat": 4,
 "nbformat_minor": 5
}
